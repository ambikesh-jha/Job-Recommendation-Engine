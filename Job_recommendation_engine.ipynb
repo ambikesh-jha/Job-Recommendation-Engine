{
 "cells": [
  {
   "cell_type": "markdown",
   "metadata": {},
   "source": [
    "# Job recommendation system"
   ]
  },
  {
   "cell_type": "markdown",
   "metadata": {},
   "source": [
    "##### Work FLow \n",
    "1. Which country, state and city are popular among job creator?\n",
    "2. Which country, state and city are popular among job seekers?\n",
    "3. Recommend similar jobs based on the jobs title, description\n",
    "4. Recommend jobs based on similar user profiles"
   ]
  },
  {
   "cell_type": "markdown",
   "metadata": {},
   "source": [
    "## Import dependencies"
   ]
  },
  {
   "cell_type": "code",
   "execution_count": 1,
   "metadata": {},
   "outputs": [],
   "source": [
    "%matplotlib inline\n",
    "import matplotlib.pyplot as plt\n",
    "import seaborn as sns\n",
    "import pandas as pd\n",
    "import numpy as np\n",
    "import ast \n",
    "from scipy import stats\n",
    "from ast import literal_eval\n",
    "from sklearn.feature_extraction.text import TfidfVectorizer, CountVectorizer\n",
    "from sklearn.metrics.pairwise import linear_kernel, cosine_similarity\n",
    "\n",
    "import warnings; warnings.simplefilter('ignore')"
   ]
  },
  {
   "cell_type": "code",
   "execution_count": 2,
   "metadata": {},
   "outputs": [
    {
     "name": "stdout",
     "output_type": "stream",
     "text": [
      "Defaulting to user installation because normal site-packages is not writeable\n",
      "Requirement already satisfied: nltk in c:\\users\\ambikesh.jha\\appdata\\roaming\\python\\python312\\site-packages (3.9.1)\n",
      "Requirement already satisfied: click in c:\\users\\ambikesh.jha\\appdata\\roaming\\python\\python312\\site-packages (from nltk) (8.1.7)\n",
      "Requirement already satisfied: joblib in c:\\users\\ambikesh.jha\\appdata\\roaming\\python\\python312\\site-packages (from nltk) (1.4.2)\n",
      "Requirement already satisfied: regex>=2021.8.3 in c:\\users\\ambikesh.jha\\appdata\\roaming\\python\\python312\\site-packages (from nltk) (2024.9.11)\n",
      "Requirement already satisfied: tqdm in c:\\users\\ambikesh.jha\\appdata\\roaming\\python\\python312\\site-packages (from nltk) (4.66.5)\n",
      "Requirement already satisfied: colorama in c:\\users\\ambikesh.jha\\appdata\\roaming\\python\\python312\\site-packages (from click->nltk) (0.4.6)\n",
      "Defaulting to user installation because normal site-packages is not writeable\n",
      "Requirement already satisfied: scikit-learn in c:\\users\\ambikesh.jha\\appdata\\roaming\\python\\python312\\site-packages (1.5.2)\n",
      "Requirement already satisfied: numpy>=1.19.5 in c:\\users\\ambikesh.jha\\appdata\\roaming\\python\\python312\\site-packages (from scikit-learn) (2.0.1)\n",
      "Requirement already satisfied: scipy>=1.6.0 in c:\\users\\ambikesh.jha\\appdata\\roaming\\python\\python312\\site-packages (from scikit-learn) (1.14.1)\n",
      "Requirement already satisfied: joblib>=1.2.0 in c:\\users\\ambikesh.jha\\appdata\\roaming\\python\\python312\\site-packages (from scikit-learn) (1.4.2)\n",
      "Requirement already satisfied: threadpoolctl>=3.1.0 in c:\\users\\ambikesh.jha\\appdata\\roaming\\python\\python312\\site-packages (from scikit-learn) (3.5.0)\n"
     ]
    }
   ],
   "source": [
    "! pip install nltk\n",
    "! pip install scikit-learn\n"
   ]
  },
  {
   "cell_type": "code",
   "execution_count": 3,
   "metadata": {},
   "outputs": [],
   "source": [
    "from nltk.stem.snowball import SnowballStemmer\n",
    "from nltk.stem.wordnet import WordNetLemmatizer\n",
    "from nltk.corpus import wordnet\n",
    "# from surprise import Reader, Dataset, SVD, evaluate"
   ]
  },
  {
   "cell_type": "markdown",
   "metadata": {},
   "source": [
    "## Load dataset"
   ]
  },
  {
   "cell_type": "code",
   "execution_count": 4,
   "metadata": {},
   "outputs": [
    {
     "name": "stdout",
     "output_type": "stream",
     "text": [
      "['apps.tsv', 'jobs.tsv', 'test_users.tsv', 'users.tsv', 'user_history.tsv']\n"
     ]
    }
   ],
   "source": [
    "import os\n",
    "\n",
    "# Specify the directory\n",
    "directory = './input_data/'\n",
    "\n",
    "# List all .tsv files in the directory\n",
    "tsv_files = [f for f in os.listdir(directory) if f.endswith('.tsv')]\n",
    "\n",
    "print(tsv_files)\n"
   ]
  },
  {
   "cell_type": "code",
   "execution_count": 5,
   "metadata": {},
   "outputs": [],
   "source": [
    "apps = pd.read_csv('./input_data/apps.tsv', delimiter='\\t',encoding='utf-8')\n",
    "user_history = pd.read_csv('./input_data/user_history.tsv', delimiter='\\t',encoding='utf-8')\n",
    "jobs = pd.read_csv('./input_data/jobs.tsv', delimiter='\\t',encoding='utf-8',  on_bad_lines='skip')\n",
    "users = pd.read_csv('./input_data/users.tsv' ,delimiter='\\t',encoding='utf-8')\n",
    "test_users = pd.read_csv('./input_data/test_users.tsv', delimiter='\\t',encoding='utf-8')"
   ]
  },
  {
   "cell_type": "code",
   "execution_count": 6,
   "metadata": {},
   "outputs": [
    {
     "data": {
      "text/html": [
       "<div>\n",
       "<style scoped>\n",
       "    .dataframe tbody tr th:only-of-type {\n",
       "        vertical-align: middle;\n",
       "    }\n",
       "\n",
       "    .dataframe tbody tr th {\n",
       "        vertical-align: top;\n",
       "    }\n",
       "\n",
       "    .dataframe thead th {\n",
       "        text-align: right;\n",
       "    }\n",
       "</style>\n",
       "<table border=\"1\" class=\"dataframe\">\n",
       "  <thead>\n",
       "    <tr style=\"text-align: right;\">\n",
       "      <th></th>\n",
       "      <th>UserID</th>\n",
       "      <th>WindowID</th>\n",
       "      <th>Split</th>\n",
       "      <th>ApplicationDate</th>\n",
       "      <th>JobID</th>\n",
       "    </tr>\n",
       "  </thead>\n",
       "  <tbody>\n",
       "    <tr>\n",
       "      <th>0</th>\n",
       "      <td>47</td>\n",
       "      <td>1</td>\n",
       "      <td>Train</td>\n",
       "      <td>2012-04-04 15:56:23.537</td>\n",
       "      <td>169528</td>\n",
       "    </tr>\n",
       "    <tr>\n",
       "      <th>1</th>\n",
       "      <td>47</td>\n",
       "      <td>1</td>\n",
       "      <td>Train</td>\n",
       "      <td>2012-04-06 01:03:00.003</td>\n",
       "      <td>284009</td>\n",
       "    </tr>\n",
       "    <tr>\n",
       "      <th>2</th>\n",
       "      <td>47</td>\n",
       "      <td>1</td>\n",
       "      <td>Train</td>\n",
       "      <td>2012-04-05 02:40:27.753</td>\n",
       "      <td>2121</td>\n",
       "    </tr>\n",
       "    <tr>\n",
       "      <th>3</th>\n",
       "      <td>47</td>\n",
       "      <td>1</td>\n",
       "      <td>Train</td>\n",
       "      <td>2012-04-05 02:37:02.673</td>\n",
       "      <td>848187</td>\n",
       "    </tr>\n",
       "    <tr>\n",
       "      <th>4</th>\n",
       "      <td>47</td>\n",
       "      <td>1</td>\n",
       "      <td>Train</td>\n",
       "      <td>2012-04-05 22:44:06.653</td>\n",
       "      <td>733748</td>\n",
       "    </tr>\n",
       "  </tbody>\n",
       "</table>\n",
       "</div>"
      ],
      "text/plain": [
       "   UserID  WindowID  Split          ApplicationDate   JobID\n",
       "0      47         1  Train  2012-04-04 15:56:23.537  169528\n",
       "1      47         1  Train  2012-04-06 01:03:00.003  284009\n",
       "2      47         1  Train  2012-04-05 02:40:27.753    2121\n",
       "3      47         1  Train  2012-04-05 02:37:02.673  848187\n",
       "4      47         1  Train  2012-04-05 22:44:06.653  733748"
      ]
     },
     "execution_count": 6,
     "metadata": {},
     "output_type": "execute_result"
    }
   ],
   "source": [
    "apps.head()"
   ]
  },
  {
   "cell_type": "code",
   "execution_count": 7,
   "metadata": {},
   "outputs": [
    {
     "data": {
      "text/plain": [
       "Index(['UserID', 'WindowID', 'Split', 'ApplicationDate', 'JobID'], dtype='object')"
      ]
     },
     "execution_count": 7,
     "metadata": {},
     "output_type": "execute_result"
    }
   ],
   "source": [
    "apps.columns"
   ]
  },
  {
   "cell_type": "code",
   "execution_count": 8,
   "metadata": {},
   "outputs": [
    {
     "data": {
      "text/plain": [
       "(1603111, 5)"
      ]
     },
     "execution_count": 8,
     "metadata": {},
     "output_type": "execute_result"
    }
   ],
   "source": [
    "apps.shape"
   ]
  },
  {
   "cell_type": "code",
   "execution_count": 9,
   "metadata": {},
   "outputs": [
    {
     "name": "stdout",
     "output_type": "stream",
     "text": [
      "<class 'pandas.core.frame.DataFrame'>\n",
      "RangeIndex: 1603111 entries, 0 to 1603110\n",
      "Data columns (total 5 columns):\n",
      " #   Column           Non-Null Count    Dtype \n",
      "---  ------           --------------    ----- \n",
      " 0   UserID           1603111 non-null  int64 \n",
      " 1   WindowID         1603111 non-null  int64 \n",
      " 2   Split            1603111 non-null  object\n",
      " 3   ApplicationDate  1603111 non-null  object\n",
      " 4   JobID            1603111 non-null  int64 \n",
      "dtypes: int64(3), object(2)\n",
      "memory usage: 61.2+ MB\n"
     ]
    }
   ],
   "source": [
    "apps.info()"
   ]
  },
  {
   "cell_type": "code",
   "execution_count": 10,
   "metadata": {},
   "outputs": [
    {
     "data": {
      "text/html": [
       "<div>\n",
       "<style scoped>\n",
       "    .dataframe tbody tr th:only-of-type {\n",
       "        vertical-align: middle;\n",
       "    }\n",
       "\n",
       "    .dataframe tbody tr th {\n",
       "        vertical-align: top;\n",
       "    }\n",
       "\n",
       "    .dataframe thead th {\n",
       "        text-align: right;\n",
       "    }\n",
       "</style>\n",
       "<table border=\"1\" class=\"dataframe\">\n",
       "  <thead>\n",
       "    <tr style=\"text-align: right;\">\n",
       "      <th></th>\n",
       "      <th>UserID</th>\n",
       "      <th>WindowID</th>\n",
       "      <th>Split</th>\n",
       "      <th>Sequence</th>\n",
       "      <th>JobTitle</th>\n",
       "    </tr>\n",
       "  </thead>\n",
       "  <tbody>\n",
       "    <tr>\n",
       "      <th>0</th>\n",
       "      <td>47</td>\n",
       "      <td>1</td>\n",
       "      <td>Train</td>\n",
       "      <td>1</td>\n",
       "      <td>National Space Communication Programs-Special ...</td>\n",
       "    </tr>\n",
       "    <tr>\n",
       "      <th>1</th>\n",
       "      <td>47</td>\n",
       "      <td>1</td>\n",
       "      <td>Train</td>\n",
       "      <td>2</td>\n",
       "      <td>Detention Officer</td>\n",
       "    </tr>\n",
       "    <tr>\n",
       "      <th>2</th>\n",
       "      <td>47</td>\n",
       "      <td>1</td>\n",
       "      <td>Train</td>\n",
       "      <td>3</td>\n",
       "      <td>Passenger Screener, TSA</td>\n",
       "    </tr>\n",
       "    <tr>\n",
       "      <th>3</th>\n",
       "      <td>72</td>\n",
       "      <td>1</td>\n",
       "      <td>Train</td>\n",
       "      <td>1</td>\n",
       "      <td>Lecturer, Department of Anthropology</td>\n",
       "    </tr>\n",
       "    <tr>\n",
       "      <th>4</th>\n",
       "      <td>72</td>\n",
       "      <td>1</td>\n",
       "      <td>Train</td>\n",
       "      <td>2</td>\n",
       "      <td>Student Assistant</td>\n",
       "    </tr>\n",
       "  </tbody>\n",
       "</table>\n",
       "</div>"
      ],
      "text/plain": [
       "   UserID  WindowID  Split  Sequence  \\\n",
       "0      47         1  Train         1   \n",
       "1      47         1  Train         2   \n",
       "2      47         1  Train         3   \n",
       "3      72         1  Train         1   \n",
       "4      72         1  Train         2   \n",
       "\n",
       "                                            JobTitle  \n",
       "0  National Space Communication Programs-Special ...  \n",
       "1                                  Detention Officer  \n",
       "2                            Passenger Screener, TSA  \n",
       "3               Lecturer, Department of Anthropology  \n",
       "4                                  Student Assistant  "
      ]
     },
     "execution_count": 10,
     "metadata": {},
     "output_type": "execute_result"
    }
   ],
   "source": [
    "user_history.head()"
   ]
  },
  {
   "cell_type": "code",
   "execution_count": 11,
   "metadata": {},
   "outputs": [
    {
     "data": {
      "text/plain": [
       "Index(['UserID', 'WindowID', 'Split', 'Sequence', 'JobTitle'], dtype='object')"
      ]
     },
     "execution_count": 11,
     "metadata": {},
     "output_type": "execute_result"
    }
   ],
   "source": [
    "user_history.columns"
   ]
  },
  {
   "cell_type": "code",
   "execution_count": 12,
   "metadata": {},
   "outputs": [
    {
     "data": {
      "text/plain": [
       "(1753901, 5)"
      ]
     },
     "execution_count": 12,
     "metadata": {},
     "output_type": "execute_result"
    }
   ],
   "source": [
    "user_history.shape"
   ]
  },
  {
   "cell_type": "code",
   "execution_count": 13,
   "metadata": {},
   "outputs": [
    {
     "name": "stdout",
     "output_type": "stream",
     "text": [
      "<class 'pandas.core.frame.DataFrame'>\n",
      "RangeIndex: 1753901 entries, 0 to 1753900\n",
      "Data columns (total 5 columns):\n",
      " #   Column    Dtype \n",
      "---  ------    ----- \n",
      " 0   UserID    int64 \n",
      " 1   WindowID  int64 \n",
      " 2   Split     object\n",
      " 3   Sequence  int64 \n",
      " 4   JobTitle  object\n",
      "dtypes: int64(3), object(2)\n",
      "memory usage: 66.9+ MB\n"
     ]
    }
   ],
   "source": [
    "user_history.info()"
   ]
  },
  {
   "cell_type": "code",
   "execution_count": 14,
   "metadata": {},
   "outputs": [
    {
     "data": {
      "text/html": [
       "<div>\n",
       "<style scoped>\n",
       "    .dataframe tbody tr th:only-of-type {\n",
       "        vertical-align: middle;\n",
       "    }\n",
       "\n",
       "    .dataframe tbody tr th {\n",
       "        vertical-align: top;\n",
       "    }\n",
       "\n",
       "    .dataframe thead th {\n",
       "        text-align: right;\n",
       "    }\n",
       "</style>\n",
       "<table border=\"1\" class=\"dataframe\">\n",
       "  <thead>\n",
       "    <tr style=\"text-align: right;\">\n",
       "      <th></th>\n",
       "      <th>JobID</th>\n",
       "      <th>WindowID</th>\n",
       "      <th>Title</th>\n",
       "      <th>Description</th>\n",
       "      <th>Requirements</th>\n",
       "      <th>City</th>\n",
       "      <th>State</th>\n",
       "      <th>Country</th>\n",
       "      <th>Zip5</th>\n",
       "      <th>StartDate</th>\n",
       "      <th>EndDate</th>\n",
       "    </tr>\n",
       "  </thead>\n",
       "  <tbody>\n",
       "    <tr>\n",
       "      <th>0</th>\n",
       "      <td>1</td>\n",
       "      <td>1</td>\n",
       "      <td>Security Engineer/Technical Lead</td>\n",
       "      <td>&lt;p&gt;Security Clearance Required:&amp;nbsp; Top Secr...</td>\n",
       "      <td>&lt;p&gt;SKILL SET&lt;/p&gt;\\r&lt;p&gt;&amp;nbsp;&lt;/p&gt;\\r&lt;p&gt;Network Se...</td>\n",
       "      <td>Washington</td>\n",
       "      <td>DC</td>\n",
       "      <td>US</td>\n",
       "      <td>20531</td>\n",
       "      <td>2012-03-07 13:17:01.643</td>\n",
       "      <td>2012-04-06 23:59:59</td>\n",
       "    </tr>\n",
       "    <tr>\n",
       "      <th>1</th>\n",
       "      <td>4</td>\n",
       "      <td>1</td>\n",
       "      <td>SAP Business Analyst / WM</td>\n",
       "      <td>&lt;strong&gt;NO Corp. to Corp resumes&amp;nbsp;are bein...</td>\n",
       "      <td>&lt;p&gt;&lt;b&gt;WHAT YOU NEED: &lt;/b&gt;&lt;/p&gt;\\r&lt;p&gt;Four year co...</td>\n",
       "      <td>Charlotte</td>\n",
       "      <td>NC</td>\n",
       "      <td>US</td>\n",
       "      <td>28217</td>\n",
       "      <td>2012-03-21 02:03:44.137</td>\n",
       "      <td>2012-04-20 23:59:59</td>\n",
       "    </tr>\n",
       "    <tr>\n",
       "      <th>2</th>\n",
       "      <td>7</td>\n",
       "      <td>1</td>\n",
       "      <td>P/T HUMAN RESOURCES ASSISTANT</td>\n",
       "      <td>&lt;b&gt;    &lt;b&gt; P/T HUMAN RESOURCES ASSISTANT&lt;/b&gt; &lt;...</td>\n",
       "      <td>Please refer to the Job Description to view th...</td>\n",
       "      <td>Winter Park</td>\n",
       "      <td>FL</td>\n",
       "      <td>US</td>\n",
       "      <td>32792</td>\n",
       "      <td>2012-03-02 16:36:55.447</td>\n",
       "      <td>2012-04-01 23:59:59</td>\n",
       "    </tr>\n",
       "    <tr>\n",
       "      <th>3</th>\n",
       "      <td>8</td>\n",
       "      <td>1</td>\n",
       "      <td>Route Delivery Drivers</td>\n",
       "      <td>CITY BEVERAGES Come to work for the best in th...</td>\n",
       "      <td>Please refer to the Job Description to view th...</td>\n",
       "      <td>Orlando</td>\n",
       "      <td>FL</td>\n",
       "      <td>US</td>\n",
       "      <td>NaN</td>\n",
       "      <td>2012-03-03 09:01:10.077</td>\n",
       "      <td>2012-04-02 23:59:59</td>\n",
       "    </tr>\n",
       "    <tr>\n",
       "      <th>4</th>\n",
       "      <td>9</td>\n",
       "      <td>1</td>\n",
       "      <td>Housekeeping</td>\n",
       "      <td>I make  sure every part of their day is magica...</td>\n",
       "      <td>Please refer to the Job Description to view th...</td>\n",
       "      <td>Orlando</td>\n",
       "      <td>FL</td>\n",
       "      <td>US</td>\n",
       "      <td>NaN</td>\n",
       "      <td>2012-03-03 09:01:11.88</td>\n",
       "      <td>2012-04-02 23:59:59</td>\n",
       "    </tr>\n",
       "  </tbody>\n",
       "</table>\n",
       "</div>"
      ],
      "text/plain": [
       "   JobID  WindowID                             Title  \\\n",
       "0      1         1  Security Engineer/Technical Lead   \n",
       "1      4         1         SAP Business Analyst / WM   \n",
       "2      7         1     P/T HUMAN RESOURCES ASSISTANT   \n",
       "3      8         1            Route Delivery Drivers   \n",
       "4      9         1                      Housekeeping   \n",
       "\n",
       "                                         Description  \\\n",
       "0  <p>Security Clearance Required:&nbsp; Top Secr...   \n",
       "1  <strong>NO Corp. to Corp resumes&nbsp;are bein...   \n",
       "2  <b>    <b> P/T HUMAN RESOURCES ASSISTANT</b> <...   \n",
       "3  CITY BEVERAGES Come to work for the best in th...   \n",
       "4  I make  sure every part of their day is magica...   \n",
       "\n",
       "                                        Requirements         City State  \\\n",
       "0  <p>SKILL SET</p>\\r<p>&nbsp;</p>\\r<p>Network Se...   Washington    DC   \n",
       "1  <p><b>WHAT YOU NEED: </b></p>\\r<p>Four year co...    Charlotte    NC   \n",
       "2  Please refer to the Job Description to view th...  Winter Park    FL   \n",
       "3  Please refer to the Job Description to view th...      Orlando    FL   \n",
       "4  Please refer to the Job Description to view th...      Orlando    FL   \n",
       "\n",
       "  Country   Zip5                StartDate              EndDate  \n",
       "0      US  20531  2012-03-07 13:17:01.643  2012-04-06 23:59:59  \n",
       "1      US  28217  2012-03-21 02:03:44.137  2012-04-20 23:59:59  \n",
       "2      US  32792  2012-03-02 16:36:55.447  2012-04-01 23:59:59  \n",
       "3      US    NaN  2012-03-03 09:01:10.077  2012-04-02 23:59:59  \n",
       "4      US    NaN   2012-03-03 09:01:11.88  2012-04-02 23:59:59  "
      ]
     },
     "execution_count": 14,
     "metadata": {},
     "output_type": "execute_result"
    }
   ],
   "source": [
    "jobs.head()"
   ]
  },
  {
   "cell_type": "code",
   "execution_count": 15,
   "metadata": {},
   "outputs": [
    {
     "data": {
      "text/plain": [
       "Index(['JobID', 'WindowID', 'Title', 'Description', 'Requirements', 'City',\n",
       "       'State', 'Country', 'Zip5', 'StartDate', 'EndDate'],\n",
       "      dtype='object')"
      ]
     },
     "execution_count": 15,
     "metadata": {},
     "output_type": "execute_result"
    }
   ],
   "source": [
    "jobs.columns"
   ]
  },
  {
   "cell_type": "code",
   "execution_count": 16,
   "metadata": {},
   "outputs": [
    {
     "data": {
      "text/plain": [
       "(1091923, 11)"
      ]
     },
     "execution_count": 16,
     "metadata": {},
     "output_type": "execute_result"
    }
   ],
   "source": [
    "jobs.shape"
   ]
  },
  {
   "cell_type": "code",
   "execution_count": 17,
   "metadata": {},
   "outputs": [
    {
     "name": "stdout",
     "output_type": "stream",
     "text": [
      "<class 'pandas.core.frame.DataFrame'>\n",
      "RangeIndex: 1091923 entries, 0 to 1091922\n",
      "Data columns (total 11 columns):\n",
      " #   Column        Non-Null Count    Dtype \n",
      "---  ------        --------------    ----- \n",
      " 0   JobID         1091923 non-null  int64 \n",
      " 1   WindowID      1091923 non-null  int64 \n",
      " 2   Title         1091916 non-null  object\n",
      " 3   Description   1091706 non-null  object\n",
      " 4   Requirements  1050478 non-null  object\n",
      " 5   City          1091921 non-null  object\n",
      " 6   State         1091922 non-null  object\n",
      " 7   Country       1091920 non-null  object\n",
      " 8   Zip5          685724 non-null   object\n",
      " 9   StartDate     1091923 non-null  object\n",
      " 10  EndDate       1091914 non-null  object\n",
      "dtypes: int64(2), object(9)\n",
      "memory usage: 91.6+ MB\n"
     ]
    }
   ],
   "source": [
    "jobs.info()"
   ]
  },
  {
   "cell_type": "code",
   "execution_count": 18,
   "metadata": {},
   "outputs": [
    {
     "data": {
      "text/html": [
       "<div>\n",
       "<style scoped>\n",
       "    .dataframe tbody tr th:only-of-type {\n",
       "        vertical-align: middle;\n",
       "    }\n",
       "\n",
       "    .dataframe tbody tr th {\n",
       "        vertical-align: top;\n",
       "    }\n",
       "\n",
       "    .dataframe thead th {\n",
       "        text-align: right;\n",
       "    }\n",
       "</style>\n",
       "<table border=\"1\" class=\"dataframe\">\n",
       "  <thead>\n",
       "    <tr style=\"text-align: right;\">\n",
       "      <th></th>\n",
       "      <th>UserID</th>\n",
       "      <th>WindowID</th>\n",
       "      <th>Split</th>\n",
       "      <th>City</th>\n",
       "      <th>State</th>\n",
       "      <th>Country</th>\n",
       "      <th>ZipCode</th>\n",
       "      <th>DegreeType</th>\n",
       "      <th>Major</th>\n",
       "      <th>GraduationDate</th>\n",
       "      <th>WorkHistoryCount</th>\n",
       "      <th>TotalYearsExperience</th>\n",
       "      <th>CurrentlyEmployed</th>\n",
       "      <th>ManagedOthers</th>\n",
       "      <th>ManagedHowMany</th>\n",
       "    </tr>\n",
       "  </thead>\n",
       "  <tbody>\n",
       "    <tr>\n",
       "      <th>0</th>\n",
       "      <td>47</td>\n",
       "      <td>1</td>\n",
       "      <td>Train</td>\n",
       "      <td>Paramount</td>\n",
       "      <td>CA</td>\n",
       "      <td>US</td>\n",
       "      <td>90723</td>\n",
       "      <td>High School</td>\n",
       "      <td>NaN</td>\n",
       "      <td>1999-06-01 00:00:00</td>\n",
       "      <td>3</td>\n",
       "      <td>10.0</td>\n",
       "      <td>Yes</td>\n",
       "      <td>No</td>\n",
       "      <td>0</td>\n",
       "    </tr>\n",
       "    <tr>\n",
       "      <th>1</th>\n",
       "      <td>72</td>\n",
       "      <td>1</td>\n",
       "      <td>Train</td>\n",
       "      <td>La Mesa</td>\n",
       "      <td>CA</td>\n",
       "      <td>US</td>\n",
       "      <td>91941</td>\n",
       "      <td>Master's</td>\n",
       "      <td>Anthropology</td>\n",
       "      <td>2011-01-01 00:00:00</td>\n",
       "      <td>10</td>\n",
       "      <td>8.0</td>\n",
       "      <td>Yes</td>\n",
       "      <td>No</td>\n",
       "      <td>0</td>\n",
       "    </tr>\n",
       "    <tr>\n",
       "      <th>2</th>\n",
       "      <td>80</td>\n",
       "      <td>1</td>\n",
       "      <td>Train</td>\n",
       "      <td>Williamstown</td>\n",
       "      <td>NJ</td>\n",
       "      <td>US</td>\n",
       "      <td>08094</td>\n",
       "      <td>High School</td>\n",
       "      <td>Not Applicable</td>\n",
       "      <td>1985-06-01 00:00:00</td>\n",
       "      <td>5</td>\n",
       "      <td>11.0</td>\n",
       "      <td>Yes</td>\n",
       "      <td>Yes</td>\n",
       "      <td>5</td>\n",
       "    </tr>\n",
       "    <tr>\n",
       "      <th>3</th>\n",
       "      <td>98</td>\n",
       "      <td>1</td>\n",
       "      <td>Train</td>\n",
       "      <td>Astoria</td>\n",
       "      <td>NY</td>\n",
       "      <td>US</td>\n",
       "      <td>11105</td>\n",
       "      <td>Master's</td>\n",
       "      <td>Journalism</td>\n",
       "      <td>2007-05-01 00:00:00</td>\n",
       "      <td>3</td>\n",
       "      <td>3.0</td>\n",
       "      <td>Yes</td>\n",
       "      <td>No</td>\n",
       "      <td>0</td>\n",
       "    </tr>\n",
       "    <tr>\n",
       "      <th>4</th>\n",
       "      <td>123</td>\n",
       "      <td>1</td>\n",
       "      <td>Train</td>\n",
       "      <td>Baton Rouge</td>\n",
       "      <td>LA</td>\n",
       "      <td>US</td>\n",
       "      <td>70808</td>\n",
       "      <td>Bachelor's</td>\n",
       "      <td>Agricultural Business</td>\n",
       "      <td>2011-05-01 00:00:00</td>\n",
       "      <td>1</td>\n",
       "      <td>9.0</td>\n",
       "      <td>Yes</td>\n",
       "      <td>No</td>\n",
       "      <td>0</td>\n",
       "    </tr>\n",
       "  </tbody>\n",
       "</table>\n",
       "</div>"
      ],
      "text/plain": [
       "   UserID  WindowID  Split          City State Country ZipCode   DegreeType  \\\n",
       "0      47         1  Train     Paramount    CA      US   90723  High School   \n",
       "1      72         1  Train       La Mesa    CA      US   91941     Master's   \n",
       "2      80         1  Train  Williamstown    NJ      US   08094  High School   \n",
       "3      98         1  Train       Astoria    NY      US   11105     Master's   \n",
       "4     123         1  Train   Baton Rouge    LA      US   70808   Bachelor's   \n",
       "\n",
       "                   Major       GraduationDate  WorkHistoryCount  \\\n",
       "0                    NaN  1999-06-01 00:00:00                 3   \n",
       "1           Anthropology  2011-01-01 00:00:00                10   \n",
       "2         Not Applicable  1985-06-01 00:00:00                 5   \n",
       "3             Journalism  2007-05-01 00:00:00                 3   \n",
       "4  Agricultural Business  2011-05-01 00:00:00                 1   \n",
       "\n",
       "   TotalYearsExperience CurrentlyEmployed ManagedOthers  ManagedHowMany  \n",
       "0                  10.0               Yes            No               0  \n",
       "1                   8.0               Yes            No               0  \n",
       "2                  11.0               Yes           Yes               5  \n",
       "3                   3.0               Yes            No               0  \n",
       "4                   9.0               Yes            No               0  "
      ]
     },
     "execution_count": 18,
     "metadata": {},
     "output_type": "execute_result"
    }
   ],
   "source": [
    "users.head()"
   ]
  },
  {
   "cell_type": "code",
   "execution_count": 19,
   "metadata": {},
   "outputs": [
    {
     "data": {
      "text/plain": [
       "Index(['UserID', 'WindowID', 'Split', 'City', 'State', 'Country', 'ZipCode',\n",
       "       'DegreeType', 'Major', 'GraduationDate', 'WorkHistoryCount',\n",
       "       'TotalYearsExperience', 'CurrentlyEmployed', 'ManagedOthers',\n",
       "       'ManagedHowMany'],\n",
       "      dtype='object')"
      ]
     },
     "execution_count": 19,
     "metadata": {},
     "output_type": "execute_result"
    }
   ],
   "source": [
    "users.columns"
   ]
  },
  {
   "cell_type": "code",
   "execution_count": 20,
   "metadata": {},
   "outputs": [
    {
     "data": {
      "text/plain": [
       "(389708, 15)"
      ]
     },
     "execution_count": 20,
     "metadata": {},
     "output_type": "execute_result"
    }
   ],
   "source": [
    "users.shape"
   ]
  },
  {
   "cell_type": "code",
   "execution_count": 21,
   "metadata": {},
   "outputs": [
    {
     "name": "stdout",
     "output_type": "stream",
     "text": [
      "<class 'pandas.core.frame.DataFrame'>\n",
      "RangeIndex: 389708 entries, 0 to 389707\n",
      "Data columns (total 15 columns):\n",
      " #   Column                Non-Null Count   Dtype  \n",
      "---  ------                --------------   -----  \n",
      " 0   UserID                389708 non-null  int64  \n",
      " 1   WindowID              389708 non-null  int64  \n",
      " 2   Split                 389708 non-null  object \n",
      " 3   City                  389708 non-null  object \n",
      " 4   State                 389218 non-null  object \n",
      " 5   Country               389708 non-null  object \n",
      " 6   ZipCode               387974 non-null  object \n",
      " 7   DegreeType            289555 non-null  object \n",
      " 8   Major                 292405 non-null  object \n",
      " 9   GraduationDate        269477 non-null  object \n",
      " 10  WorkHistoryCount      389708 non-null  int64  \n",
      " 11  TotalYearsExperience  375528 non-null  float64\n",
      " 12  CurrentlyEmployed     347632 non-null  object \n",
      " 13  ManagedOthers         389708 non-null  object \n",
      " 14  ManagedHowMany        389708 non-null  int64  \n",
      "dtypes: float64(1), int64(4), object(10)\n",
      "memory usage: 44.6+ MB\n"
     ]
    }
   ],
   "source": [
    "users.info()"
   ]
  },
  {
   "cell_type": "code",
   "execution_count": 22,
   "metadata": {},
   "outputs": [
    {
     "data": {
      "text/html": [
       "<div>\n",
       "<style scoped>\n",
       "    .dataframe tbody tr th:only-of-type {\n",
       "        vertical-align: middle;\n",
       "    }\n",
       "\n",
       "    .dataframe tbody tr th {\n",
       "        vertical-align: top;\n",
       "    }\n",
       "\n",
       "    .dataframe thead th {\n",
       "        text-align: right;\n",
       "    }\n",
       "</style>\n",
       "<table border=\"1\" class=\"dataframe\">\n",
       "  <thead>\n",
       "    <tr style=\"text-align: right;\">\n",
       "      <th></th>\n",
       "      <th>UserID</th>\n",
       "      <th>WindowID</th>\n",
       "    </tr>\n",
       "  </thead>\n",
       "  <tbody>\n",
       "    <tr>\n",
       "      <th>0</th>\n",
       "      <td>767</td>\n",
       "      <td>1</td>\n",
       "    </tr>\n",
       "    <tr>\n",
       "      <th>1</th>\n",
       "      <td>769</td>\n",
       "      <td>1</td>\n",
       "    </tr>\n",
       "    <tr>\n",
       "      <th>2</th>\n",
       "      <td>861</td>\n",
       "      <td>1</td>\n",
       "    </tr>\n",
       "    <tr>\n",
       "      <th>3</th>\n",
       "      <td>1006</td>\n",
       "      <td>1</td>\n",
       "    </tr>\n",
       "    <tr>\n",
       "      <th>4</th>\n",
       "      <td>1192</td>\n",
       "      <td>1</td>\n",
       "    </tr>\n",
       "  </tbody>\n",
       "</table>\n",
       "</div>"
      ],
      "text/plain": [
       "   UserID  WindowID\n",
       "0     767         1\n",
       "1     769         1\n",
       "2     861         1\n",
       "3    1006         1\n",
       "4    1192         1"
      ]
     },
     "execution_count": 22,
     "metadata": {},
     "output_type": "execute_result"
    }
   ],
   "source": [
    "test_users.head()"
   ]
  },
  {
   "cell_type": "code",
   "execution_count": 23,
   "metadata": {},
   "outputs": [
    {
     "data": {
      "text/plain": [
       "Index(['UserID', 'WindowID'], dtype='object')"
      ]
     },
     "execution_count": 23,
     "metadata": {},
     "output_type": "execute_result"
    }
   ],
   "source": [
    "test_users.columns"
   ]
  },
  {
   "cell_type": "code",
   "execution_count": 24,
   "metadata": {},
   "outputs": [
    {
     "data": {
      "text/plain": [
       "(22838, 2)"
      ]
     },
     "execution_count": 24,
     "metadata": {},
     "output_type": "execute_result"
    }
   ],
   "source": [
    "test_users.shape"
   ]
  },
  {
   "cell_type": "code",
   "execution_count": 25,
   "metadata": {},
   "outputs": [
    {
     "name": "stdout",
     "output_type": "stream",
     "text": [
      "<class 'pandas.core.frame.DataFrame'>\n",
      "RangeIndex: 22838 entries, 0 to 22837\n",
      "Data columns (total 2 columns):\n",
      " #   Column    Non-Null Count  Dtype\n",
      "---  ------    --------------  -----\n",
      " 0   UserID    22838 non-null  int64\n",
      " 1   WindowID  22838 non-null  int64\n",
      "dtypes: int64(2)\n",
      "memory usage: 357.0 KB\n"
     ]
    }
   ],
   "source": [
    "test_users.info()"
   ]
  },
  {
   "cell_type": "markdown",
   "metadata": {},
   "source": [
    "## Exploratory Data Analysis (EDA) and Pre-processing"
   ]
  },
  {
   "cell_type": "markdown",
   "metadata": {},
   "source": [
    "### Split training and testing data based on column 'split'"
   ]
  },
  {
   "cell_type": "code",
   "execution_count": 26,
   "metadata": {},
   "outputs": [
    {
     "name": "stdout",
     "output_type": "stream",
     "text": [
      "app :  ['Train' 'Test']\n",
      "user_history :  ['Train' 'Test']\n",
      "users :  ['Train' 'Test']\n"
     ]
    }
   ],
   "source": [
    "print ('app : ' , apps['Split'].unique())\n",
    "print ('user_history : ' , apps['Split'].unique())\n",
    "print ('users : ' , apps['Split'].unique())"
   ]
  },
  {
   "cell_type": "code",
   "execution_count": 27,
   "metadata": {},
   "outputs": [],
   "source": [
    "apps_training = apps.loc[apps['Split'] == 'Train']"
   ]
  },
  {
   "cell_type": "code",
   "execution_count": 28,
   "metadata": {},
   "outputs": [
    {
     "data": {
      "text/plain": [
       "(1417514, 5)"
      ]
     },
     "execution_count": 28,
     "metadata": {},
     "output_type": "execute_result"
    }
   ],
   "source": [
    "apps_training.shape"
   ]
  },
  {
   "cell_type": "code",
   "execution_count": 29,
   "metadata": {},
   "outputs": [
    {
     "data": {
      "text/plain": [
       "array(['Train'], dtype=object)"
      ]
     },
     "execution_count": 29,
     "metadata": {},
     "output_type": "execute_result"
    }
   ],
   "source": [
    "apps_training[\"Split\"].unique()"
   ]
  },
  {
   "cell_type": "code",
   "execution_count": 30,
   "metadata": {},
   "outputs": [
    {
     "data": {
      "text/html": [
       "<div>\n",
       "<style scoped>\n",
       "    .dataframe tbody tr th:only-of-type {\n",
       "        vertical-align: middle;\n",
       "    }\n",
       "\n",
       "    .dataframe tbody tr th {\n",
       "        vertical-align: top;\n",
       "    }\n",
       "\n",
       "    .dataframe thead th {\n",
       "        text-align: right;\n",
       "    }\n",
       "</style>\n",
       "<table border=\"1\" class=\"dataframe\">\n",
       "  <thead>\n",
       "    <tr style=\"text-align: right;\">\n",
       "      <th></th>\n",
       "      <th>UserID</th>\n",
       "      <th>WindowID</th>\n",
       "      <th>Split</th>\n",
       "      <th>ApplicationDate</th>\n",
       "      <th>JobID</th>\n",
       "    </tr>\n",
       "  </thead>\n",
       "  <tbody>\n",
       "    <tr>\n",
       "      <th>0</th>\n",
       "      <td>47</td>\n",
       "      <td>1</td>\n",
       "      <td>Train</td>\n",
       "      <td>2012-04-04 15:56:23.537</td>\n",
       "      <td>169528</td>\n",
       "    </tr>\n",
       "    <tr>\n",
       "      <th>1</th>\n",
       "      <td>47</td>\n",
       "      <td>1</td>\n",
       "      <td>Train</td>\n",
       "      <td>2012-04-06 01:03:00.003</td>\n",
       "      <td>284009</td>\n",
       "    </tr>\n",
       "    <tr>\n",
       "      <th>2</th>\n",
       "      <td>47</td>\n",
       "      <td>1</td>\n",
       "      <td>Train</td>\n",
       "      <td>2012-04-05 02:40:27.753</td>\n",
       "      <td>2121</td>\n",
       "    </tr>\n",
       "    <tr>\n",
       "      <th>3</th>\n",
       "      <td>47</td>\n",
       "      <td>1</td>\n",
       "      <td>Train</td>\n",
       "      <td>2012-04-05 02:37:02.673</td>\n",
       "      <td>848187</td>\n",
       "    </tr>\n",
       "    <tr>\n",
       "      <th>4</th>\n",
       "      <td>47</td>\n",
       "      <td>1</td>\n",
       "      <td>Train</td>\n",
       "      <td>2012-04-05 22:44:06.653</td>\n",
       "      <td>733748</td>\n",
       "    </tr>\n",
       "  </tbody>\n",
       "</table>\n",
       "</div>"
      ],
      "text/plain": [
       "   UserID  WindowID  Split          ApplicationDate   JobID\n",
       "0      47         1  Train  2012-04-04 15:56:23.537  169528\n",
       "1      47         1  Train  2012-04-06 01:03:00.003  284009\n",
       "2      47         1  Train  2012-04-05 02:40:27.753    2121\n",
       "3      47         1  Train  2012-04-05 02:37:02.673  848187\n",
       "4      47         1  Train  2012-04-05 22:44:06.653  733748"
      ]
     },
     "execution_count": 30,
     "metadata": {},
     "output_type": "execute_result"
    }
   ],
   "source": [
    "apps_training.head()"
   ]
  },
  {
   "cell_type": "code",
   "execution_count": 31,
   "metadata": {},
   "outputs": [],
   "source": [
    "apps_testing = apps.loc[apps['Split'] == 'Test']"
   ]
  },
  {
   "cell_type": "code",
   "execution_count": 32,
   "metadata": {},
   "outputs": [
    {
     "data": {
      "text/plain": [
       "(185597, 5)"
      ]
     },
     "execution_count": 32,
     "metadata": {},
     "output_type": "execute_result"
    }
   ],
   "source": [
    "apps_testing.shape"
   ]
  },
  {
   "cell_type": "code",
   "execution_count": 33,
   "metadata": {},
   "outputs": [
    {
     "data": {
      "text/plain": [
       "array(['Test'], dtype=object)"
      ]
     },
     "execution_count": 33,
     "metadata": {},
     "output_type": "execute_result"
    }
   ],
   "source": [
    "apps_testing[\"Split\"].unique()"
   ]
  },
  {
   "cell_type": "code",
   "execution_count": 34,
   "metadata": {},
   "outputs": [
    {
     "data": {
      "text/html": [
       "<div>\n",
       "<style scoped>\n",
       "    .dataframe tbody tr th:only-of-type {\n",
       "        vertical-align: middle;\n",
       "    }\n",
       "\n",
       "    .dataframe tbody tr th {\n",
       "        vertical-align: top;\n",
       "    }\n",
       "\n",
       "    .dataframe thead th {\n",
       "        text-align: right;\n",
       "    }\n",
       "</style>\n",
       "<table border=\"1\" class=\"dataframe\">\n",
       "  <thead>\n",
       "    <tr style=\"text-align: right;\">\n",
       "      <th></th>\n",
       "      <th>UserID</th>\n",
       "      <th>WindowID</th>\n",
       "      <th>Split</th>\n",
       "      <th>ApplicationDate</th>\n",
       "      <th>JobID</th>\n",
       "    </tr>\n",
       "  </thead>\n",
       "  <tbody>\n",
       "    <tr>\n",
       "      <th>126</th>\n",
       "      <td>767</td>\n",
       "      <td>1</td>\n",
       "      <td>Test</td>\n",
       "      <td>2012-04-01 14:37:20.023</td>\n",
       "      <td>85377</td>\n",
       "    </tr>\n",
       "    <tr>\n",
       "      <th>127</th>\n",
       "      <td>769</td>\n",
       "      <td>1</td>\n",
       "      <td>Test</td>\n",
       "      <td>2012-04-16 22:36:52.48</td>\n",
       "      <td>853328</td>\n",
       "    </tr>\n",
       "    <tr>\n",
       "      <th>128</th>\n",
       "      <td>769</td>\n",
       "      <td>1</td>\n",
       "      <td>Test</td>\n",
       "      <td>2012-04-09 18:59:28.193</td>\n",
       "      <td>86106</td>\n",
       "    </tr>\n",
       "    <tr>\n",
       "      <th>129</th>\n",
       "      <td>769</td>\n",
       "      <td>1</td>\n",
       "      <td>Test</td>\n",
       "      <td>2012-04-09 18:59:31.127</td>\n",
       "      <td>327571</td>\n",
       "    </tr>\n",
       "    <tr>\n",
       "      <th>130</th>\n",
       "      <td>769</td>\n",
       "      <td>1</td>\n",
       "      <td>Test</td>\n",
       "      <td>2012-04-08 21:29:11.993</td>\n",
       "      <td>119161</td>\n",
       "    </tr>\n",
       "  </tbody>\n",
       "</table>\n",
       "</div>"
      ],
      "text/plain": [
       "     UserID  WindowID Split          ApplicationDate   JobID\n",
       "126     767         1  Test  2012-04-01 14:37:20.023   85377\n",
       "127     769         1  Test   2012-04-16 22:36:52.48  853328\n",
       "128     769         1  Test  2012-04-09 18:59:28.193   86106\n",
       "129     769         1  Test  2012-04-09 18:59:31.127  327571\n",
       "130     769         1  Test  2012-04-08 21:29:11.993  119161"
      ]
     },
     "execution_count": 34,
     "metadata": {},
     "output_type": "execute_result"
    }
   ],
   "source": [
    "apps_testing.head()"
   ]
  },
  {
   "cell_type": "code",
   "execution_count": 35,
   "metadata": {},
   "outputs": [
    {
     "data": {
      "text/plain": [
       "array(['Train', 'Test'], dtype=object)"
      ]
     },
     "execution_count": 35,
     "metadata": {},
     "output_type": "execute_result"
    }
   ],
   "source": [
    "user_history['Split'].unique()"
   ]
  },
  {
   "cell_type": "code",
   "execution_count": 36,
   "metadata": {},
   "outputs": [],
   "source": [
    "user_history_training = user_history.loc[user_history['Split'] =='Train']"
   ]
  },
  {
   "cell_type": "code",
   "execution_count": 37,
   "metadata": {},
   "outputs": [
    {
     "data": {
      "text/plain": [
       "(1652513, 5)"
      ]
     },
     "execution_count": 37,
     "metadata": {},
     "output_type": "execute_result"
    }
   ],
   "source": [
    "user_history_training.shape"
   ]
  },
  {
   "cell_type": "code",
   "execution_count": 38,
   "metadata": {},
   "outputs": [
    {
     "data": {
      "text/html": [
       "<div>\n",
       "<style scoped>\n",
       "    .dataframe tbody tr th:only-of-type {\n",
       "        vertical-align: middle;\n",
       "    }\n",
       "\n",
       "    .dataframe tbody tr th {\n",
       "        vertical-align: top;\n",
       "    }\n",
       "\n",
       "    .dataframe thead th {\n",
       "        text-align: right;\n",
       "    }\n",
       "</style>\n",
       "<table border=\"1\" class=\"dataframe\">\n",
       "  <thead>\n",
       "    <tr style=\"text-align: right;\">\n",
       "      <th></th>\n",
       "      <th>UserID</th>\n",
       "      <th>WindowID</th>\n",
       "      <th>Split</th>\n",
       "      <th>Sequence</th>\n",
       "      <th>JobTitle</th>\n",
       "    </tr>\n",
       "  </thead>\n",
       "  <tbody>\n",
       "    <tr>\n",
       "      <th>0</th>\n",
       "      <td>47</td>\n",
       "      <td>1</td>\n",
       "      <td>Train</td>\n",
       "      <td>1</td>\n",
       "      <td>National Space Communication Programs-Special ...</td>\n",
       "    </tr>\n",
       "    <tr>\n",
       "      <th>1</th>\n",
       "      <td>47</td>\n",
       "      <td>1</td>\n",
       "      <td>Train</td>\n",
       "      <td>2</td>\n",
       "      <td>Detention Officer</td>\n",
       "    </tr>\n",
       "    <tr>\n",
       "      <th>2</th>\n",
       "      <td>47</td>\n",
       "      <td>1</td>\n",
       "      <td>Train</td>\n",
       "      <td>3</td>\n",
       "      <td>Passenger Screener, TSA</td>\n",
       "    </tr>\n",
       "    <tr>\n",
       "      <th>3</th>\n",
       "      <td>72</td>\n",
       "      <td>1</td>\n",
       "      <td>Train</td>\n",
       "      <td>1</td>\n",
       "      <td>Lecturer, Department of Anthropology</td>\n",
       "    </tr>\n",
       "    <tr>\n",
       "      <th>4</th>\n",
       "      <td>72</td>\n",
       "      <td>1</td>\n",
       "      <td>Train</td>\n",
       "      <td>2</td>\n",
       "      <td>Student Assistant</td>\n",
       "    </tr>\n",
       "  </tbody>\n",
       "</table>\n",
       "</div>"
      ],
      "text/plain": [
       "   UserID  WindowID  Split  Sequence  \\\n",
       "0      47         1  Train         1   \n",
       "1      47         1  Train         2   \n",
       "2      47         1  Train         3   \n",
       "3      72         1  Train         1   \n",
       "4      72         1  Train         2   \n",
       "\n",
       "                                            JobTitle  \n",
       "0  National Space Communication Programs-Special ...  \n",
       "1                                  Detention Officer  \n",
       "2                            Passenger Screener, TSA  \n",
       "3               Lecturer, Department of Anthropology  \n",
       "4                                  Student Assistant  "
      ]
     },
     "execution_count": 38,
     "metadata": {},
     "output_type": "execute_result"
    }
   ],
   "source": [
    "user_history_training.head()"
   ]
  },
  {
   "cell_type": "code",
   "execution_count": 39,
   "metadata": {},
   "outputs": [],
   "source": [
    "user_history_testing = user_history.loc[user_history['Split'] =='Test']"
   ]
  },
  {
   "cell_type": "code",
   "execution_count": 40,
   "metadata": {},
   "outputs": [
    {
     "data": {
      "text/plain": [
       "(101388, 5)"
      ]
     },
     "execution_count": 40,
     "metadata": {},
     "output_type": "execute_result"
    }
   ],
   "source": [
    "user_history_testing.shape"
   ]
  },
  {
   "cell_type": "code",
   "execution_count": 41,
   "metadata": {},
   "outputs": [
    {
     "data": {
      "text/html": [
       "<div>\n",
       "<style scoped>\n",
       "    .dataframe tbody tr th:only-of-type {\n",
       "        vertical-align: middle;\n",
       "    }\n",
       "\n",
       "    .dataframe tbody tr th {\n",
       "        vertical-align: top;\n",
       "    }\n",
       "\n",
       "    .dataframe thead th {\n",
       "        text-align: right;\n",
       "    }\n",
       "</style>\n",
       "<table border=\"1\" class=\"dataframe\">\n",
       "  <thead>\n",
       "    <tr style=\"text-align: right;\">\n",
       "      <th></th>\n",
       "      <th>UserID</th>\n",
       "      <th>WindowID</th>\n",
       "      <th>Split</th>\n",
       "      <th>Sequence</th>\n",
       "      <th>JobTitle</th>\n",
       "    </tr>\n",
       "  </thead>\n",
       "  <tbody>\n",
       "    <tr>\n",
       "      <th>144</th>\n",
       "      <td>767</td>\n",
       "      <td>1</td>\n",
       "      <td>Test</td>\n",
       "      <td>1</td>\n",
       "      <td>Claims Adjuster</td>\n",
       "    </tr>\n",
       "    <tr>\n",
       "      <th>145</th>\n",
       "      <td>767</td>\n",
       "      <td>1</td>\n",
       "      <td>Test</td>\n",
       "      <td>2</td>\n",
       "      <td>Professional Baseball Player</td>\n",
       "    </tr>\n",
       "    <tr>\n",
       "      <th>146</th>\n",
       "      <td>767</td>\n",
       "      <td>1</td>\n",
       "      <td>Test</td>\n",
       "      <td>3</td>\n",
       "      <td>Professional Baseball Player</td>\n",
       "    </tr>\n",
       "    <tr>\n",
       "      <th>147</th>\n",
       "      <td>767</td>\n",
       "      <td>1</td>\n",
       "      <td>Test</td>\n",
       "      <td>4</td>\n",
       "      <td>Professional Baseball Player</td>\n",
       "    </tr>\n",
       "    <tr>\n",
       "      <th>148</th>\n",
       "      <td>767</td>\n",
       "      <td>1</td>\n",
       "      <td>Test</td>\n",
       "      <td>5</td>\n",
       "      <td>Professional Baseball Player</td>\n",
       "    </tr>\n",
       "  </tbody>\n",
       "</table>\n",
       "</div>"
      ],
      "text/plain": [
       "     UserID  WindowID Split  Sequence                      JobTitle\n",
       "144     767         1  Test         1               Claims Adjuster\n",
       "145     767         1  Test         2  Professional Baseball Player\n",
       "146     767         1  Test         3  Professional Baseball Player\n",
       "147     767         1  Test         4  Professional Baseball Player\n",
       "148     767         1  Test         5  Professional Baseball Player"
      ]
     },
     "execution_count": 41,
     "metadata": {},
     "output_type": "execute_result"
    }
   ],
   "source": [
    "user_history_testing.head()"
   ]
  },
  {
   "cell_type": "code",
   "execution_count": 42,
   "metadata": {},
   "outputs": [],
   "source": [
    "users_training = users.loc[users['Split']=='Train']"
   ]
  },
  {
   "cell_type": "code",
   "execution_count": 43,
   "metadata": {},
   "outputs": [
    {
     "data": {
      "text/plain": [
       "(366870, 15)"
      ]
     },
     "execution_count": 43,
     "metadata": {},
     "output_type": "execute_result"
    }
   ],
   "source": [
    "users_training.shape"
   ]
  },
  {
   "cell_type": "code",
   "execution_count": 44,
   "metadata": {},
   "outputs": [
    {
     "data": {
      "text/html": [
       "<div>\n",
       "<style scoped>\n",
       "    .dataframe tbody tr th:only-of-type {\n",
       "        vertical-align: middle;\n",
       "    }\n",
       "\n",
       "    .dataframe tbody tr th {\n",
       "        vertical-align: top;\n",
       "    }\n",
       "\n",
       "    .dataframe thead th {\n",
       "        text-align: right;\n",
       "    }\n",
       "</style>\n",
       "<table border=\"1\" class=\"dataframe\">\n",
       "  <thead>\n",
       "    <tr style=\"text-align: right;\">\n",
       "      <th></th>\n",
       "      <th>UserID</th>\n",
       "      <th>WindowID</th>\n",
       "      <th>Split</th>\n",
       "      <th>City</th>\n",
       "      <th>State</th>\n",
       "      <th>Country</th>\n",
       "      <th>ZipCode</th>\n",
       "      <th>DegreeType</th>\n",
       "      <th>Major</th>\n",
       "      <th>GraduationDate</th>\n",
       "      <th>WorkHistoryCount</th>\n",
       "      <th>TotalYearsExperience</th>\n",
       "      <th>CurrentlyEmployed</th>\n",
       "      <th>ManagedOthers</th>\n",
       "      <th>ManagedHowMany</th>\n",
       "    </tr>\n",
       "  </thead>\n",
       "  <tbody>\n",
       "    <tr>\n",
       "      <th>0</th>\n",
       "      <td>47</td>\n",
       "      <td>1</td>\n",
       "      <td>Train</td>\n",
       "      <td>Paramount</td>\n",
       "      <td>CA</td>\n",
       "      <td>US</td>\n",
       "      <td>90723</td>\n",
       "      <td>High School</td>\n",
       "      <td>NaN</td>\n",
       "      <td>1999-06-01 00:00:00</td>\n",
       "      <td>3</td>\n",
       "      <td>10.0</td>\n",
       "      <td>Yes</td>\n",
       "      <td>No</td>\n",
       "      <td>0</td>\n",
       "    </tr>\n",
       "    <tr>\n",
       "      <th>1</th>\n",
       "      <td>72</td>\n",
       "      <td>1</td>\n",
       "      <td>Train</td>\n",
       "      <td>La Mesa</td>\n",
       "      <td>CA</td>\n",
       "      <td>US</td>\n",
       "      <td>91941</td>\n",
       "      <td>Master's</td>\n",
       "      <td>Anthropology</td>\n",
       "      <td>2011-01-01 00:00:00</td>\n",
       "      <td>10</td>\n",
       "      <td>8.0</td>\n",
       "      <td>Yes</td>\n",
       "      <td>No</td>\n",
       "      <td>0</td>\n",
       "    </tr>\n",
       "    <tr>\n",
       "      <th>2</th>\n",
       "      <td>80</td>\n",
       "      <td>1</td>\n",
       "      <td>Train</td>\n",
       "      <td>Williamstown</td>\n",
       "      <td>NJ</td>\n",
       "      <td>US</td>\n",
       "      <td>08094</td>\n",
       "      <td>High School</td>\n",
       "      <td>Not Applicable</td>\n",
       "      <td>1985-06-01 00:00:00</td>\n",
       "      <td>5</td>\n",
       "      <td>11.0</td>\n",
       "      <td>Yes</td>\n",
       "      <td>Yes</td>\n",
       "      <td>5</td>\n",
       "    </tr>\n",
       "    <tr>\n",
       "      <th>3</th>\n",
       "      <td>98</td>\n",
       "      <td>1</td>\n",
       "      <td>Train</td>\n",
       "      <td>Astoria</td>\n",
       "      <td>NY</td>\n",
       "      <td>US</td>\n",
       "      <td>11105</td>\n",
       "      <td>Master's</td>\n",
       "      <td>Journalism</td>\n",
       "      <td>2007-05-01 00:00:00</td>\n",
       "      <td>3</td>\n",
       "      <td>3.0</td>\n",
       "      <td>Yes</td>\n",
       "      <td>No</td>\n",
       "      <td>0</td>\n",
       "    </tr>\n",
       "    <tr>\n",
       "      <th>4</th>\n",
       "      <td>123</td>\n",
       "      <td>1</td>\n",
       "      <td>Train</td>\n",
       "      <td>Baton Rouge</td>\n",
       "      <td>LA</td>\n",
       "      <td>US</td>\n",
       "      <td>70808</td>\n",
       "      <td>Bachelor's</td>\n",
       "      <td>Agricultural Business</td>\n",
       "      <td>2011-05-01 00:00:00</td>\n",
       "      <td>1</td>\n",
       "      <td>9.0</td>\n",
       "      <td>Yes</td>\n",
       "      <td>No</td>\n",
       "      <td>0</td>\n",
       "    </tr>\n",
       "  </tbody>\n",
       "</table>\n",
       "</div>"
      ],
      "text/plain": [
       "   UserID  WindowID  Split          City State Country ZipCode   DegreeType  \\\n",
       "0      47         1  Train     Paramount    CA      US   90723  High School   \n",
       "1      72         1  Train       La Mesa    CA      US   91941     Master's   \n",
       "2      80         1  Train  Williamstown    NJ      US   08094  High School   \n",
       "3      98         1  Train       Astoria    NY      US   11105     Master's   \n",
       "4     123         1  Train   Baton Rouge    LA      US   70808   Bachelor's   \n",
       "\n",
       "                   Major       GraduationDate  WorkHistoryCount  \\\n",
       "0                    NaN  1999-06-01 00:00:00                 3   \n",
       "1           Anthropology  2011-01-01 00:00:00                10   \n",
       "2         Not Applicable  1985-06-01 00:00:00                 5   \n",
       "3             Journalism  2007-05-01 00:00:00                 3   \n",
       "4  Agricultural Business  2011-05-01 00:00:00                 1   \n",
       "\n",
       "   TotalYearsExperience CurrentlyEmployed ManagedOthers  ManagedHowMany  \n",
       "0                  10.0               Yes            No               0  \n",
       "1                   8.0               Yes            No               0  \n",
       "2                  11.0               Yes           Yes               5  \n",
       "3                   3.0               Yes            No               0  \n",
       "4                   9.0               Yes            No               0  "
      ]
     },
     "execution_count": 44,
     "metadata": {},
     "output_type": "execute_result"
    }
   ],
   "source": [
    "users_training.head()"
   ]
  },
  {
   "cell_type": "code",
   "execution_count": 45,
   "metadata": {},
   "outputs": [],
   "source": [
    "users_testing = users.loc[users['Split']=='Test']"
   ]
  },
  {
   "cell_type": "code",
   "execution_count": 46,
   "metadata": {},
   "outputs": [
    {
     "data": {
      "text/plain": [
       "(22838, 15)"
      ]
     },
     "execution_count": 46,
     "metadata": {},
     "output_type": "execute_result"
    }
   ],
   "source": [
    "users_testing.shape"
   ]
  },
  {
   "cell_type": "code",
   "execution_count": 47,
   "metadata": {},
   "outputs": [
    {
     "data": {
      "text/html": [
       "<div>\n",
       "<style scoped>\n",
       "    .dataframe tbody tr th:only-of-type {\n",
       "        vertical-align: middle;\n",
       "    }\n",
       "\n",
       "    .dataframe tbody tr th {\n",
       "        vertical-align: top;\n",
       "    }\n",
       "\n",
       "    .dataframe thead th {\n",
       "        text-align: right;\n",
       "    }\n",
       "</style>\n",
       "<table border=\"1\" class=\"dataframe\">\n",
       "  <thead>\n",
       "    <tr style=\"text-align: right;\">\n",
       "      <th></th>\n",
       "      <th>UserID</th>\n",
       "      <th>WindowID</th>\n",
       "      <th>Split</th>\n",
       "      <th>City</th>\n",
       "      <th>State</th>\n",
       "      <th>Country</th>\n",
       "      <th>ZipCode</th>\n",
       "      <th>DegreeType</th>\n",
       "      <th>Major</th>\n",
       "      <th>GraduationDate</th>\n",
       "      <th>WorkHistoryCount</th>\n",
       "      <th>TotalYearsExperience</th>\n",
       "      <th>CurrentlyEmployed</th>\n",
       "      <th>ManagedOthers</th>\n",
       "      <th>ManagedHowMany</th>\n",
       "    </tr>\n",
       "  </thead>\n",
       "  <tbody>\n",
       "    <tr>\n",
       "      <th>31</th>\n",
       "      <td>767</td>\n",
       "      <td>1</td>\n",
       "      <td>Test</td>\n",
       "      <td>Murrieta</td>\n",
       "      <td>CA</td>\n",
       "      <td>US</td>\n",
       "      <td>92562</td>\n",
       "      <td>Bachelor's</td>\n",
       "      <td>University Studies/Business</td>\n",
       "      <td>2008-05-01 00:00:00</td>\n",
       "      <td>5</td>\n",
       "      <td>16.0</td>\n",
       "      <td>No</td>\n",
       "      <td>No</td>\n",
       "      <td>0</td>\n",
       "    </tr>\n",
       "    <tr>\n",
       "      <th>32</th>\n",
       "      <td>769</td>\n",
       "      <td>1</td>\n",
       "      <td>Test</td>\n",
       "      <td>Roselle</td>\n",
       "      <td>IL</td>\n",
       "      <td>US</td>\n",
       "      <td>60172</td>\n",
       "      <td>Bachelor's</td>\n",
       "      <td>Radio-Television</td>\n",
       "      <td>2011-05-01 00:00:00</td>\n",
       "      <td>5</td>\n",
       "      <td>5.0</td>\n",
       "      <td>Yes</td>\n",
       "      <td>No</td>\n",
       "      <td>0</td>\n",
       "    </tr>\n",
       "    <tr>\n",
       "      <th>33</th>\n",
       "      <td>861</td>\n",
       "      <td>1</td>\n",
       "      <td>Test</td>\n",
       "      <td>Morris</td>\n",
       "      <td>IL</td>\n",
       "      <td>US</td>\n",
       "      <td>60450</td>\n",
       "      <td>High School</td>\n",
       "      <td>General Studies</td>\n",
       "      <td>1989-05-01 00:00:00</td>\n",
       "      <td>7</td>\n",
       "      <td>21.0</td>\n",
       "      <td>NaN</td>\n",
       "      <td>No</td>\n",
       "      <td>0</td>\n",
       "    </tr>\n",
       "    <tr>\n",
       "      <th>38</th>\n",
       "      <td>1006</td>\n",
       "      <td>1</td>\n",
       "      <td>Test</td>\n",
       "      <td>West Chester</td>\n",
       "      <td>PA</td>\n",
       "      <td>US</td>\n",
       "      <td>19382</td>\n",
       "      <td>High School</td>\n",
       "      <td>Not Applicable</td>\n",
       "      <td>2008-06-01 00:00:00</td>\n",
       "      <td>3</td>\n",
       "      <td>6.0</td>\n",
       "      <td>Yes</td>\n",
       "      <td>No</td>\n",
       "      <td>0</td>\n",
       "    </tr>\n",
       "    <tr>\n",
       "      <th>44</th>\n",
       "      <td>1192</td>\n",
       "      <td>1</td>\n",
       "      <td>Test</td>\n",
       "      <td>Cincinnati</td>\n",
       "      <td>OH</td>\n",
       "      <td>US</td>\n",
       "      <td>45255</td>\n",
       "      <td>Bachelor's</td>\n",
       "      <td>Marketing</td>\n",
       "      <td>NaN</td>\n",
       "      <td>5</td>\n",
       "      <td>6.0</td>\n",
       "      <td>Yes</td>\n",
       "      <td>No</td>\n",
       "      <td>0</td>\n",
       "    </tr>\n",
       "  </tbody>\n",
       "</table>\n",
       "</div>"
      ],
      "text/plain": [
       "    UserID  WindowID Split          City State Country ZipCode   DegreeType  \\\n",
       "31     767         1  Test      Murrieta    CA      US   92562   Bachelor's   \n",
       "32     769         1  Test       Roselle    IL      US   60172   Bachelor's   \n",
       "33     861         1  Test        Morris    IL      US   60450  High School   \n",
       "38    1006         1  Test  West Chester    PA      US   19382  High School   \n",
       "44    1192         1  Test    Cincinnati    OH      US   45255   Bachelor's   \n",
       "\n",
       "                          Major       GraduationDate  WorkHistoryCount  \\\n",
       "31  University Studies/Business  2008-05-01 00:00:00                 5   \n",
       "32             Radio-Television  2011-05-01 00:00:00                 5   \n",
       "33              General Studies  1989-05-01 00:00:00                 7   \n",
       "38               Not Applicable  2008-06-01 00:00:00                 3   \n",
       "44                    Marketing                  NaN                 5   \n",
       "\n",
       "    TotalYearsExperience CurrentlyEmployed ManagedOthers  ManagedHowMany  \n",
       "31                  16.0                No            No               0  \n",
       "32                   5.0               Yes            No               0  \n",
       "33                  21.0               NaN            No               0  \n",
       "38                   6.0               Yes            No               0  \n",
       "44                   6.0               Yes            No               0  "
      ]
     },
     "execution_count": 47,
     "metadata": {},
     "output_type": "execute_result"
    }
   ],
   "source": [
    "users_testing.head()"
   ]
  },
  {
   "cell_type": "markdown",
   "metadata": {},
   "source": [
    "### List down all training data records "
   ]
  },
  {
   "cell_type": "code",
   "execution_count": 48,
   "metadata": {},
   "outputs": [
    {
     "data": {
      "text/html": [
       "<div>\n",
       "<style scoped>\n",
       "    .dataframe tbody tr th:only-of-type {\n",
       "        vertical-align: middle;\n",
       "    }\n",
       "\n",
       "    .dataframe tbody tr th {\n",
       "        vertical-align: top;\n",
       "    }\n",
       "\n",
       "    .dataframe thead th {\n",
       "        text-align: right;\n",
       "    }\n",
       "</style>\n",
       "<table border=\"1\" class=\"dataframe\">\n",
       "  <thead>\n",
       "    <tr style=\"text-align: right;\">\n",
       "      <th></th>\n",
       "      <th>UserID</th>\n",
       "      <th>WindowID</th>\n",
       "      <th>Split</th>\n",
       "      <th>ApplicationDate</th>\n",
       "      <th>JobID</th>\n",
       "    </tr>\n",
       "  </thead>\n",
       "  <tbody>\n",
       "    <tr>\n",
       "      <th>0</th>\n",
       "      <td>47</td>\n",
       "      <td>1</td>\n",
       "      <td>Train</td>\n",
       "      <td>2012-04-04 15:56:23.537</td>\n",
       "      <td>169528</td>\n",
       "    </tr>\n",
       "    <tr>\n",
       "      <th>1</th>\n",
       "      <td>47</td>\n",
       "      <td>1</td>\n",
       "      <td>Train</td>\n",
       "      <td>2012-04-06 01:03:00.003</td>\n",
       "      <td>284009</td>\n",
       "    </tr>\n",
       "    <tr>\n",
       "      <th>2</th>\n",
       "      <td>47</td>\n",
       "      <td>1</td>\n",
       "      <td>Train</td>\n",
       "      <td>2012-04-05 02:40:27.753</td>\n",
       "      <td>2121</td>\n",
       "    </tr>\n",
       "    <tr>\n",
       "      <th>3</th>\n",
       "      <td>47</td>\n",
       "      <td>1</td>\n",
       "      <td>Train</td>\n",
       "      <td>2012-04-05 02:37:02.673</td>\n",
       "      <td>848187</td>\n",
       "    </tr>\n",
       "    <tr>\n",
       "      <th>4</th>\n",
       "      <td>47</td>\n",
       "      <td>1</td>\n",
       "      <td>Train</td>\n",
       "      <td>2012-04-05 22:44:06.653</td>\n",
       "      <td>733748</td>\n",
       "    </tr>\n",
       "  </tbody>\n",
       "</table>\n",
       "</div>"
      ],
      "text/plain": [
       "   UserID  WindowID  Split          ApplicationDate   JobID\n",
       "0      47         1  Train  2012-04-04 15:56:23.537  169528\n",
       "1      47         1  Train  2012-04-06 01:03:00.003  284009\n",
       "2      47         1  Train  2012-04-05 02:40:27.753    2121\n",
       "3      47         1  Train  2012-04-05 02:37:02.673  848187\n",
       "4      47         1  Train  2012-04-05 22:44:06.653  733748"
      ]
     },
     "execution_count": 48,
     "metadata": {},
     "output_type": "execute_result"
    }
   ],
   "source": [
    "apps_training.head()"
   ]
  },
  {
   "cell_type": "code",
   "execution_count": 49,
   "metadata": {},
   "outputs": [
    {
     "data": {
      "text/html": [
       "<div>\n",
       "<style scoped>\n",
       "    .dataframe tbody tr th:only-of-type {\n",
       "        vertical-align: middle;\n",
       "    }\n",
       "\n",
       "    .dataframe tbody tr th {\n",
       "        vertical-align: top;\n",
       "    }\n",
       "\n",
       "    .dataframe thead th {\n",
       "        text-align: right;\n",
       "    }\n",
       "</style>\n",
       "<table border=\"1\" class=\"dataframe\">\n",
       "  <thead>\n",
       "    <tr style=\"text-align: right;\">\n",
       "      <th></th>\n",
       "      <th>UserID</th>\n",
       "      <th>WindowID</th>\n",
       "      <th>Split</th>\n",
       "      <th>Sequence</th>\n",
       "      <th>JobTitle</th>\n",
       "    </tr>\n",
       "  </thead>\n",
       "  <tbody>\n",
       "    <tr>\n",
       "      <th>0</th>\n",
       "      <td>47</td>\n",
       "      <td>1</td>\n",
       "      <td>Train</td>\n",
       "      <td>1</td>\n",
       "      <td>National Space Communication Programs-Special ...</td>\n",
       "    </tr>\n",
       "    <tr>\n",
       "      <th>1</th>\n",
       "      <td>47</td>\n",
       "      <td>1</td>\n",
       "      <td>Train</td>\n",
       "      <td>2</td>\n",
       "      <td>Detention Officer</td>\n",
       "    </tr>\n",
       "    <tr>\n",
       "      <th>2</th>\n",
       "      <td>47</td>\n",
       "      <td>1</td>\n",
       "      <td>Train</td>\n",
       "      <td>3</td>\n",
       "      <td>Passenger Screener, TSA</td>\n",
       "    </tr>\n",
       "    <tr>\n",
       "      <th>3</th>\n",
       "      <td>72</td>\n",
       "      <td>1</td>\n",
       "      <td>Train</td>\n",
       "      <td>1</td>\n",
       "      <td>Lecturer, Department of Anthropology</td>\n",
       "    </tr>\n",
       "    <tr>\n",
       "      <th>4</th>\n",
       "      <td>72</td>\n",
       "      <td>1</td>\n",
       "      <td>Train</td>\n",
       "      <td>2</td>\n",
       "      <td>Student Assistant</td>\n",
       "    </tr>\n",
       "  </tbody>\n",
       "</table>\n",
       "</div>"
      ],
      "text/plain": [
       "   UserID  WindowID  Split  Sequence  \\\n",
       "0      47         1  Train         1   \n",
       "1      47         1  Train         2   \n",
       "2      47         1  Train         3   \n",
       "3      72         1  Train         1   \n",
       "4      72         1  Train         2   \n",
       "\n",
       "                                            JobTitle  \n",
       "0  National Space Communication Programs-Special ...  \n",
       "1                                  Detention Officer  \n",
       "2                            Passenger Screener, TSA  \n",
       "3               Lecturer, Department of Anthropology  \n",
       "4                                  Student Assistant  "
      ]
     },
     "execution_count": 49,
     "metadata": {},
     "output_type": "execute_result"
    }
   ],
   "source": [
    "user_history_training.head()"
   ]
  },
  {
   "cell_type": "code",
   "execution_count": 50,
   "metadata": {},
   "outputs": [
    {
     "data": {
      "text/html": [
       "<div>\n",
       "<style scoped>\n",
       "    .dataframe tbody tr th:only-of-type {\n",
       "        vertical-align: middle;\n",
       "    }\n",
       "\n",
       "    .dataframe tbody tr th {\n",
       "        vertical-align: top;\n",
       "    }\n",
       "\n",
       "    .dataframe thead th {\n",
       "        text-align: right;\n",
       "    }\n",
       "</style>\n",
       "<table border=\"1\" class=\"dataframe\">\n",
       "  <thead>\n",
       "    <tr style=\"text-align: right;\">\n",
       "      <th></th>\n",
       "      <th>0</th>\n",
       "      <th>1</th>\n",
       "      <th>2</th>\n",
       "      <th>3</th>\n",
       "      <th>4</th>\n",
       "    </tr>\n",
       "  </thead>\n",
       "  <tbody>\n",
       "    <tr>\n",
       "      <th>UserID</th>\n",
       "      <td>47</td>\n",
       "      <td>72</td>\n",
       "      <td>80</td>\n",
       "      <td>98</td>\n",
       "      <td>123</td>\n",
       "    </tr>\n",
       "    <tr>\n",
       "      <th>WindowID</th>\n",
       "      <td>1</td>\n",
       "      <td>1</td>\n",
       "      <td>1</td>\n",
       "      <td>1</td>\n",
       "      <td>1</td>\n",
       "    </tr>\n",
       "    <tr>\n",
       "      <th>Split</th>\n",
       "      <td>Train</td>\n",
       "      <td>Train</td>\n",
       "      <td>Train</td>\n",
       "      <td>Train</td>\n",
       "      <td>Train</td>\n",
       "    </tr>\n",
       "    <tr>\n",
       "      <th>City</th>\n",
       "      <td>Paramount</td>\n",
       "      <td>La Mesa</td>\n",
       "      <td>Williamstown</td>\n",
       "      <td>Astoria</td>\n",
       "      <td>Baton Rouge</td>\n",
       "    </tr>\n",
       "    <tr>\n",
       "      <th>State</th>\n",
       "      <td>CA</td>\n",
       "      <td>CA</td>\n",
       "      <td>NJ</td>\n",
       "      <td>NY</td>\n",
       "      <td>LA</td>\n",
       "    </tr>\n",
       "    <tr>\n",
       "      <th>Country</th>\n",
       "      <td>US</td>\n",
       "      <td>US</td>\n",
       "      <td>US</td>\n",
       "      <td>US</td>\n",
       "      <td>US</td>\n",
       "    </tr>\n",
       "    <tr>\n",
       "      <th>ZipCode</th>\n",
       "      <td>90723</td>\n",
       "      <td>91941</td>\n",
       "      <td>08094</td>\n",
       "      <td>11105</td>\n",
       "      <td>70808</td>\n",
       "    </tr>\n",
       "    <tr>\n",
       "      <th>DegreeType</th>\n",
       "      <td>High School</td>\n",
       "      <td>Master's</td>\n",
       "      <td>High School</td>\n",
       "      <td>Master's</td>\n",
       "      <td>Bachelor's</td>\n",
       "    </tr>\n",
       "    <tr>\n",
       "      <th>Major</th>\n",
       "      <td>NaN</td>\n",
       "      <td>Anthropology</td>\n",
       "      <td>Not Applicable</td>\n",
       "      <td>Journalism</td>\n",
       "      <td>Agricultural Business</td>\n",
       "    </tr>\n",
       "    <tr>\n",
       "      <th>GraduationDate</th>\n",
       "      <td>1999-06-01 00:00:00</td>\n",
       "      <td>2011-01-01 00:00:00</td>\n",
       "      <td>1985-06-01 00:00:00</td>\n",
       "      <td>2007-05-01 00:00:00</td>\n",
       "      <td>2011-05-01 00:00:00</td>\n",
       "    </tr>\n",
       "    <tr>\n",
       "      <th>WorkHistoryCount</th>\n",
       "      <td>3</td>\n",
       "      <td>10</td>\n",
       "      <td>5</td>\n",
       "      <td>3</td>\n",
       "      <td>1</td>\n",
       "    </tr>\n",
       "    <tr>\n",
       "      <th>TotalYearsExperience</th>\n",
       "      <td>10.0</td>\n",
       "      <td>8.0</td>\n",
       "      <td>11.0</td>\n",
       "      <td>3.0</td>\n",
       "      <td>9.0</td>\n",
       "    </tr>\n",
       "    <tr>\n",
       "      <th>CurrentlyEmployed</th>\n",
       "      <td>Yes</td>\n",
       "      <td>Yes</td>\n",
       "      <td>Yes</td>\n",
       "      <td>Yes</td>\n",
       "      <td>Yes</td>\n",
       "    </tr>\n",
       "    <tr>\n",
       "      <th>ManagedOthers</th>\n",
       "      <td>No</td>\n",
       "      <td>No</td>\n",
       "      <td>Yes</td>\n",
       "      <td>No</td>\n",
       "      <td>No</td>\n",
       "    </tr>\n",
       "    <tr>\n",
       "      <th>ManagedHowMany</th>\n",
       "      <td>0</td>\n",
       "      <td>0</td>\n",
       "      <td>5</td>\n",
       "      <td>0</td>\n",
       "      <td>0</td>\n",
       "    </tr>\n",
       "  </tbody>\n",
       "</table>\n",
       "</div>"
      ],
      "text/plain": [
       "                                        0                    1  \\\n",
       "UserID                                 47                   72   \n",
       "WindowID                                1                    1   \n",
       "Split                               Train                Train   \n",
       "City                            Paramount              La Mesa   \n",
       "State                                  CA                   CA   \n",
       "Country                                US                   US   \n",
       "ZipCode                             90723                91941   \n",
       "DegreeType                    High School             Master's   \n",
       "Major                                 NaN         Anthropology   \n",
       "GraduationDate        1999-06-01 00:00:00  2011-01-01 00:00:00   \n",
       "WorkHistoryCount                        3                   10   \n",
       "TotalYearsExperience                 10.0                  8.0   \n",
       "CurrentlyEmployed                     Yes                  Yes   \n",
       "ManagedOthers                          No                   No   \n",
       "ManagedHowMany                          0                    0   \n",
       "\n",
       "                                        2                    3  \\\n",
       "UserID                                 80                   98   \n",
       "WindowID                                1                    1   \n",
       "Split                               Train                Train   \n",
       "City                         Williamstown              Astoria   \n",
       "State                                  NJ                   NY   \n",
       "Country                                US                   US   \n",
       "ZipCode                             08094                11105   \n",
       "DegreeType                    High School             Master's   \n",
       "Major                      Not Applicable           Journalism   \n",
       "GraduationDate        1985-06-01 00:00:00  2007-05-01 00:00:00   \n",
       "WorkHistoryCount                        5                    3   \n",
       "TotalYearsExperience                 11.0                  3.0   \n",
       "CurrentlyEmployed                     Yes                  Yes   \n",
       "ManagedOthers                         Yes                   No   \n",
       "ManagedHowMany                          5                    0   \n",
       "\n",
       "                                          4  \n",
       "UserID                                  123  \n",
       "WindowID                                  1  \n",
       "Split                                 Train  \n",
       "City                            Baton Rouge  \n",
       "State                                    LA  \n",
       "Country                                  US  \n",
       "ZipCode                               70808  \n",
       "DegreeType                       Bachelor's  \n",
       "Major                 Agricultural Business  \n",
       "GraduationDate          2011-05-01 00:00:00  \n",
       "WorkHistoryCount                          1  \n",
       "TotalYearsExperience                    9.0  \n",
       "CurrentlyEmployed                       Yes  \n",
       "ManagedOthers                            No  \n",
       "ManagedHowMany                            0  "
      ]
     },
     "execution_count": 50,
     "metadata": {},
     "output_type": "execute_result"
    }
   ],
   "source": [
    "users_training.head(5).transpose()"
   ]
  },
  {
   "cell_type": "code",
   "execution_count": 51,
   "metadata": {},
   "outputs": [
    {
     "data": {
      "text/html": [
       "<div>\n",
       "<style scoped>\n",
       "    .dataframe tbody tr th:only-of-type {\n",
       "        vertical-align: middle;\n",
       "    }\n",
       "\n",
       "    .dataframe tbody tr th {\n",
       "        vertical-align: top;\n",
       "    }\n",
       "\n",
       "    .dataframe thead th {\n",
       "        text-align: right;\n",
       "    }\n",
       "</style>\n",
       "<table border=\"1\" class=\"dataframe\">\n",
       "  <thead>\n",
       "    <tr style=\"text-align: right;\">\n",
       "      <th></th>\n",
       "      <th>JobID</th>\n",
       "      <th>WindowID</th>\n",
       "      <th>Title</th>\n",
       "      <th>Description</th>\n",
       "      <th>Requirements</th>\n",
       "      <th>City</th>\n",
       "      <th>State</th>\n",
       "      <th>Country</th>\n",
       "      <th>Zip5</th>\n",
       "      <th>StartDate</th>\n",
       "      <th>EndDate</th>\n",
       "    </tr>\n",
       "  </thead>\n",
       "  <tbody>\n",
       "    <tr>\n",
       "      <th>0</th>\n",
       "      <td>1</td>\n",
       "      <td>1</td>\n",
       "      <td>Security Engineer/Technical Lead</td>\n",
       "      <td>&lt;p&gt;Security Clearance Required:&amp;nbsp; Top Secr...</td>\n",
       "      <td>&lt;p&gt;SKILL SET&lt;/p&gt;\\r&lt;p&gt;&amp;nbsp;&lt;/p&gt;\\r&lt;p&gt;Network Se...</td>\n",
       "      <td>Washington</td>\n",
       "      <td>DC</td>\n",
       "      <td>US</td>\n",
       "      <td>20531</td>\n",
       "      <td>2012-03-07 13:17:01.643</td>\n",
       "      <td>2012-04-06 23:59:59</td>\n",
       "    </tr>\n",
       "    <tr>\n",
       "      <th>1</th>\n",
       "      <td>4</td>\n",
       "      <td>1</td>\n",
       "      <td>SAP Business Analyst / WM</td>\n",
       "      <td>&lt;strong&gt;NO Corp. to Corp resumes&amp;nbsp;are bein...</td>\n",
       "      <td>&lt;p&gt;&lt;b&gt;WHAT YOU NEED: &lt;/b&gt;&lt;/p&gt;\\r&lt;p&gt;Four year co...</td>\n",
       "      <td>Charlotte</td>\n",
       "      <td>NC</td>\n",
       "      <td>US</td>\n",
       "      <td>28217</td>\n",
       "      <td>2012-03-21 02:03:44.137</td>\n",
       "      <td>2012-04-20 23:59:59</td>\n",
       "    </tr>\n",
       "    <tr>\n",
       "      <th>2</th>\n",
       "      <td>7</td>\n",
       "      <td>1</td>\n",
       "      <td>P/T HUMAN RESOURCES ASSISTANT</td>\n",
       "      <td>&lt;b&gt;    &lt;b&gt; P/T HUMAN RESOURCES ASSISTANT&lt;/b&gt; &lt;...</td>\n",
       "      <td>Please refer to the Job Description to view th...</td>\n",
       "      <td>Winter Park</td>\n",
       "      <td>FL</td>\n",
       "      <td>US</td>\n",
       "      <td>32792</td>\n",
       "      <td>2012-03-02 16:36:55.447</td>\n",
       "      <td>2012-04-01 23:59:59</td>\n",
       "    </tr>\n",
       "    <tr>\n",
       "      <th>3</th>\n",
       "      <td>8</td>\n",
       "      <td>1</td>\n",
       "      <td>Route Delivery Drivers</td>\n",
       "      <td>CITY BEVERAGES Come to work for the best in th...</td>\n",
       "      <td>Please refer to the Job Description to view th...</td>\n",
       "      <td>Orlando</td>\n",
       "      <td>FL</td>\n",
       "      <td>US</td>\n",
       "      <td>NaN</td>\n",
       "      <td>2012-03-03 09:01:10.077</td>\n",
       "      <td>2012-04-02 23:59:59</td>\n",
       "    </tr>\n",
       "    <tr>\n",
       "      <th>4</th>\n",
       "      <td>9</td>\n",
       "      <td>1</td>\n",
       "      <td>Housekeeping</td>\n",
       "      <td>I make  sure every part of their day is magica...</td>\n",
       "      <td>Please refer to the Job Description to view th...</td>\n",
       "      <td>Orlando</td>\n",
       "      <td>FL</td>\n",
       "      <td>US</td>\n",
       "      <td>NaN</td>\n",
       "      <td>2012-03-03 09:01:11.88</td>\n",
       "      <td>2012-04-02 23:59:59</td>\n",
       "    </tr>\n",
       "  </tbody>\n",
       "</table>\n",
       "</div>"
      ],
      "text/plain": [
       "   JobID  WindowID                             Title  \\\n",
       "0      1         1  Security Engineer/Technical Lead   \n",
       "1      4         1         SAP Business Analyst / WM   \n",
       "2      7         1     P/T HUMAN RESOURCES ASSISTANT   \n",
       "3      8         1            Route Delivery Drivers   \n",
       "4      9         1                      Housekeeping   \n",
       "\n",
       "                                         Description  \\\n",
       "0  <p>Security Clearance Required:&nbsp; Top Secr...   \n",
       "1  <strong>NO Corp. to Corp resumes&nbsp;are bein...   \n",
       "2  <b>    <b> P/T HUMAN RESOURCES ASSISTANT</b> <...   \n",
       "3  CITY BEVERAGES Come to work for the best in th...   \n",
       "4  I make  sure every part of their day is magica...   \n",
       "\n",
       "                                        Requirements         City State  \\\n",
       "0  <p>SKILL SET</p>\\r<p>&nbsp;</p>\\r<p>Network Se...   Washington    DC   \n",
       "1  <p><b>WHAT YOU NEED: </b></p>\\r<p>Four year co...    Charlotte    NC   \n",
       "2  Please refer to the Job Description to view th...  Winter Park    FL   \n",
       "3  Please refer to the Job Description to view th...      Orlando    FL   \n",
       "4  Please refer to the Job Description to view th...      Orlando    FL   \n",
       "\n",
       "  Country   Zip5                StartDate              EndDate  \n",
       "0      US  20531  2012-03-07 13:17:01.643  2012-04-06 23:59:59  \n",
       "1      US  28217  2012-03-21 02:03:44.137  2012-04-20 23:59:59  \n",
       "2      US  32792  2012-03-02 16:36:55.447  2012-04-01 23:59:59  \n",
       "3      US    NaN  2012-03-03 09:01:10.077  2012-04-02 23:59:59  \n",
       "4      US    NaN   2012-03-03 09:01:11.88  2012-04-02 23:59:59  "
      ]
     },
     "execution_count": 51,
     "metadata": {},
     "output_type": "execute_result"
    }
   ],
   "source": [
    "jobs.head()"
   ]
  },
  {
   "cell_type": "markdown",
   "metadata": {},
   "source": [
    "### EDA for job openings based on their location information"
   ]
  },
  {
   "cell_type": "code",
   "execution_count": 52,
   "metadata": {},
   "outputs": [
    {
     "data": {
      "text/html": [
       "<div>\n",
       "<style scoped>\n",
       "    .dataframe tbody tr th:only-of-type {\n",
       "        vertical-align: middle;\n",
       "    }\n",
       "\n",
       "    .dataframe tbody tr th {\n",
       "        vertical-align: top;\n",
       "    }\n",
       "\n",
       "    .dataframe thead th {\n",
       "        text-align: right;\n",
       "    }\n",
       "</style>\n",
       "<table border=\"1\" class=\"dataframe\">\n",
       "  <thead>\n",
       "    <tr style=\"text-align: right;\">\n",
       "      <th></th>\n",
       "      <th>City</th>\n",
       "      <th>State</th>\n",
       "      <th>Country</th>\n",
       "      <th>Locationwise</th>\n",
       "    </tr>\n",
       "  </thead>\n",
       "  <tbody>\n",
       "    <tr>\n",
       "      <th>0</th>\n",
       "      <td>&amp;#60;&amp;#47;b&amp;#62; Brno &amp;#60;b&amp;#62;</td>\n",
       "      <td></td>\n",
       "      <td>CZ</td>\n",
       "      <td>1</td>\n",
       "    </tr>\n",
       "    <tr>\n",
       "      <th>1</th>\n",
       "      <td>&amp;#60;&amp;#47;b&amp;#62; Praha &amp;#60;b&amp;#62;</td>\n",
       "      <td></td>\n",
       "      <td>CZ</td>\n",
       "      <td>1</td>\n",
       "    </tr>\n",
       "    <tr>\n",
       "      <th>2</th>\n",
       "      <td>- Any</td>\n",
       "      <td></td>\n",
       "      <td>CZ</td>\n",
       "      <td>13</td>\n",
       "    </tr>\n",
       "    <tr>\n",
       "      <th>3</th>\n",
       "      <td>29 Palms</td>\n",
       "      <td>CA</td>\n",
       "      <td>US</td>\n",
       "      <td>1</td>\n",
       "    </tr>\n",
       "    <tr>\n",
       "      <th>4</th>\n",
       "      <td>&lt;</td>\n",
       "      <td></td>\n",
       "      <td>HU</td>\n",
       "      <td>1</td>\n",
       "    </tr>\n",
       "    <tr>\n",
       "      <th>...</th>\n",
       "      <td>...</td>\n",
       "      <td>...</td>\n",
       "      <td>...</td>\n",
       "      <td>...</td>\n",
       "    </tr>\n",
       "    <tr>\n",
       "      <th>15689</th>\n",
       "      <td>puebla</td>\n",
       "      <td></td>\n",
       "      <td>MX</td>\n",
       "      <td>1</td>\n",
       "    </tr>\n",
       "    <tr>\n",
       "      <th>15690</th>\n",
       "      <td>san jose</td>\n",
       "      <td></td>\n",
       "      <td>BJ</td>\n",
       "      <td>6</td>\n",
       "    </tr>\n",
       "    <tr>\n",
       "      <th>15691</th>\n",
       "      <td>san jose</td>\n",
       "      <td></td>\n",
       "      <td>UA</td>\n",
       "      <td>1</td>\n",
       "    </tr>\n",
       "    <tr>\n",
       "      <th>15692</th>\n",
       "      <td>seoul</td>\n",
       "      <td></td>\n",
       "      <td>KR</td>\n",
       "      <td>2</td>\n",
       "    </tr>\n",
       "    <tr>\n",
       "      <th>15693</th>\n",
       "      <td>ulsoor</td>\n",
       "      <td></td>\n",
       "      <td>BT</td>\n",
       "      <td>1</td>\n",
       "    </tr>\n",
       "  </tbody>\n",
       "</table>\n",
       "<p>15694 rows × 4 columns</p>\n",
       "</div>"
      ],
      "text/plain": [
       "                                     City State Country  Locationwise\n",
       "0       &#60;&#47;b&#62; Brno &#60;b&#62;            CZ             1\n",
       "1      &#60;&#47;b&#62; Praha &#60;b&#62;            CZ             1\n",
       "2                                   - Any            CZ            13\n",
       "3                                29 Palms    CA      US             1\n",
       "4                                       <            HU             1\n",
       "...                                   ...   ...     ...           ...\n",
       "15689                              puebla            MX             1\n",
       "15690                            san jose            BJ             6\n",
       "15691                            san jose            UA             1\n",
       "15692                               seoul            KR             2\n",
       "15693                              ulsoor            BT             1\n",
       "\n",
       "[15694 rows x 4 columns]"
      ]
     },
     "execution_count": 52,
     "metadata": {},
     "output_type": "execute_result"
    }
   ],
   "source": [
    "jobs.groupby(['City','State','Country']).size().reset_index(name='Locationwise')"
   ]
  },
  {
   "cell_type": "markdown",
   "metadata": {},
   "source": [
    "* Here data attribute state, there are some empty values."
   ]
  },
  {
   "cell_type": "code",
   "execution_count": 53,
   "metadata": {},
   "outputs": [
    {
     "data": {
      "text/html": [
       "<div>\n",
       "<style scoped>\n",
       "    .dataframe tbody tr th:only-of-type {\n",
       "        vertical-align: middle;\n",
       "    }\n",
       "\n",
       "    .dataframe tbody tr th {\n",
       "        vertical-align: top;\n",
       "    }\n",
       "\n",
       "    .dataframe thead th {\n",
       "        text-align: right;\n",
       "    }\n",
       "</style>\n",
       "<table border=\"1\" class=\"dataframe\">\n",
       "  <thead>\n",
       "    <tr style=\"text-align: right;\">\n",
       "      <th></th>\n",
       "      <th>Country</th>\n",
       "      <th>Locationwise</th>\n",
       "    </tr>\n",
       "  </thead>\n",
       "  <tbody>\n",
       "    <tr>\n",
       "      <th>59</th>\n",
       "      <td>US</td>\n",
       "      <td>1090462</td>\n",
       "    </tr>\n",
       "    <tr>\n",
       "      <th>4</th>\n",
       "      <td>AF</td>\n",
       "      <td>560</td>\n",
       "    </tr>\n",
       "    <tr>\n",
       "      <th>19</th>\n",
       "      <td>CZ</td>\n",
       "      <td>193</td>\n",
       "    </tr>\n",
       "    <tr>\n",
       "      <th>40</th>\n",
       "      <td>MX</td>\n",
       "      <td>93</td>\n",
       "    </tr>\n",
       "    <tr>\n",
       "      <th>52</th>\n",
       "      <td>TR</td>\n",
       "      <td>81</td>\n",
       "    </tr>\n",
       "  </tbody>\n",
       "</table>\n",
       "</div>"
      ],
      "text/plain": [
       "   Country  Locationwise\n",
       "59      US       1090462\n",
       "4       AF           560\n",
       "19      CZ           193\n",
       "40      MX            93\n",
       "52      TR            81"
      ]
     },
     "execution_count": 53,
     "metadata": {},
     "output_type": "execute_result"
    }
   ],
   "source": [
    "jobs.groupby(['Country']).size().reset_index(name='Locationwise').sort_values('Locationwise',ascending=False).head()"
   ]
  },
  {
   "cell_type": "code",
   "execution_count": 54,
   "metadata": {},
   "outputs": [],
   "source": [
    "Country_wise_job = jobs.groupby(['Country']).size().reset_index(name='Locationwise').sort_values('Locationwise',ascending=False)"
   ]
  },
  {
   "cell_type": "code",
   "execution_count": 55,
   "metadata": {},
   "outputs": [
    {
     "data": {
      "image/png": "[encoded data removed]",
      "text/plain": [
       "<Figure size 800x800 with 1 Axes>"
      ]
     },
     "metadata": {},
     "output_type": "display_data"
    }
   ],
   "source": [
    "plt.figure(figsize=(8,8))\n",
    "ax = sns.barplot(x=\"Country\", y=\"Locationwise\", data=Country_wise_job)\n",
    "ax.set_xticklabels(ax.get_xticklabels(), rotation=90, ha=\"right\")\n",
    "ax.set_title('Country wise job openings')\n",
    "plt.tight_layout()\n",
    "plt.show()"
   ]
  },
  {
   "cell_type": "markdown",
   "metadata": {},
   "source": [
    "##### pre-processing\n",
    "* Considering only US region for building this recommendation system\n",
    "* Removing data records where state is blank or state data attribute is having numerical value."
   ]
  },
  {
   "cell_type": "code",
   "execution_count": 56,
   "metadata": {},
   "outputs": [],
   "source": [
    "jobs_US = jobs.loc[jobs['Country']=='US']"
   ]
  },
  {
   "cell_type": "code",
   "execution_count": 57,
   "metadata": {},
   "outputs": [
    {
     "data": {
      "text/html": [
       "<div>\n",
       "<style scoped>\n",
       "    .dataframe tbody tr th:only-of-type {\n",
       "        vertical-align: middle;\n",
       "    }\n",
       "\n",
       "    .dataframe tbody tr th {\n",
       "        vertical-align: top;\n",
       "    }\n",
       "\n",
       "    .dataframe thead th {\n",
       "        text-align: right;\n",
       "    }\n",
       "</style>\n",
       "<table border=\"1\" class=\"dataframe\">\n",
       "  <thead>\n",
       "    <tr style=\"text-align: right;\">\n",
       "      <th></th>\n",
       "      <th>City</th>\n",
       "      <th>State</th>\n",
       "      <th>Country</th>\n",
       "    </tr>\n",
       "  </thead>\n",
       "  <tbody>\n",
       "    <tr>\n",
       "      <th>0</th>\n",
       "      <td>Washington</td>\n",
       "      <td>DC</td>\n",
       "      <td>US</td>\n",
       "    </tr>\n",
       "    <tr>\n",
       "      <th>1</th>\n",
       "      <td>Charlotte</td>\n",
       "      <td>NC</td>\n",
       "      <td>US</td>\n",
       "    </tr>\n",
       "    <tr>\n",
       "      <th>2</th>\n",
       "      <td>Winter Park</td>\n",
       "      <td>FL</td>\n",
       "      <td>US</td>\n",
       "    </tr>\n",
       "    <tr>\n",
       "      <th>3</th>\n",
       "      <td>Orlando</td>\n",
       "      <td>FL</td>\n",
       "      <td>US</td>\n",
       "    </tr>\n",
       "    <tr>\n",
       "      <th>4</th>\n",
       "      <td>Orlando</td>\n",
       "      <td>FL</td>\n",
       "      <td>US</td>\n",
       "    </tr>\n",
       "    <tr>\n",
       "      <th>...</th>\n",
       "      <td>...</td>\n",
       "      <td>...</td>\n",
       "      <td>...</td>\n",
       "    </tr>\n",
       "    <tr>\n",
       "      <th>1091918</th>\n",
       "      <td>Amsterdam</td>\n",
       "      <td>NY</td>\n",
       "      <td>US</td>\n",
       "    </tr>\n",
       "    <tr>\n",
       "      <th>1091919</th>\n",
       "      <td>Birmingham</td>\n",
       "      <td>AL</td>\n",
       "      <td>US</td>\n",
       "    </tr>\n",
       "    <tr>\n",
       "      <th>1091920</th>\n",
       "      <td>Carthage</td>\n",
       "      <td>MS</td>\n",
       "      <td>US</td>\n",
       "    </tr>\n",
       "    <tr>\n",
       "      <th>1091921</th>\n",
       "      <td>Warren</td>\n",
       "      <td>MI</td>\n",
       "      <td>US</td>\n",
       "    </tr>\n",
       "    <tr>\n",
       "      <th>1091922</th>\n",
       "      <td>Syracuse</td>\n",
       "      <td>NY</td>\n",
       "      <td>US</td>\n",
       "    </tr>\n",
       "  </tbody>\n",
       "</table>\n",
       "<p>1090462 rows × 3 columns</p>\n",
       "</div>"
      ],
      "text/plain": [
       "                City State Country\n",
       "0         Washington    DC      US\n",
       "1          Charlotte    NC      US\n",
       "2        Winter Park    FL      US\n",
       "3            Orlando    FL      US\n",
       "4            Orlando    FL      US\n",
       "...              ...   ...     ...\n",
       "1091918    Amsterdam    NY      US\n",
       "1091919   Birmingham    AL      US\n",
       "1091920     Carthage    MS      US\n",
       "1091921       Warren    MI      US\n",
       "1091922     Syracuse    NY      US\n",
       "\n",
       "[1090462 rows x 3 columns]"
      ]
     },
     "execution_count": 57,
     "metadata": {},
     "output_type": "execute_result"
    }
   ],
   "source": [
    "jobs_US[['City','State','Country']]"
   ]
  },
  {
   "cell_type": "code",
   "execution_count": 58,
   "metadata": {},
   "outputs": [
    {
     "data": {
      "text/html": [
       "<div>\n",
       "<style scoped>\n",
       "    .dataframe tbody tr th:only-of-type {\n",
       "        vertical-align: middle;\n",
       "    }\n",
       "\n",
       "    .dataframe tbody tr th {\n",
       "        vertical-align: top;\n",
       "    }\n",
       "\n",
       "    .dataframe thead th {\n",
       "        text-align: right;\n",
       "    }\n",
       "</style>\n",
       "<table border=\"1\" class=\"dataframe\">\n",
       "  <thead>\n",
       "    <tr style=\"text-align: right;\">\n",
       "      <th></th>\n",
       "      <th>City</th>\n",
       "      <th>State</th>\n",
       "      <th>Country</th>\n",
       "      <th>Locationwise</th>\n",
       "    </tr>\n",
       "  </thead>\n",
       "  <tbody>\n",
       "    <tr>\n",
       "      <th>6601</th>\n",
       "      <td>Houston</td>\n",
       "      <td>TX</td>\n",
       "      <td>US</td>\n",
       "      <td>19306</td>\n",
       "    </tr>\n",
       "    <tr>\n",
       "      <th>9835</th>\n",
       "      <td>New York</td>\n",
       "      <td>NY</td>\n",
       "      <td>US</td>\n",
       "      <td>18395</td>\n",
       "    </tr>\n",
       "    <tr>\n",
       "      <th>2651</th>\n",
       "      <td>Chicago</td>\n",
       "      <td>IL</td>\n",
       "      <td>US</td>\n",
       "      <td>17806</td>\n",
       "    </tr>\n",
       "    <tr>\n",
       "      <th>3475</th>\n",
       "      <td>Dallas</td>\n",
       "      <td>TX</td>\n",
       "      <td>US</td>\n",
       "      <td>13139</td>\n",
       "    </tr>\n",
       "    <tr>\n",
       "      <th>610</th>\n",
       "      <td>Atlanta</td>\n",
       "      <td>GA</td>\n",
       "      <td>US</td>\n",
       "      <td>12352</td>\n",
       "    </tr>\n",
       "  </tbody>\n",
       "</table>\n",
       "</div>"
      ],
      "text/plain": [
       "          City State Country  Locationwise\n",
       "6601   Houston    TX      US         19306\n",
       "9835  New York    NY      US         18395\n",
       "2651   Chicago    IL      US         17806\n",
       "3475    Dallas    TX      US         13139\n",
       "610    Atlanta    GA      US         12352"
      ]
     },
     "execution_count": 58,
     "metadata": {},
     "output_type": "execute_result"
    }
   ],
   "source": [
    "jobs_US.groupby(['City','State','Country']).size().reset_index(name='Locationwise').sort_values('Locationwise', ascending=False).head()"
   ]
  },
  {
   "cell_type": "markdown",
   "metadata": {},
   "source": [
    "##### State-wise analysis of job openings"
   ]
  },
  {
   "cell_type": "code",
   "execution_count": 59,
   "metadata": {},
   "outputs": [],
   "source": [
    "State_wise_job_US = jobs_US.groupby(['State']).size().reset_index(name='Locationwise').sort_values('Locationwise',ascending=False)"
   ]
  },
  {
   "cell_type": "code",
   "execution_count": 60,
   "metadata": {},
   "outputs": [
    {
     "data": {
      "text/html": [
       "<div>\n",
       "<style scoped>\n",
       "    .dataframe tbody tr th:only-of-type {\n",
       "        vertical-align: middle;\n",
       "    }\n",
       "\n",
       "    .dataframe tbody tr th {\n",
       "        vertical-align: top;\n",
       "    }\n",
       "\n",
       "    .dataframe thead th {\n",
       "        text-align: right;\n",
       "    }\n",
       "</style>\n",
       "<table border=\"1\" class=\"dataframe\">\n",
       "  <thead>\n",
       "    <tr style=\"text-align: right;\">\n",
       "      <th></th>\n",
       "      <th>State</th>\n",
       "      <th>Locationwise</th>\n",
       "    </tr>\n",
       "  </thead>\n",
       "  <tbody>\n",
       "    <tr>\n",
       "      <th>5</th>\n",
       "      <td>CA</td>\n",
       "      <td>109630</td>\n",
       "    </tr>\n",
       "    <tr>\n",
       "      <th>48</th>\n",
       "      <td>TX</td>\n",
       "      <td>98071</td>\n",
       "    </tr>\n",
       "    <tr>\n",
       "      <th>10</th>\n",
       "      <td>FL</td>\n",
       "      <td>71024</td>\n",
       "    </tr>\n",
       "    <tr>\n",
       "      <th>16</th>\n",
       "      <td>IL</td>\n",
       "      <td>58743</td>\n",
       "    </tr>\n",
       "    <tr>\n",
       "      <th>38</th>\n",
       "      <td>NY</td>\n",
       "      <td>53998</td>\n",
       "    </tr>\n",
       "  </tbody>\n",
       "</table>\n",
       "</div>"
      ],
      "text/plain": [
       "   State  Locationwise\n",
       "5     CA        109630\n",
       "48    TX         98071\n",
       "10    FL         71024\n",
       "16    IL         58743\n",
       "38    NY         53998"
      ]
     },
     "execution_count": 60,
     "metadata": {},
     "output_type": "execute_result"
    }
   ],
   "source": [
    "State_wise_job_US.head()"
   ]
  },
  {
   "cell_type": "code",
   "execution_count": 61,
   "metadata": {},
   "outputs": [
    {
     "data": {
      "image/png": "[encoded data removed]",
      "text/plain": [
       "<Figure size 800x800 with 1 Axes>"
      ]
     },
     "metadata": {},
     "output_type": "display_data"
    }
   ],
   "source": [
    "plt.figure(figsize=(8,8))\n",
    "ax = sns.barplot(x=\"State\", y=\"Locationwise\",data=State_wise_job_US)\n",
    "ax.set_xticklabels(ax.get_xticklabels(), rotation=90, ha=\"right\")\n",
    "ax.set_title('State wise job openings')\n",
    "plt.tight_layout()\n",
    "plt.show()"
   ]
  },
  {
   "cell_type": "markdown",
   "metadata": {},
   "source": [
    "##### City-wise analysis of job openings"
   ]
  },
  {
   "cell_type": "code",
   "execution_count": 62,
   "metadata": {
    "scrolled": false
   },
   "outputs": [
    {
     "data": {
      "text/html": [
       "<div>\n",
       "<style scoped>\n",
       "    .dataframe tbody tr th:only-of-type {\n",
       "        vertical-align: middle;\n",
       "    }\n",
       "\n",
       "    .dataframe tbody tr th {\n",
       "        vertical-align: top;\n",
       "    }\n",
       "\n",
       "    .dataframe thead th {\n",
       "        text-align: right;\n",
       "    }\n",
       "</style>\n",
       "<table border=\"1\" class=\"dataframe\">\n",
       "  <thead>\n",
       "    <tr style=\"text-align: right;\">\n",
       "      <th></th>\n",
       "      <th>City</th>\n",
       "      <th>Locationwise</th>\n",
       "    </tr>\n",
       "  </thead>\n",
       "  <tbody>\n",
       "    <tr>\n",
       "      <th>4564</th>\n",
       "      <td>Houston</td>\n",
       "      <td>19323</td>\n",
       "    </tr>\n",
       "    <tr>\n",
       "      <th>6809</th>\n",
       "      <td>New York</td>\n",
       "      <td>18402</td>\n",
       "    </tr>\n",
       "    <tr>\n",
       "      <th>1782</th>\n",
       "      <td>Chicago</td>\n",
       "      <td>17806</td>\n",
       "    </tr>\n",
       "    <tr>\n",
       "      <th>2351</th>\n",
       "      <td>Dallas</td>\n",
       "      <td>13202</td>\n",
       "    </tr>\n",
       "    <tr>\n",
       "      <th>408</th>\n",
       "      <td>Atlanta</td>\n",
       "      <td>12365</td>\n",
       "    </tr>\n",
       "    <tr>\n",
       "      <th>...</th>\n",
       "      <td>...</td>\n",
       "      <td>...</td>\n",
       "    </tr>\n",
       "    <tr>\n",
       "      <th>8501</th>\n",
       "      <td>Saint Croix</td>\n",
       "      <td>1</td>\n",
       "    </tr>\n",
       "    <tr>\n",
       "      <th>4132</th>\n",
       "      <td>Hampton Springs</td>\n",
       "      <td>1</td>\n",
       "    </tr>\n",
       "    <tr>\n",
       "      <th>4135</th>\n",
       "      <td>Hamtown</td>\n",
       "      <td>1</td>\n",
       "    </tr>\n",
       "    <tr>\n",
       "      <th>4138</th>\n",
       "      <td>Hanalei</td>\n",
       "      <td>1</td>\n",
       "    </tr>\n",
       "    <tr>\n",
       "      <th>4143</th>\n",
       "      <td>Hanford Works</td>\n",
       "      <td>1</td>\n",
       "    </tr>\n",
       "  </tbody>\n",
       "</table>\n",
       "<p>10913 rows × 2 columns</p>\n",
       "</div>"
      ],
      "text/plain": [
       "                 City  Locationwise\n",
       "4564          Houston         19323\n",
       "6809         New York         18402\n",
       "1782          Chicago         17806\n",
       "2351           Dallas         13202\n",
       "408           Atlanta         12365\n",
       "...               ...           ...\n",
       "8501      Saint Croix             1\n",
       "4132  Hampton Springs             1\n",
       "4135          Hamtown             1\n",
       "4138          Hanalei             1\n",
       "4143    Hanford Works             1\n",
       "\n",
       "[10913 rows x 2 columns]"
      ]
     },
     "execution_count": 62,
     "metadata": {},
     "output_type": "execute_result"
    }
   ],
   "source": [
    "jobs_US.groupby(['City']).size().reset_index(name='Locationwise').sort_values('Locationwise',ascending=False)"
   ]
  },
  {
   "cell_type": "code",
   "execution_count": 63,
   "metadata": {},
   "outputs": [],
   "source": [
    "City_wise_location = jobs_US.groupby(['City']).size().reset_index(name='Locationwise').sort_values('Locationwise',ascending=False)"
   ]
  },
  {
   "cell_type": "code",
   "execution_count": 64,
   "metadata": {},
   "outputs": [],
   "source": [
    "City_wise_location_th = City_wise_location.loc[City_wise_location['Locationwise']>=12]"
   ]
  },
  {
   "cell_type": "code",
   "execution_count": 65,
   "metadata": {},
   "outputs": [
    {
     "data": {
      "text/html": [
       "<div>\n",
       "<style scoped>\n",
       "    .dataframe tbody tr th:only-of-type {\n",
       "        vertical-align: middle;\n",
       "    }\n",
       "\n",
       "    .dataframe tbody tr th {\n",
       "        vertical-align: top;\n",
       "    }\n",
       "\n",
       "    .dataframe thead th {\n",
       "        text-align: right;\n",
       "    }\n",
       "</style>\n",
       "<table border=\"1\" class=\"dataframe\">\n",
       "  <thead>\n",
       "    <tr style=\"text-align: right;\">\n",
       "      <th></th>\n",
       "      <th>City</th>\n",
       "      <th>Locationwise</th>\n",
       "    </tr>\n",
       "  </thead>\n",
       "  <tbody>\n",
       "    <tr>\n",
       "      <th>4564</th>\n",
       "      <td>Houston</td>\n",
       "      <td>19323</td>\n",
       "    </tr>\n",
       "    <tr>\n",
       "      <th>6809</th>\n",
       "      <td>New York</td>\n",
       "      <td>18402</td>\n",
       "    </tr>\n",
       "    <tr>\n",
       "      <th>1782</th>\n",
       "      <td>Chicago</td>\n",
       "      <td>17806</td>\n",
       "    </tr>\n",
       "    <tr>\n",
       "      <th>2351</th>\n",
       "      <td>Dallas</td>\n",
       "      <td>13202</td>\n",
       "    </tr>\n",
       "    <tr>\n",
       "      <th>408</th>\n",
       "      <td>Atlanta</td>\n",
       "      <td>12365</td>\n",
       "    </tr>\n",
       "    <tr>\n",
       "      <th>...</th>\n",
       "      <td>...</td>\n",
       "      <td>...</td>\n",
       "    </tr>\n",
       "    <tr>\n",
       "      <th>10676</th>\n",
       "      <td>Willows</td>\n",
       "      <td>12</td>\n",
       "    </tr>\n",
       "    <tr>\n",
       "      <th>3572</th>\n",
       "      <td>Fredericktown</td>\n",
       "      <td>12</td>\n",
       "    </tr>\n",
       "    <tr>\n",
       "      <th>10768</th>\n",
       "      <td>Woodbine</td>\n",
       "      <td>12</td>\n",
       "    </tr>\n",
       "    <tr>\n",
       "      <th>2890</th>\n",
       "      <td>Eastlake</td>\n",
       "      <td>12</td>\n",
       "    </tr>\n",
       "    <tr>\n",
       "      <th>5223</th>\n",
       "      <td>Lake George</td>\n",
       "      <td>12</td>\n",
       "    </tr>\n",
       "  </tbody>\n",
       "</table>\n",
       "<p>4430 rows × 2 columns</p>\n",
       "</div>"
      ],
      "text/plain": [
       "                City  Locationwise\n",
       "4564         Houston         19323\n",
       "6809        New York         18402\n",
       "1782         Chicago         17806\n",
       "2351          Dallas         13202\n",
       "408          Atlanta         12365\n",
       "...              ...           ...\n",
       "10676        Willows            12\n",
       "3572   Fredericktown            12\n",
       "10768       Woodbine            12\n",
       "2890        Eastlake            12\n",
       "5223     Lake George            12\n",
       "\n",
       "[4430 rows x 2 columns]"
      ]
     },
     "execution_count": 65,
     "metadata": {},
     "output_type": "execute_result"
    }
   ],
   "source": [
    "City_wise_location_th"
   ]
  },
  {
   "cell_type": "code",
   "execution_count": 66,
   "metadata": {},
   "outputs": [
    {
     "data": {
      "image/png": "[encoded data removed]",
      "text/plain": [
       "<Figure size 800x800 with 1 Axes>"
      ]
     },
     "metadata": {},
     "output_type": "display_data"
    }
   ],
   "source": [
    "plt.figure(figsize=(8,8))\n",
    "ax = sns.barplot(x=\"City\", y=\"Locationwise\",data=City_wise_location_th.head(50))\n",
    "ax.set_xticklabels(ax.get_xticklabels(), rotation=90, ha=\"right\")\n",
    "ax.set_title('City wise job openings')\n",
    "plt.tight_layout()\n",
    "plt.show()"
   ]
  },
  {
   "cell_type": "markdown",
   "metadata": {},
   "source": [
    "#### Insights:\n",
    "* state-wise analysis : CA, TX, FL, IL and NY are having more job opening than other state \n",
    "* city-wise analysis : Houston, New York, Chicago, Dallas, Atlanta and Phoenix are having more jobs than other cities"
   ]
  },
  {
   "cell_type": "markdown",
   "metadata": {},
   "source": [
    "### EDA for User profiles based on their location information"
   ]
  },
  {
   "cell_type": "code",
   "execution_count": 67,
   "metadata": {},
   "outputs": [
    {
     "data": {
      "text/html": [
       "<div>\n",
       "<style scoped>\n",
       "    .dataframe tbody tr th:only-of-type {\n",
       "        vertical-align: middle;\n",
       "    }\n",
       "\n",
       "    .dataframe tbody tr th {\n",
       "        vertical-align: top;\n",
       "    }\n",
       "\n",
       "    .dataframe thead th {\n",
       "        text-align: right;\n",
       "    }\n",
       "</style>\n",
       "<table border=\"1\" class=\"dataframe\">\n",
       "  <thead>\n",
       "    <tr style=\"text-align: right;\">\n",
       "      <th></th>\n",
       "      <th>Country</th>\n",
       "      <th>Locationwise</th>\n",
       "    </tr>\n",
       "  </thead>\n",
       "  <tbody>\n",
       "    <tr>\n",
       "      <th>105</th>\n",
       "      <td>US</td>\n",
       "      <td>365740</td>\n",
       "    </tr>\n",
       "    <tr>\n",
       "      <th>47</th>\n",
       "      <td>IN</td>\n",
       "      <td>236</td>\n",
       "    </tr>\n",
       "    <tr>\n",
       "      <th>18</th>\n",
       "      <td>CA</td>\n",
       "      <td>108</td>\n",
       "    </tr>\n",
       "    <tr>\n",
       "      <th>81</th>\n",
       "      <td>PH</td>\n",
       "      <td>59</td>\n",
       "    </tr>\n",
       "    <tr>\n",
       "      <th>82</th>\n",
       "      <td>PK</td>\n",
       "      <td>59</td>\n",
       "    </tr>\n",
       "  </tbody>\n",
       "</table>\n",
       "</div>"
      ],
      "text/plain": [
       "    Country  Locationwise\n",
       "105      US        365740\n",
       "47       IN           236\n",
       "18       CA           108\n",
       "81       PH            59\n",
       "82       PK            59"
      ]
     },
     "execution_count": 67,
     "metadata": {},
     "output_type": "execute_result"
    }
   ],
   "source": [
    "users_training.groupby(['Country']).size().reset_index(name='Locationwise').sort_values('Locationwise',ascending=False).head()"
   ]
  },
  {
   "cell_type": "code",
   "execution_count": 68,
   "metadata": {},
   "outputs": [],
   "source": [
    "user_training_US = users_training.loc[users_training['Country']=='US']"
   ]
  },
  {
   "cell_type": "code",
   "execution_count": 69,
   "metadata": {},
   "outputs": [
    {
     "data": {
      "text/plain": [
       "(365740, 15)"
      ]
     },
     "execution_count": 69,
     "metadata": {},
     "output_type": "execute_result"
    }
   ],
   "source": [
    "user_training_US.shape"
   ]
  },
  {
   "cell_type": "markdown",
   "metadata": {},
   "source": [
    "##### State-wise analysis of User profiles"
   ]
  },
  {
   "cell_type": "code",
   "execution_count": 70,
   "metadata": {},
   "outputs": [
    {
     "data": {
      "text/html": [
       "<div>\n",
       "<style scoped>\n",
       "    .dataframe tbody tr th:only-of-type {\n",
       "        vertical-align: middle;\n",
       "    }\n",
       "\n",
       "    .dataframe tbody tr th {\n",
       "        vertical-align: top;\n",
       "    }\n",
       "\n",
       "    .dataframe thead th {\n",
       "        text-align: right;\n",
       "    }\n",
       "</style>\n",
       "<table border=\"1\" class=\"dataframe\">\n",
       "  <thead>\n",
       "    <tr style=\"text-align: right;\">\n",
       "      <th></th>\n",
       "      <th>State</th>\n",
       "      <th>Locationwise_state</th>\n",
       "    </tr>\n",
       "  </thead>\n",
       "  <tbody>\n",
       "    <tr>\n",
       "      <th>11</th>\n",
       "      <td>FL</td>\n",
       "      <td>40381</td>\n",
       "    </tr>\n",
       "    <tr>\n",
       "      <th>47</th>\n",
       "      <td>TX</td>\n",
       "      <td>33260</td>\n",
       "    </tr>\n",
       "    <tr>\n",
       "      <th>6</th>\n",
       "      <td>CA</td>\n",
       "      <td>31141</td>\n",
       "    </tr>\n",
       "    <tr>\n",
       "      <th>17</th>\n",
       "      <td>IL</td>\n",
       "      <td>22557</td>\n",
       "    </tr>\n",
       "    <tr>\n",
       "      <th>37</th>\n",
       "      <td>NY</td>\n",
       "      <td>19299</td>\n",
       "    </tr>\n",
       "    <tr>\n",
       "      <th>41</th>\n",
       "      <td>PA</td>\n",
       "      <td>16206</td>\n",
       "    </tr>\n",
       "    <tr>\n",
       "      <th>12</th>\n",
       "      <td>GA</td>\n",
       "      <td>15003</td>\n",
       "    </tr>\n",
       "    <tr>\n",
       "      <th>34</th>\n",
       "      <td>NJ</td>\n",
       "      <td>14887</td>\n",
       "    </tr>\n",
       "    <tr>\n",
       "      <th>38</th>\n",
       "      <td>OH</td>\n",
       "      <td>14750</td>\n",
       "    </tr>\n",
       "    <tr>\n",
       "      <th>30</th>\n",
       "      <td>NC</td>\n",
       "      <td>13887</td>\n",
       "    </tr>\n",
       "    <tr>\n",
       "      <th>18</th>\n",
       "      <td>IN</td>\n",
       "      <td>12932</td>\n",
       "    </tr>\n",
       "    <tr>\n",
       "      <th>25</th>\n",
       "      <td>MI</td>\n",
       "      <td>11321</td>\n",
       "    </tr>\n",
       "    <tr>\n",
       "      <th>5</th>\n",
       "      <td>AZ</td>\n",
       "      <td>10992</td>\n",
       "    </tr>\n",
       "    <tr>\n",
       "      <th>23</th>\n",
       "      <td>MD</td>\n",
       "      <td>10859</td>\n",
       "    </tr>\n",
       "    <tr>\n",
       "      <th>49</th>\n",
       "      <td>VA</td>\n",
       "      <td>8572</td>\n",
       "    </tr>\n",
       "    <tr>\n",
       "      <th>46</th>\n",
       "      <td>TN</td>\n",
       "      <td>7908</td>\n",
       "    </tr>\n",
       "    <tr>\n",
       "      <th>44</th>\n",
       "      <td>SC</td>\n",
       "      <td>7881</td>\n",
       "    </tr>\n",
       "    <tr>\n",
       "      <th>27</th>\n",
       "      <td>MO</td>\n",
       "      <td>7311</td>\n",
       "    </tr>\n",
       "    <tr>\n",
       "      <th>8</th>\n",
       "      <td>CT</td>\n",
       "      <td>6328</td>\n",
       "    </tr>\n",
       "    <tr>\n",
       "      <th>20</th>\n",
       "      <td>KY</td>\n",
       "      <td>6317</td>\n",
       "    </tr>\n",
       "    <tr>\n",
       "      <th>19</th>\n",
       "      <td>KS</td>\n",
       "      <td>4564</td>\n",
       "    </tr>\n",
       "    <tr>\n",
       "      <th>7</th>\n",
       "      <td>CO</td>\n",
       "      <td>4330</td>\n",
       "    </tr>\n",
       "    <tr>\n",
       "      <th>53</th>\n",
       "      <td>WI</td>\n",
       "      <td>4218</td>\n",
       "    </tr>\n",
       "    <tr>\n",
       "      <th>22</th>\n",
       "      <td>MA</td>\n",
       "      <td>4141</td>\n",
       "    </tr>\n",
       "    <tr>\n",
       "      <th>21</th>\n",
       "      <td>LA</td>\n",
       "      <td>3979</td>\n",
       "    </tr>\n",
       "    <tr>\n",
       "      <th>2</th>\n",
       "      <td>AL</td>\n",
       "      <td>3954</td>\n",
       "    </tr>\n",
       "    <tr>\n",
       "      <th>26</th>\n",
       "      <td>MN</td>\n",
       "      <td>3555</td>\n",
       "    </tr>\n",
       "    <tr>\n",
       "      <th>52</th>\n",
       "      <td>WA</td>\n",
       "      <td>3391</td>\n",
       "    </tr>\n",
       "    <tr>\n",
       "      <th>36</th>\n",
       "      <td>NV</td>\n",
       "      <td>3015</td>\n",
       "    </tr>\n",
       "    <tr>\n",
       "      <th>28</th>\n",
       "      <td>MS</td>\n",
       "      <td>2787</td>\n",
       "    </tr>\n",
       "    <tr>\n",
       "      <th>10</th>\n",
       "      <td>DE</td>\n",
       "      <td>2467</td>\n",
       "    </tr>\n",
       "    <tr>\n",
       "      <th>15</th>\n",
       "      <td>IA</td>\n",
       "      <td>2194</td>\n",
       "    </tr>\n",
       "    <tr>\n",
       "      <th>39</th>\n",
       "      <td>OK</td>\n",
       "      <td>1423</td>\n",
       "    </tr>\n",
       "    <tr>\n",
       "      <th>40</th>\n",
       "      <td>OR</td>\n",
       "      <td>1203</td>\n",
       "    </tr>\n",
       "    <tr>\n",
       "      <th>4</th>\n",
       "      <td>AR</td>\n",
       "      <td>1129</td>\n",
       "    </tr>\n",
       "    <tr>\n",
       "      <th>48</th>\n",
       "      <td>UT</td>\n",
       "      <td>1095</td>\n",
       "    </tr>\n",
       "    <tr>\n",
       "      <th>9</th>\n",
       "      <td>DC</td>\n",
       "      <td>991</td>\n",
       "    </tr>\n",
       "    <tr>\n",
       "      <th>35</th>\n",
       "      <td>NM</td>\n",
       "      <td>842</td>\n",
       "    </tr>\n",
       "    <tr>\n",
       "      <th>43</th>\n",
       "      <td>RI</td>\n",
       "      <td>695</td>\n",
       "    </tr>\n",
       "    <tr>\n",
       "      <th>33</th>\n",
       "      <td>NH</td>\n",
       "      <td>671</td>\n",
       "    </tr>\n",
       "    <tr>\n",
       "      <th>16</th>\n",
       "      <td>ID</td>\n",
       "      <td>635</td>\n",
       "    </tr>\n",
       "    <tr>\n",
       "      <th>32</th>\n",
       "      <td>NE</td>\n",
       "      <td>569</td>\n",
       "    </tr>\n",
       "    <tr>\n",
       "      <th>54</th>\n",
       "      <td>WV</td>\n",
       "      <td>567</td>\n",
       "    </tr>\n",
       "    <tr>\n",
       "      <th>14</th>\n",
       "      <td>HI</td>\n",
       "      <td>339</td>\n",
       "    </tr>\n",
       "    <tr>\n",
       "      <th>45</th>\n",
       "      <td>SD</td>\n",
       "      <td>293</td>\n",
       "    </tr>\n",
       "    <tr>\n",
       "      <th>51</th>\n",
       "      <td>VT</td>\n",
       "      <td>229</td>\n",
       "    </tr>\n",
       "    <tr>\n",
       "      <th>1</th>\n",
       "      <td>AK</td>\n",
       "      <td>176</td>\n",
       "    </tr>\n",
       "    <tr>\n",
       "      <th>24</th>\n",
       "      <td>ME</td>\n",
       "      <td>144</td>\n",
       "    </tr>\n",
       "    <tr>\n",
       "      <th>42</th>\n",
       "      <td>PR</td>\n",
       "      <td>125</td>\n",
       "    </tr>\n",
       "    <tr>\n",
       "      <th>31</th>\n",
       "      <td>ND</td>\n",
       "      <td>74</td>\n",
       "    </tr>\n",
       "    <tr>\n",
       "      <th>55</th>\n",
       "      <td>WY</td>\n",
       "      <td>64</td>\n",
       "    </tr>\n",
       "    <tr>\n",
       "      <th>29</th>\n",
       "      <td>MT</td>\n",
       "      <td>58</td>\n",
       "    </tr>\n",
       "    <tr>\n",
       "      <th>0</th>\n",
       "      <td>AE</td>\n",
       "      <td>12</td>\n",
       "    </tr>\n",
       "    <tr>\n",
       "      <th>50</th>\n",
       "      <td>VI</td>\n",
       "      <td>9</td>\n",
       "    </tr>\n",
       "    <tr>\n",
       "      <th>3</th>\n",
       "      <td>AP</td>\n",
       "      <td>6</td>\n",
       "    </tr>\n",
       "    <tr>\n",
       "      <th>13</th>\n",
       "      <td>GU</td>\n",
       "      <td>4</td>\n",
       "    </tr>\n",
       "  </tbody>\n",
       "</table>\n",
       "</div>"
      ],
      "text/plain": [
       "   State  Locationwise_state\n",
       "11    FL               40381\n",
       "47    TX               33260\n",
       "6     CA               31141\n",
       "17    IL               22557\n",
       "37    NY               19299\n",
       "41    PA               16206\n",
       "12    GA               15003\n",
       "34    NJ               14887\n",
       "38    OH               14750\n",
       "30    NC               13887\n",
       "18    IN               12932\n",
       "25    MI               11321\n",
       "5     AZ               10992\n",
       "23    MD               10859\n",
       "49    VA                8572\n",
       "46    TN                7908\n",
       "44    SC                7881\n",
       "27    MO                7311\n",
       "8     CT                6328\n",
       "20    KY                6317\n",
       "19    KS                4564\n",
       "7     CO                4330\n",
       "53    WI                4218\n",
       "22    MA                4141\n",
       "21    LA                3979\n",
       "2     AL                3954\n",
       "26    MN                3555\n",
       "52    WA                3391\n",
       "36    NV                3015\n",
       "28    MS                2787\n",
       "10    DE                2467\n",
       "15    IA                2194\n",
       "39    OK                1423\n",
       "40    OR                1203\n",
       "4     AR                1129\n",
       "48    UT                1095\n",
       "9     DC                 991\n",
       "35    NM                 842\n",
       "43    RI                 695\n",
       "33    NH                 671\n",
       "16    ID                 635\n",
       "32    NE                 569\n",
       "54    WV                 567\n",
       "14    HI                 339\n",
       "45    SD                 293\n",
       "51    VT                 229\n",
       "1     AK                 176\n",
       "24    ME                 144\n",
       "42    PR                 125\n",
       "31    ND                  74\n",
       "55    WY                  64\n",
       "29    MT                  58\n",
       "0     AE                  12\n",
       "50    VI                   9\n",
       "3     AP                   6\n",
       "13    GU                   4"
      ]
     },
     "execution_count": 70,
     "metadata": {},
     "output_type": "execute_result"
    }
   ],
   "source": [
    "user_training_US.groupby(['State']).size().reset_index(name='Locationwise_state').sort_values('Locationwise_state',ascending=False)"
   ]
  },
  {
   "cell_type": "code",
   "execution_count": 71,
   "metadata": {},
   "outputs": [],
   "source": [
    "user_training_US_state_wise = user_training_US.groupby(['State']).size().reset_index(name='Locationwise_state').sort_values('Locationwise_state',ascending=False)"
   ]
  },
  {
   "cell_type": "code",
   "execution_count": 72,
   "metadata": {},
   "outputs": [],
   "source": [
    "user_training_US_th = user_training_US_state_wise.loc[user_training_US_state_wise['Locationwise_state']>=12]"
   ]
  },
  {
   "cell_type": "code",
   "execution_count": 73,
   "metadata": {},
   "outputs": [
    {
     "data": {
      "image/png": "[encoded data removed]",
      "text/plain": [
       "<Figure size 800x800 with 1 Axes>"
      ]
     },
     "metadata": {},
     "output_type": "display_data"
    }
   ],
   "source": [
    "plt.figure(figsize=(8,8))\n",
    "ax = sns.barplot(x=\"State\", y=\"Locationwise_state\",data=user_training_US_th.head(50))\n",
    "ax.set_xticklabels(ax.get_xticklabels(), rotation=90, ha=\"right\")\n",
    "ax.set_title('State wise job seekers')\n",
    "plt.tight_layout()\n",
    "plt.show()"
   ]
  },
  {
   "cell_type": "markdown",
   "metadata": {},
   "source": [
    "##### City-wise analysis of User profiles"
   ]
  },
  {
   "cell_type": "code",
   "execution_count": 74,
   "metadata": {},
   "outputs": [
    {
     "data": {
      "text/html": [
       "<div>\n",
       "<style scoped>\n",
       "    .dataframe tbody tr th:only-of-type {\n",
       "        vertical-align: middle;\n",
       "    }\n",
       "\n",
       "    .dataframe tbody tr th {\n",
       "        vertical-align: top;\n",
       "    }\n",
       "\n",
       "    .dataframe thead th {\n",
       "        text-align: right;\n",
       "    }\n",
       "</style>\n",
       "<table border=\"1\" class=\"dataframe\">\n",
       "  <thead>\n",
       "    <tr style=\"text-align: right;\">\n",
       "      <th></th>\n",
       "      <th>City</th>\n",
       "      <th>Locationwise_city</th>\n",
       "    </tr>\n",
       "  </thead>\n",
       "  <tbody>\n",
       "    <tr>\n",
       "      <th>1528</th>\n",
       "      <td>Chicago</td>\n",
       "      <td>6964</td>\n",
       "    </tr>\n",
       "    <tr>\n",
       "      <th>4066</th>\n",
       "      <td>Houston</td>\n",
       "      <td>5487</td>\n",
       "    </tr>\n",
       "    <tr>\n",
       "      <th>4177</th>\n",
       "      <td>Indianapolis</td>\n",
       "      <td>4450</td>\n",
       "    </tr>\n",
       "    <tr>\n",
       "      <th>5604</th>\n",
       "      <td>Miami</td>\n",
       "      <td>4359</td>\n",
       "    </tr>\n",
       "    <tr>\n",
       "      <th>6965</th>\n",
       "      <td>Philadelphia</td>\n",
       "      <td>4347</td>\n",
       "    </tr>\n",
       "    <tr>\n",
       "      <th>...</th>\n",
       "      <td>...</td>\n",
       "      <td>...</td>\n",
       "    </tr>\n",
       "    <tr>\n",
       "      <th>10019</th>\n",
       "      <td>Zieglerville</td>\n",
       "      <td>1</td>\n",
       "    </tr>\n",
       "    <tr>\n",
       "      <th>10022</th>\n",
       "      <td>Zionhill</td>\n",
       "      <td>1</td>\n",
       "    </tr>\n",
       "    <tr>\n",
       "      <th>10025</th>\n",
       "      <td>Zumbrota</td>\n",
       "      <td>1</td>\n",
       "    </tr>\n",
       "    <tr>\n",
       "      <th>10026</th>\n",
       "      <td>Zuni</td>\n",
       "      <td>1</td>\n",
       "    </tr>\n",
       "    <tr>\n",
       "      <th>10027</th>\n",
       "      <td>belmont</td>\n",
       "      <td>1</td>\n",
       "    </tr>\n",
       "  </tbody>\n",
       "</table>\n",
       "<p>10033 rows × 2 columns</p>\n",
       "</div>"
      ],
      "text/plain": [
       "               City  Locationwise_city\n",
       "1528        Chicago               6964\n",
       "4066        Houston               5487\n",
       "4177   Indianapolis               4450\n",
       "5604          Miami               4359\n",
       "6965   Philadelphia               4347\n",
       "...             ...                ...\n",
       "10019  Zieglerville                  1\n",
       "10022      Zionhill                  1\n",
       "10025      Zumbrota                  1\n",
       "10026          Zuni                  1\n",
       "10027       belmont                  1\n",
       "\n",
       "[10033 rows x 2 columns]"
      ]
     },
     "execution_count": 74,
     "metadata": {},
     "output_type": "execute_result"
    }
   ],
   "source": [
    "user_training_US.groupby(['City']).size().reset_index(name='Locationwise_city').sort_values('Locationwise_city',ascending=False)"
   ]
  },
  {
   "cell_type": "code",
   "execution_count": 75,
   "metadata": {},
   "outputs": [],
   "source": [
    "user_training_US_city_wise = user_training_US.groupby(['City']).size().reset_index(name='Locationwise_city').sort_values('Locationwise_city',ascending=False)"
   ]
  },
  {
   "cell_type": "code",
   "execution_count": 76,
   "metadata": {},
   "outputs": [],
   "source": [
    "user_training_US_City_th = user_training_US_city_wise.loc[user_training_US_city_wise['Locationwise_city']>=12]"
   ]
  },
  {
   "cell_type": "code",
   "execution_count": 77,
   "metadata": {},
   "outputs": [
    {
     "data": {
      "image/png": "[encoded data removed]",
      "text/plain": [
       "<Figure size 800x800 with 1 Axes>"
      ]
     },
     "metadata": {},
     "output_type": "display_data"
    }
   ],
   "source": [
    "plt.figure(figsize=(8,8))\n",
    "ax = sns.barplot(x=\"City\", y=\"Locationwise_city\",data=user_training_US_City_th.head(50))\n",
    "ax.set_xticklabels(ax.get_xticklabels(), rotation=90, ha=\"right\")\n",
    "ax.set_title('State wise job seekers')\n",
    "plt.tight_layout()\n",
    "plt.show()"
   ]
  },
  {
   "cell_type": "markdown",
   "metadata": {},
   "source": [
    "#### Insights:\n",
    "* state-wise analysis : FL, TX, CA, IL and NY are having more job seeker than other state \n",
    "* city-wise analysis : Chicago,Houston, Indianapolis, Miami , Philadelphia and Charlotte are having more job seeker than other cities"
   ]
  },
  {
   "cell_type": "markdown",
   "metadata": {},
   "source": [
    "## Content-Based Filtering"
   ]
  },
  {
   "cell_type": "code",
   "execution_count": 78,
   "metadata": {},
   "outputs": [
    {
     "data": {
      "text/plain": [
       "(1090462, 11)"
      ]
     },
     "execution_count": 78,
     "metadata": {},
     "output_type": "execute_result"
    }
   ],
   "source": [
    "jobs_US.shape"
   ]
  },
  {
   "cell_type": "code",
   "execution_count": 79,
   "metadata": {},
   "outputs": [
    {
     "data": {
      "text/plain": [
       "Index(['JobID', 'WindowID', 'Title', 'Description', 'Requirements', 'City',\n",
       "       'State', 'Country', 'Zip5', 'StartDate', 'EndDate'],\n",
       "      dtype='object')"
      ]
     },
     "execution_count": 79,
     "metadata": {},
     "output_type": "execute_result"
    }
   ],
   "source": [
    "jobs_US.columns"
   ]
  },
  {
   "cell_type": "code",
   "execution_count": 80,
   "metadata": {
    "collapsed": true
   },
   "outputs": [
    {
     "data": {
      "text/html": [
       "<div>\n",
       "<style scoped>\n",
       "    .dataframe tbody tr th:only-of-type {\n",
       "        vertical-align: middle;\n",
       "    }\n",
       "\n",
       "    .dataframe tbody tr th {\n",
       "        vertical-align: top;\n",
       "    }\n",
       "\n",
       "    .dataframe thead th {\n",
       "        text-align: right;\n",
       "    }\n",
       "</style>\n",
       "<table border=\"1\" class=\"dataframe\">\n",
       "  <thead>\n",
       "    <tr style=\"text-align: right;\">\n",
       "      <th></th>\n",
       "      <th>0</th>\n",
       "      <th>1</th>\n",
       "      <th>2</th>\n",
       "      <th>3</th>\n",
       "      <th>4</th>\n",
       "    </tr>\n",
       "  </thead>\n",
       "  <tbody>\n",
       "    <tr>\n",
       "      <th>JobID</th>\n",
       "      <td>1</td>\n",
       "      <td>4</td>\n",
       "      <td>7</td>\n",
       "      <td>8</td>\n",
       "      <td>9</td>\n",
       "    </tr>\n",
       "    <tr>\n",
       "      <th>WindowID</th>\n",
       "      <td>1</td>\n",
       "      <td>1</td>\n",
       "      <td>1</td>\n",
       "      <td>1</td>\n",
       "      <td>1</td>\n",
       "    </tr>\n",
       "    <tr>\n",
       "      <th>Title</th>\n",
       "      <td>Security Engineer/Technical Lead</td>\n",
       "      <td>SAP Business Analyst / WM</td>\n",
       "      <td>P/T HUMAN RESOURCES ASSISTANT</td>\n",
       "      <td>Route Delivery Drivers</td>\n",
       "      <td>Housekeeping</td>\n",
       "    </tr>\n",
       "    <tr>\n",
       "      <th>Description</th>\n",
       "      <td>&lt;p&gt;Security Clearance Required:&amp;nbsp; Top Secr...</td>\n",
       "      <td>&lt;strong&gt;NO Corp. to Corp resumes&amp;nbsp;are bein...</td>\n",
       "      <td>&lt;b&gt;    &lt;b&gt; P/T HUMAN RESOURCES ASSISTANT&lt;/b&gt; &lt;...</td>\n",
       "      <td>CITY BEVERAGES Come to work for the best in th...</td>\n",
       "      <td>I make  sure every part of their day is magica...</td>\n",
       "    </tr>\n",
       "    <tr>\n",
       "      <th>Requirements</th>\n",
       "      <td>&lt;p&gt;SKILL SET&lt;/p&gt;\\r&lt;p&gt;&amp;nbsp;&lt;/p&gt;\\r&lt;p&gt;Network Se...</td>\n",
       "      <td>&lt;p&gt;&lt;b&gt;WHAT YOU NEED: &lt;/b&gt;&lt;/p&gt;\\r&lt;p&gt;Four year co...</td>\n",
       "      <td>Please refer to the Job Description to view th...</td>\n",
       "      <td>Please refer to the Job Description to view th...</td>\n",
       "      <td>Please refer to the Job Description to view th...</td>\n",
       "    </tr>\n",
       "    <tr>\n",
       "      <th>City</th>\n",
       "      <td>Washington</td>\n",
       "      <td>Charlotte</td>\n",
       "      <td>Winter Park</td>\n",
       "      <td>Orlando</td>\n",
       "      <td>Orlando</td>\n",
       "    </tr>\n",
       "    <tr>\n",
       "      <th>State</th>\n",
       "      <td>DC</td>\n",
       "      <td>NC</td>\n",
       "      <td>FL</td>\n",
       "      <td>FL</td>\n",
       "      <td>FL</td>\n",
       "    </tr>\n",
       "    <tr>\n",
       "      <th>Country</th>\n",
       "      <td>US</td>\n",
       "      <td>US</td>\n",
       "      <td>US</td>\n",
       "      <td>US</td>\n",
       "      <td>US</td>\n",
       "    </tr>\n",
       "    <tr>\n",
       "      <th>Zip5</th>\n",
       "      <td>20531</td>\n",
       "      <td>28217</td>\n",
       "      <td>32792</td>\n",
       "      <td>NaN</td>\n",
       "      <td>NaN</td>\n",
       "    </tr>\n",
       "    <tr>\n",
       "      <th>StartDate</th>\n",
       "      <td>2012-03-07 13:17:01.643</td>\n",
       "      <td>2012-03-21 02:03:44.137</td>\n",
       "      <td>2012-03-02 16:36:55.447</td>\n",
       "      <td>2012-03-03 09:01:10.077</td>\n",
       "      <td>2012-03-03 09:01:11.88</td>\n",
       "    </tr>\n",
       "    <tr>\n",
       "      <th>EndDate</th>\n",
       "      <td>2012-04-06 23:59:59</td>\n",
       "      <td>2012-04-20 23:59:59</td>\n",
       "      <td>2012-04-01 23:59:59</td>\n",
       "      <td>2012-04-02 23:59:59</td>\n",
       "      <td>2012-04-02 23:59:59</td>\n",
       "    </tr>\n",
       "  </tbody>\n",
       "</table>\n",
       "</div>"
      ],
      "text/plain": [
       "                                                              0  \\\n",
       "JobID                                                         1   \n",
       "WindowID                                                      1   \n",
       "Title                          Security Engineer/Technical Lead   \n",
       "Description   <p>Security Clearance Required:&nbsp; Top Secr...   \n",
       "Requirements  <p>SKILL SET</p>\\r<p>&nbsp;</p>\\r<p>Network Se...   \n",
       "City                                                 Washington   \n",
       "State                                                        DC   \n",
       "Country                                                      US   \n",
       "Zip5                                                      20531   \n",
       "StartDate                               2012-03-07 13:17:01.643   \n",
       "EndDate                                     2012-04-06 23:59:59   \n",
       "\n",
       "                                                              1  \\\n",
       "JobID                                                         4   \n",
       "WindowID                                                      1   \n",
       "Title                                 SAP Business Analyst / WM   \n",
       "Description   <strong>NO Corp. to Corp resumes&nbsp;are bein...   \n",
       "Requirements  <p><b>WHAT YOU NEED: </b></p>\\r<p>Four year co...   \n",
       "City                                                  Charlotte   \n",
       "State                                                        NC   \n",
       "Country                                                      US   \n",
       "Zip5                                                      28217   \n",
       "StartDate                               2012-03-21 02:03:44.137   \n",
       "EndDate                                     2012-04-20 23:59:59   \n",
       "\n",
       "                                                              2  \\\n",
       "JobID                                                         7   \n",
       "WindowID                                                      1   \n",
       "Title                             P/T HUMAN RESOURCES ASSISTANT   \n",
       "Description   <b>    <b> P/T HUMAN RESOURCES ASSISTANT</b> <...   \n",
       "Requirements  Please refer to the Job Description to view th...   \n",
       "City                                                Winter Park   \n",
       "State                                                        FL   \n",
       "Country                                                      US   \n",
       "Zip5                                                      32792   \n",
       "StartDate                               2012-03-02 16:36:55.447   \n",
       "EndDate                                     2012-04-01 23:59:59   \n",
       "\n",
       "                                                              3  \\\n",
       "JobID                                                         8   \n",
       "WindowID                                                      1   \n",
       "Title                                    Route Delivery Drivers   \n",
       "Description   CITY BEVERAGES Come to work for the best in th...   \n",
       "Requirements  Please refer to the Job Description to view th...   \n",
       "City                                                    Orlando   \n",
       "State                                                        FL   \n",
       "Country                                                      US   \n",
       "Zip5                                                        NaN   \n",
       "StartDate                               2012-03-03 09:01:10.077   \n",
       "EndDate                                     2012-04-02 23:59:59   \n",
       "\n",
       "                                                              4  \n",
       "JobID                                                         9  \n",
       "WindowID                                                      1  \n",
       "Title                                              Housekeeping  \n",
       "Description   I make  sure every part of their day is magica...  \n",
       "Requirements  Please refer to the Job Description to view th...  \n",
       "City                                                    Orlando  \n",
       "State                                                        FL  \n",
       "Country                                                      US  \n",
       "Zip5                                                        NaN  \n",
       "StartDate                                2012-03-03 09:01:11.88  \n",
       "EndDate                                     2012-04-02 23:59:59  "
      ]
     },
     "execution_count": 80,
     "metadata": {},
     "output_type": "execute_result"
    }
   ],
   "source": [
    "jobs_US.head().transpose()"
   ]
  },
  {
   "cell_type": "code",
   "execution_count": 81,
   "metadata": {},
   "outputs": [],
   "source": [
    "jobs_US_base_line = jobs_US.iloc[0:10000,0:8]"
   ]
  },
  {
   "cell_type": "code",
   "execution_count": 82,
   "metadata": {
    "collapsed": true
   },
   "outputs": [
    {
     "data": {
      "text/html": [
       "<div>\n",
       "<style scoped>\n",
       "    .dataframe tbody tr th:only-of-type {\n",
       "        vertical-align: middle;\n",
       "    }\n",
       "\n",
       "    .dataframe tbody tr th {\n",
       "        vertical-align: top;\n",
       "    }\n",
       "\n",
       "    .dataframe thead th {\n",
       "        text-align: right;\n",
       "    }\n",
       "</style>\n",
       "<table border=\"1\" class=\"dataframe\">\n",
       "  <thead>\n",
       "    <tr style=\"text-align: right;\">\n",
       "      <th></th>\n",
       "      <th>JobID</th>\n",
       "      <th>WindowID</th>\n",
       "      <th>Title</th>\n",
       "      <th>Description</th>\n",
       "      <th>Requirements</th>\n",
       "      <th>City</th>\n",
       "      <th>State</th>\n",
       "      <th>Country</th>\n",
       "    </tr>\n",
       "  </thead>\n",
       "  <tbody>\n",
       "    <tr>\n",
       "      <th>0</th>\n",
       "      <td>1</td>\n",
       "      <td>1</td>\n",
       "      <td>Security Engineer/Technical Lead</td>\n",
       "      <td>&lt;p&gt;Security Clearance Required:&amp;nbsp; Top Secr...</td>\n",
       "      <td>&lt;p&gt;SKILL SET&lt;/p&gt;\\r&lt;p&gt;&amp;nbsp;&lt;/p&gt;\\r&lt;p&gt;Network Se...</td>\n",
       "      <td>Washington</td>\n",
       "      <td>DC</td>\n",
       "      <td>US</td>\n",
       "    </tr>\n",
       "    <tr>\n",
       "      <th>1</th>\n",
       "      <td>4</td>\n",
       "      <td>1</td>\n",
       "      <td>SAP Business Analyst / WM</td>\n",
       "      <td>&lt;strong&gt;NO Corp. to Corp resumes&amp;nbsp;are bein...</td>\n",
       "      <td>&lt;p&gt;&lt;b&gt;WHAT YOU NEED: &lt;/b&gt;&lt;/p&gt;\\r&lt;p&gt;Four year co...</td>\n",
       "      <td>Charlotte</td>\n",
       "      <td>NC</td>\n",
       "      <td>US</td>\n",
       "    </tr>\n",
       "    <tr>\n",
       "      <th>2</th>\n",
       "      <td>7</td>\n",
       "      <td>1</td>\n",
       "      <td>P/T HUMAN RESOURCES ASSISTANT</td>\n",
       "      <td>&lt;b&gt;    &lt;b&gt; P/T HUMAN RESOURCES ASSISTANT&lt;/b&gt; &lt;...</td>\n",
       "      <td>Please refer to the Job Description to view th...</td>\n",
       "      <td>Winter Park</td>\n",
       "      <td>FL</td>\n",
       "      <td>US</td>\n",
       "    </tr>\n",
       "    <tr>\n",
       "      <th>3</th>\n",
       "      <td>8</td>\n",
       "      <td>1</td>\n",
       "      <td>Route Delivery Drivers</td>\n",
       "      <td>CITY BEVERAGES Come to work for the best in th...</td>\n",
       "      <td>Please refer to the Job Description to view th...</td>\n",
       "      <td>Orlando</td>\n",
       "      <td>FL</td>\n",
       "      <td>US</td>\n",
       "    </tr>\n",
       "    <tr>\n",
       "      <th>4</th>\n",
       "      <td>9</td>\n",
       "      <td>1</td>\n",
       "      <td>Housekeeping</td>\n",
       "      <td>I make  sure every part of their day is magica...</td>\n",
       "      <td>Please refer to the Job Description to view th...</td>\n",
       "      <td>Orlando</td>\n",
       "      <td>FL</td>\n",
       "      <td>US</td>\n",
       "    </tr>\n",
       "  </tbody>\n",
       "</table>\n",
       "</div>"
      ],
      "text/plain": [
       "   JobID  WindowID                             Title  \\\n",
       "0      1         1  Security Engineer/Technical Lead   \n",
       "1      4         1         SAP Business Analyst / WM   \n",
       "2      7         1     P/T HUMAN RESOURCES ASSISTANT   \n",
       "3      8         1            Route Delivery Drivers   \n",
       "4      9         1                      Housekeeping   \n",
       "\n",
       "                                         Description  \\\n",
       "0  <p>Security Clearance Required:&nbsp; Top Secr...   \n",
       "1  <strong>NO Corp. to Corp resumes&nbsp;are bein...   \n",
       "2  <b>    <b> P/T HUMAN RESOURCES ASSISTANT</b> <...   \n",
       "3  CITY BEVERAGES Come to work for the best in th...   \n",
       "4  I make  sure every part of their day is magica...   \n",
       "\n",
       "                                        Requirements         City State  \\\n",
       "0  <p>SKILL SET</p>\\r<p>&nbsp;</p>\\r<p>Network Se...   Washington    DC   \n",
       "1  <p><b>WHAT YOU NEED: </b></p>\\r<p>Four year co...    Charlotte    NC   \n",
       "2  Please refer to the Job Description to view th...  Winter Park    FL   \n",
       "3  Please refer to the Job Description to view th...      Orlando    FL   \n",
       "4  Please refer to the Job Description to view th...      Orlando    FL   \n",
       "\n",
       "  Country  \n",
       "0      US  \n",
       "1      US  \n",
       "2      US  \n",
       "3      US  \n",
       "4      US  "
      ]
     },
     "execution_count": 82,
     "metadata": {},
     "output_type": "execute_result"
    }
   ],
   "source": [
    "jobs_US_base_line.head()"
   ]
  },
  {
   "cell_type": "code",
   "execution_count": 83,
   "metadata": {},
   "outputs": [],
   "source": [
    "jobs_US_base_line['Title'] = jobs_US_base_line['Title'].fillna('')\n",
    "jobs_US_base_line['Description'] = jobs_US_base_line['Description'].fillna('')\n",
    "\n",
    "jobs_US_base_line['Description'] = jobs_US_base_line['Title'] + jobs_US_base_line['Description']"
   ]
  },
  {
   "cell_type": "code",
   "execution_count": 84,
   "metadata": {},
   "outputs": [],
   "source": [
    "from sklearn.feature_extraction.text import TfidfVectorizer\n",
    "\n",
    "tf = TfidfVectorizer(analyzer='word', ngram_range=(1, 2), min_df=1, stop_words='english')\n",
    "tfidf_matrix = tf.fit_transform(jobs_US_base_line['Description'])\n"
   ]
  },
  {
   "cell_type": "code",
   "execution_count": 85,
   "metadata": {},
   "outputs": [
    {
     "data": {
      "text/plain": [
       "(10000, 515343)"
      ]
     },
     "execution_count": 85,
     "metadata": {},
     "output_type": "execute_result"
    }
   ],
   "source": [
    "tfidf_matrix.shape"
   ]
  },
  {
   "cell_type": "code",
   "execution_count": 86,
   "metadata": {},
   "outputs": [],
   "source": [
    "cosine_sim = linear_kernel(tfidf_matrix, tfidf_matrix)"
   ]
  },
  {
   "cell_type": "code",
   "execution_count": 87,
   "metadata": {},
   "outputs": [
    {
     "data": {
      "text/plain": [
       "array([1.        , 0.04300443, 0.00643851, ..., 0.03807697, 0.03807697,\n",
       "       0.03807697])"
      ]
     },
     "execution_count": 87,
     "metadata": {},
     "output_type": "execute_result"
    }
   ],
   "source": [
    "cosine_sim[0]"
   ]
  },
  {
   "cell_type": "code",
   "execution_count": 88,
   "metadata": {},
   "outputs": [
    {
     "data": {
      "text/plain": [
       "Title\n",
       "Security Engineer/Technical Lead    0\n",
       "SAP Business Analyst / WM           1\n",
       "dtype: int64"
      ]
     },
     "execution_count": 88,
     "metadata": {},
     "output_type": "execute_result"
    }
   ],
   "source": [
    "jobs_US_base_line = jobs_US_base_line.reset_index()\n",
    "titles = jobs_US_base_line['Title']\n",
    "indices = pd.Series(jobs_US_base_line.index, index=jobs_US_base_line['Title'])\n",
    "indices.head(2)\n"
   ]
  },
  {
   "cell_type": "code",
   "execution_count": 89,
   "metadata": {},
   "outputs": [],
   "source": [
    "def get_recommendations(title):\n",
    "    idx = indices[title]\n",
    "    sim_scores = list(enumerate(cosine_sim[idx]))\n",
    "    sim_scores = sorted(sim_scores, key=lambda x: x[1], reverse=True)\n",
    "    job_indices = [i[0] for i in sim_scores]\n",
    "    return titles.iloc[job_indices]"
   ]
  },
  {
   "cell_type": "code",
   "execution_count": 90,
   "metadata": {},
   "outputs": [
    {
     "data": {
      "text/plain": [
       "1                           SAP Business Analyst / WM\n",
       "6051                    SAP FI/CO Business Consultant\n",
       "5868                       SAP FI/CO Business Analyst\n",
       "5159                          SAP Basis Administrator\n",
       "5351    SAP Sales and Distribution Solution Architect\n",
       "4796       Senior Specialist - SAP Configuration - SD\n",
       "5117                       SAP Integration Specialist\n",
       "5409            Senior Business Systems Analyst - SAP\n",
       "5244                                 Business Analyst\n",
       "4728           SAP ABAP Developer with PRA experience\n",
       "Name: Title, dtype: object"
      ]
     },
     "execution_count": 90,
     "metadata": {},
     "output_type": "execute_result"
    }
   ],
   "source": [
    "get_recommendations('SAP Business Analyst / WM').head(10)"
   ]
  },
  {
   "cell_type": "code",
   "execution_count": 91,
   "metadata": {},
   "outputs": [
    {
     "data": {
      "text/plain": [
       "0              Security Engineer/Technical Lead\n",
       "5906                   Senior Security Engineer\n",
       "3771                     Director of Admissions\n",
       "6293    3 Network Architects needed - immediate\n",
       "3557                          Assistant Manager\n",
       "401          National Sales & Marketing Manager\n",
       "2606               Inventory Analyst/ Scheduler\n",
       "3757                        CLINICAL PHARMACIST\n",
       "3478           Customer Service Representatives\n",
       "3558                              Store Manager\n",
       "Name: Title, dtype: object"
      ]
     },
     "execution_count": 91,
     "metadata": {},
     "output_type": "execute_result"
    }
   ],
   "source": [
    "get_recommendations('Security Engineer/Technical Lead').head(10)"
   ]
  },
  {
   "cell_type": "code",
   "execution_count": 92,
   "metadata": {},
   "outputs": [
    {
     "data": {
      "text/plain": [
       "13                           Immediate Opening\n",
       "216                      Accounting/Bookkeeper\n",
       "2872    Cable TV/Internet/Telephone Installers\n",
       "8423                                    no job\n",
       "4028                              Electricians\n",
       "4029                              Electricians\n",
       "4030                              Electricians\n",
       "620                                     DENTAL\n",
       "93                 A/C HEATING REFRIG MECHANIC\n",
       "125                                   Optician\n",
       "Name: Title, dtype: object"
      ]
     },
     "execution_count": 92,
     "metadata": {},
     "output_type": "execute_result"
    }
   ],
   "source": [
    "get_recommendations('Immediate Opening').head(10)"
   ]
  },
  {
   "cell_type": "code",
   "execution_count": 93,
   "metadata": {},
   "outputs": [
    {
     "data": {
      "text/plain": [
       "26                                    EXPERIENCED ROOFERS\n",
       "7949    Commercial Roofers  EXPERIENCED in  Hot Asphal...\n",
       "51                                                 Driver\n",
       "8012                                       OFFICE MANAGER\n",
       "53                                                DRIVERS\n",
       "33                         CNA OPENINGS AT TUSKAWILLA SNF\n",
       "44                                   SALES REPRESENTATIVE\n",
       "30                               Automotive Retail Dealer\n",
       "60                                     Associate Attorney\n",
       "59                                        SECURITY GUARDS\n",
       "Name: Title, dtype: object"
      ]
     },
     "execution_count": 93,
     "metadata": {},
     "output_type": "execute_result"
    }
   ],
   "source": [
    "get_recommendations('EXPERIENCED ROOFERS').head(10)"
   ]
  },
  {
   "cell_type": "code",
   "execution_count": 100,
   "metadata": {},
   "outputs": [],
   "source": [
    "import pickle\n",
    "\n",
    "# Save the TF-IDF model\n",
    "with open('tfidf_model.pkl', 'wb') as f:\n",
    "    pickle.dump(tf, f)\n",
    "\n",
    "# Save the cosine similarity matrix\n",
    "with open('cosine_sim.pkl', 'wb') as f:\n",
    "    pickle.dump(cosine_sim, f)\n"
   ]
  },
  {
   "cell_type": "code",
   "execution_count": 99,
   "metadata": {},
   "outputs": [],
   "source": [
    "import pickle\n",
    "with open('content_based_data.pkl', 'wb') as f:\n",
    "    pickle.dump({\n",
    "        'cosine_sim': cosine_sim,\n",
    "        'indices': indices,\n",
    "        'jobs': jobs_US_base_line,\n",
    "        # 'get_recommendations': get_recommendations\n",
    "    }, f)"
   ]
  },
  {
   "cell_type": "markdown",
   "metadata": {},
   "source": [
    "## User-Based Collaborative Filtering approach\n",
    "\n",
    "Find out similar users (based on their degree type, majors and total years of experience) --> Find out for which jobs they have applied --> suggest those job to the other users who shared similar user profile ( We take an union of these jobs and recommend the jobs all these user base)."
   ]
  },
  {
   "cell_type": "code",
   "execution_count": 96,
   "metadata": {},
   "outputs": [
    {
     "data": {
      "text/html": [
       "<div>\n",
       "<style scoped>\n",
       "    .dataframe tbody tr th:only-of-type {\n",
       "        vertical-align: middle;\n",
       "    }\n",
       "\n",
       "    .dataframe tbody tr th {\n",
       "        vertical-align: top;\n",
       "    }\n",
       "\n",
       "    .dataframe thead th {\n",
       "        text-align: right;\n",
       "    }\n",
       "</style>\n",
       "<table border=\"1\" class=\"dataframe\">\n",
       "  <thead>\n",
       "    <tr style=\"text-align: right;\">\n",
       "      <th></th>\n",
       "      <th>UserID</th>\n",
       "      <th>WindowID</th>\n",
       "      <th>Split</th>\n",
       "      <th>City</th>\n",
       "      <th>State</th>\n",
       "      <th>Country</th>\n",
       "      <th>ZipCode</th>\n",
       "      <th>DegreeType</th>\n",
       "      <th>Major</th>\n",
       "      <th>GraduationDate</th>\n",
       "      <th>WorkHistoryCount</th>\n",
       "      <th>TotalYearsExperience</th>\n",
       "      <th>CurrentlyEmployed</th>\n",
       "      <th>ManagedOthers</th>\n",
       "      <th>ManagedHowMany</th>\n",
       "    </tr>\n",
       "  </thead>\n",
       "  <tbody>\n",
       "    <tr>\n",
       "      <th>0</th>\n",
       "      <td>47</td>\n",
       "      <td>1</td>\n",
       "      <td>Train</td>\n",
       "      <td>Paramount</td>\n",
       "      <td>CA</td>\n",
       "      <td>US</td>\n",
       "      <td>90723</td>\n",
       "      <td>High School</td>\n",
       "      <td>NaN</td>\n",
       "      <td>1999-06-01 00:00:00</td>\n",
       "      <td>3</td>\n",
       "      <td>10.0</td>\n",
       "      <td>Yes</td>\n",
       "      <td>No</td>\n",
       "      <td>0</td>\n",
       "    </tr>\n",
       "    <tr>\n",
       "      <th>1</th>\n",
       "      <td>72</td>\n",
       "      <td>1</td>\n",
       "      <td>Train</td>\n",
       "      <td>La Mesa</td>\n",
       "      <td>CA</td>\n",
       "      <td>US</td>\n",
       "      <td>91941</td>\n",
       "      <td>Master's</td>\n",
       "      <td>Anthropology</td>\n",
       "      <td>2011-01-01 00:00:00</td>\n",
       "      <td>10</td>\n",
       "      <td>8.0</td>\n",
       "      <td>Yes</td>\n",
       "      <td>No</td>\n",
       "      <td>0</td>\n",
       "    </tr>\n",
       "    <tr>\n",
       "      <th>2</th>\n",
       "      <td>80</td>\n",
       "      <td>1</td>\n",
       "      <td>Train</td>\n",
       "      <td>Williamstown</td>\n",
       "      <td>NJ</td>\n",
       "      <td>US</td>\n",
       "      <td>08094</td>\n",
       "      <td>High School</td>\n",
       "      <td>Not Applicable</td>\n",
       "      <td>1985-06-01 00:00:00</td>\n",
       "      <td>5</td>\n",
       "      <td>11.0</td>\n",
       "      <td>Yes</td>\n",
       "      <td>Yes</td>\n",
       "      <td>5</td>\n",
       "    </tr>\n",
       "    <tr>\n",
       "      <th>3</th>\n",
       "      <td>98</td>\n",
       "      <td>1</td>\n",
       "      <td>Train</td>\n",
       "      <td>Astoria</td>\n",
       "      <td>NY</td>\n",
       "      <td>US</td>\n",
       "      <td>11105</td>\n",
       "      <td>Master's</td>\n",
       "      <td>Journalism</td>\n",
       "      <td>2007-05-01 00:00:00</td>\n",
       "      <td>3</td>\n",
       "      <td>3.0</td>\n",
       "      <td>Yes</td>\n",
       "      <td>No</td>\n",
       "      <td>0</td>\n",
       "    </tr>\n",
       "    <tr>\n",
       "      <th>4</th>\n",
       "      <td>123</td>\n",
       "      <td>1</td>\n",
       "      <td>Train</td>\n",
       "      <td>Baton Rouge</td>\n",
       "      <td>LA</td>\n",
       "      <td>US</td>\n",
       "      <td>70808</td>\n",
       "      <td>Bachelor's</td>\n",
       "      <td>Agricultural Business</td>\n",
       "      <td>2011-05-01 00:00:00</td>\n",
       "      <td>1</td>\n",
       "      <td>9.0</td>\n",
       "      <td>Yes</td>\n",
       "      <td>No</td>\n",
       "      <td>0</td>\n",
       "    </tr>\n",
       "  </tbody>\n",
       "</table>\n",
       "</div>"
      ],
      "text/plain": [
       "   UserID  WindowID  Split          City State Country ZipCode   DegreeType  \\\n",
       "0      47         1  Train     Paramount    CA      US   90723  High School   \n",
       "1      72         1  Train       La Mesa    CA      US   91941     Master's   \n",
       "2      80         1  Train  Williamstown    NJ      US   08094  High School   \n",
       "3      98         1  Train       Astoria    NY      US   11105     Master's   \n",
       "4     123         1  Train   Baton Rouge    LA      US   70808   Bachelor's   \n",
       "\n",
       "                   Major       GraduationDate  WorkHistoryCount  \\\n",
       "0                    NaN  1999-06-01 00:00:00                 3   \n",
       "1           Anthropology  2011-01-01 00:00:00                10   \n",
       "2         Not Applicable  1985-06-01 00:00:00                 5   \n",
       "3             Journalism  2007-05-01 00:00:00                 3   \n",
       "4  Agricultural Business  2011-05-01 00:00:00                 1   \n",
       "\n",
       "   TotalYearsExperience CurrentlyEmployed ManagedOthers  ManagedHowMany  \n",
       "0                  10.0               Yes            No               0  \n",
       "1                   8.0               Yes            No               0  \n",
       "2                  11.0               Yes           Yes               5  \n",
       "3                   3.0               Yes            No               0  \n",
       "4                   9.0               Yes            No               0  "
      ]
     },
     "execution_count": 96,
     "metadata": {},
     "output_type": "execute_result"
    }
   ],
   "source": [
    "users_training.head()"
   ]
  },
  {
   "cell_type": "code",
   "execution_count": 97,
   "metadata": {
    "scrolled": false
   },
   "outputs": [],
   "source": [
    "user_based_approach_US = users_training.loc[users_training['Country']=='US']"
   ]
  },
  {
   "cell_type": "code",
   "execution_count": 98,
   "metadata": {},
   "outputs": [],
   "source": [
    "user_based_approach = user_based_approach_US.iloc[0:10000,:]"
   ]
  },
  {
   "cell_type": "code",
   "execution_count": 99,
   "metadata": {
    "scrolled": true
   },
   "outputs": [
    {
     "data": {
      "text/html": [
       "<div>\n",
       "<style scoped>\n",
       "    .dataframe tbody tr th:only-of-type {\n",
       "        vertical-align: middle;\n",
       "    }\n",
       "\n",
       "    .dataframe tbody tr th {\n",
       "        vertical-align: top;\n",
       "    }\n",
       "\n",
       "    .dataframe thead th {\n",
       "        text-align: right;\n",
       "    }\n",
       "</style>\n",
       "<table border=\"1\" class=\"dataframe\">\n",
       "  <thead>\n",
       "    <tr style=\"text-align: right;\">\n",
       "      <th></th>\n",
       "      <th>UserID</th>\n",
       "      <th>WindowID</th>\n",
       "      <th>Split</th>\n",
       "      <th>City</th>\n",
       "      <th>State</th>\n",
       "      <th>Country</th>\n",
       "      <th>ZipCode</th>\n",
       "      <th>DegreeType</th>\n",
       "      <th>Major</th>\n",
       "      <th>GraduationDate</th>\n",
       "      <th>WorkHistoryCount</th>\n",
       "      <th>TotalYearsExperience</th>\n",
       "      <th>CurrentlyEmployed</th>\n",
       "      <th>ManagedOthers</th>\n",
       "      <th>ManagedHowMany</th>\n",
       "    </tr>\n",
       "  </thead>\n",
       "  <tbody>\n",
       "    <tr>\n",
       "      <th>0</th>\n",
       "      <td>47</td>\n",
       "      <td>1</td>\n",
       "      <td>Train</td>\n",
       "      <td>Paramount</td>\n",
       "      <td>CA</td>\n",
       "      <td>US</td>\n",
       "      <td>90723</td>\n",
       "      <td>High School</td>\n",
       "      <td>NaN</td>\n",
       "      <td>1999-06-01 00:00:00</td>\n",
       "      <td>3</td>\n",
       "      <td>10.0</td>\n",
       "      <td>Yes</td>\n",
       "      <td>No</td>\n",
       "      <td>0</td>\n",
       "    </tr>\n",
       "    <tr>\n",
       "      <th>1</th>\n",
       "      <td>72</td>\n",
       "      <td>1</td>\n",
       "      <td>Train</td>\n",
       "      <td>La Mesa</td>\n",
       "      <td>CA</td>\n",
       "      <td>US</td>\n",
       "      <td>91941</td>\n",
       "      <td>Master's</td>\n",
       "      <td>Anthropology</td>\n",
       "      <td>2011-01-01 00:00:00</td>\n",
       "      <td>10</td>\n",
       "      <td>8.0</td>\n",
       "      <td>Yes</td>\n",
       "      <td>No</td>\n",
       "      <td>0</td>\n",
       "    </tr>\n",
       "    <tr>\n",
       "      <th>2</th>\n",
       "      <td>80</td>\n",
       "      <td>1</td>\n",
       "      <td>Train</td>\n",
       "      <td>Williamstown</td>\n",
       "      <td>NJ</td>\n",
       "      <td>US</td>\n",
       "      <td>08094</td>\n",
       "      <td>High School</td>\n",
       "      <td>Not Applicable</td>\n",
       "      <td>1985-06-01 00:00:00</td>\n",
       "      <td>5</td>\n",
       "      <td>11.0</td>\n",
       "      <td>Yes</td>\n",
       "      <td>Yes</td>\n",
       "      <td>5</td>\n",
       "    </tr>\n",
       "    <tr>\n",
       "      <th>3</th>\n",
       "      <td>98</td>\n",
       "      <td>1</td>\n",
       "      <td>Train</td>\n",
       "      <td>Astoria</td>\n",
       "      <td>NY</td>\n",
       "      <td>US</td>\n",
       "      <td>11105</td>\n",
       "      <td>Master's</td>\n",
       "      <td>Journalism</td>\n",
       "      <td>2007-05-01 00:00:00</td>\n",
       "      <td>3</td>\n",
       "      <td>3.0</td>\n",
       "      <td>Yes</td>\n",
       "      <td>No</td>\n",
       "      <td>0</td>\n",
       "    </tr>\n",
       "    <tr>\n",
       "      <th>4</th>\n",
       "      <td>123</td>\n",
       "      <td>1</td>\n",
       "      <td>Train</td>\n",
       "      <td>Baton Rouge</td>\n",
       "      <td>LA</td>\n",
       "      <td>US</td>\n",
       "      <td>70808</td>\n",
       "      <td>Bachelor's</td>\n",
       "      <td>Agricultural Business</td>\n",
       "      <td>2011-05-01 00:00:00</td>\n",
       "      <td>1</td>\n",
       "      <td>9.0</td>\n",
       "      <td>Yes</td>\n",
       "      <td>No</td>\n",
       "      <td>0</td>\n",
       "    </tr>\n",
       "  </tbody>\n",
       "</table>\n",
       "</div>"
      ],
      "text/plain": [
       "   UserID  WindowID  Split          City State Country ZipCode   DegreeType  \\\n",
       "0      47         1  Train     Paramount    CA      US   90723  High School   \n",
       "1      72         1  Train       La Mesa    CA      US   91941     Master's   \n",
       "2      80         1  Train  Williamstown    NJ      US   08094  High School   \n",
       "3      98         1  Train       Astoria    NY      US   11105     Master's   \n",
       "4     123         1  Train   Baton Rouge    LA      US   70808   Bachelor's   \n",
       "\n",
       "                   Major       GraduationDate  WorkHistoryCount  \\\n",
       "0                    NaN  1999-06-01 00:00:00                 3   \n",
       "1           Anthropology  2011-01-01 00:00:00                10   \n",
       "2         Not Applicable  1985-06-01 00:00:00                 5   \n",
       "3             Journalism  2007-05-01 00:00:00                 3   \n",
       "4  Agricultural Business  2011-05-01 00:00:00                 1   \n",
       "\n",
       "   TotalYearsExperience CurrentlyEmployed ManagedOthers  ManagedHowMany  \n",
       "0                  10.0               Yes            No               0  \n",
       "1                   8.0               Yes            No               0  \n",
       "2                  11.0               Yes           Yes               5  \n",
       "3                   3.0               Yes            No               0  \n",
       "4                   9.0               Yes            No               0  "
      ]
     },
     "execution_count": 99,
     "metadata": {},
     "output_type": "execute_result"
    }
   ],
   "source": [
    "user_based_approach.head()"
   ]
  },
  {
   "cell_type": "code",
   "execution_count": 100,
   "metadata": {},
   "outputs": [],
   "source": [
    "user_based_approach['DegreeType'] = user_based_approach['DegreeType'].fillna('')\n",
    "user_based_approach['Major'] = user_based_approach['Major'].fillna('')\n",
    "user_based_approach['TotalYearsExperience'] = str(user_based_approach['TotalYearsExperience'].fillna(''))\n",
    "\n",
    "user_based_approach['DegreeType'] = user_based_approach['DegreeType'] + user_based_approach['Major'] + user_based_approach['TotalYearsExperience']\n"
   ]
  },
  {
   "cell_type": "code",
   "execution_count": 101,
   "metadata": {},
   "outputs": [],
   "source": [
    "tf = TfidfVectorizer(analyzer='word', ngram_range=(1, 2), min_df=1, stop_words='english')\n",
    "tfidf_matrix = tf.fit_transform(jobs_US_base_line['Description'])"
   ]
  },
  {
   "cell_type": "code",
   "execution_count": 102,
   "metadata": {},
   "outputs": [
    {
     "data": {
      "text/plain": [
       "(10000, 515343)"
      ]
     },
     "execution_count": 102,
     "metadata": {},
     "output_type": "execute_result"
    }
   ],
   "source": [
    "tfidf_matrix.shape"
   ]
  },
  {
   "cell_type": "code",
   "execution_count": 103,
   "metadata": {},
   "outputs": [],
   "source": [
    "cosine_sim = linear_kernel(tfidf_matrix, tfidf_matrix)"
   ]
  },
  {
   "cell_type": "code",
   "execution_count": 104,
   "metadata": {},
   "outputs": [
    {
     "data": {
      "text/plain": [
       "array([1.        , 0.04300443, 0.00643851, ..., 0.03807697, 0.03807697,\n",
       "       0.03807697])"
      ]
     },
     "execution_count": 104,
     "metadata": {},
     "output_type": "execute_result"
    }
   ],
   "source": [
    "cosine_sim[0]"
   ]
  },
  {
   "cell_type": "code",
   "execution_count": 105,
   "metadata": {},
   "outputs": [],
   "source": [
    "user_based_approach = user_based_approach.reset_index()\n",
    "userid = user_based_approach['UserID']\n",
    "indices = pd.Series(user_based_approach.index, index=user_based_approach['UserID'])"
   ]
  },
  {
   "cell_type": "code",
   "execution_count": 106,
   "metadata": {},
   "outputs": [],
   "source": [
    "def get_recommendations_userwise(userid):\n",
    "    try:\n",
    "        idx = indices[userid]\n",
    "        sim_scores = list(enumerate(cosine_sim[idx]))\n",
    "        sim_scores = sorted(sim_scores, key=lambda x: x[1], reverse=True)\n",
    "        user_indices = [i[0] for i in sim_scores]\n",
    "        return user_indices[0:11]\n",
    "    except Exception as e:\n",
    "        print(f\"KeyError: {e} - UserID' or 'JobID' does not exist in the DataFrame.\")\n",
    "        return None"
   ]
  },
  {
   "cell_type": "code",
   "execution_count": 107,
   "metadata": {},
   "outputs": [],
   "source": [
    "def get_job_id(usrid_list): \n",
    "    try:\n",
    "        # Filter the apps_training DataFrame to get jobs applied by users in the usrid_list\n",
    "        jobs_userwise = apps_training['UserID'].isin(usrid_list)\n",
    "        df1 = pd.DataFrame(data=apps_training[jobs_userwise], columns=['JobID'])\n",
    "        joblist = df1['JobID'].tolist()\n",
    "\n",
    "        # Filter the jobs DataFrame based on the joblist\n",
    "        Job_list = jobs['JobID'].isin(joblist)\n",
    "        df_temp = pd.DataFrame(data=jobs[Job_list], columns=['JobID', 'Title', 'Description', 'City', 'State'])\n",
    "        \n",
    "        return df_temp\n",
    "    except KeyError as e:\n",
    "        print(f\"KeyError: {e} - 'UserID' or 'JobID' does not exist in the DataFrame.\")\n",
    "        return None\n",
    "    \n",
    "    except Exception as e:\n",
    "        print(f\"An error occurred: {e}\")\n",
    "        return None\n"
   ]
  },
  {
   "cell_type": "code",
   "execution_count": 108,
   "metadata": {},
   "outputs": [
    {
     "name": "stdout",
     "output_type": "stream",
     "text": [
      "-----Top 10 Similar users with userId: 123------\n"
     ]
    },
    {
     "data": {
      "text/plain": [
       "[4, 23, 3376, 6005, 6308, 41, 56, 9812, 7697, 2168, 7374]"
      ]
     },
     "execution_count": 108,
     "metadata": {},
     "output_type": "execute_result"
    }
   ],
   "source": [
    "print (\"-----Top 10 Similar users with userId: 123------\")\n",
    "get_recommendations_userwise(123)"
   ]
  },
  {
   "cell_type": "code",
   "execution_count": 109,
   "metadata": {},
   "outputs": [
    {
     "data": {
      "text/html": [
       "<div>\n",
       "<style scoped>\n",
       "    .dataframe tbody tr th:only-of-type {\n",
       "        vertical-align: middle;\n",
       "    }\n",
       "\n",
       "    .dataframe tbody tr th {\n",
       "        vertical-align: top;\n",
       "    }\n",
       "\n",
       "    .dataframe thead th {\n",
       "        text-align: right;\n",
       "    }\n",
       "</style>\n",
       "<table border=\"1\" class=\"dataframe\">\n",
       "  <thead>\n",
       "    <tr style=\"text-align: right;\">\n",
       "      <th></th>\n",
       "      <th>JobID</th>\n",
       "      <th>Title</th>\n",
       "      <th>Description</th>\n",
       "      <th>City</th>\n",
       "      <th>State</th>\n",
       "    </tr>\n",
       "  </thead>\n",
       "  <tbody>\n",
       "    <tr>\n",
       "      <th>591999</th>\n",
       "      <td>97989</td>\n",
       "      <td>Distribution Warehouse Supervisor for Leading ...</td>\n",
       "      <td>Are you a take charge person looking for an op...</td>\n",
       "      <td>Winston Salem</td>\n",
       "      <td>NC</td>\n",
       "    </tr>\n",
       "    <tr>\n",
       "      <th>653535</th>\n",
       "      <td>586119</td>\n",
       "      <td>Operations Director</td>\n",
       "      <td>&lt;hr&gt;\\r&lt;p align=\"center\"&gt;Operations Director &lt;/...</td>\n",
       "      <td>Winston Salem</td>\n",
       "      <td>NC</td>\n",
       "    </tr>\n",
       "    <tr>\n",
       "      <th>667738</th>\n",
       "      <td>701596</td>\n",
       "      <td>Dermatology Pharmaceutical Sales Rep - Winston...</td>\n",
       "      <td>The Warner Chilcott Dermatology Specialty Sale...</td>\n",
       "      <td>Winston Salem</td>\n",
       "      <td>NC</td>\n",
       "    </tr>\n",
       "    <tr>\n",
       "      <th>678557</th>\n",
       "      <td>785425</td>\n",
       "      <td>Freight Broker</td>\n",
       "      <td>&lt;P&gt;The Freight Broker is responsible for gener...</td>\n",
       "      <td>Eden</td>\n",
       "      <td>NC</td>\n",
       "    </tr>\n",
       "    <tr>\n",
       "      <th>697110</th>\n",
       "      <td>931252</td>\n",
       "      <td>Assembler</td>\n",
       "      <td>&lt;p align=\"left\"&gt; &lt;strong&gt;Job Summary:     &lt;/st...</td>\n",
       "      <td>Winston Salem</td>\n",
       "      <td>NC</td>\n",
       "    </tr>\n",
       "    <tr>\n",
       "      <th>886911</th>\n",
       "      <td>244778</td>\n",
       "      <td>Receptionist</td>\n",
       "      <td>Our company is seeking a Receptionist for our ...</td>\n",
       "      <td>New York</td>\n",
       "      <td>NY</td>\n",
       "    </tr>\n",
       "    <tr>\n",
       "      <th>1082752</th>\n",
       "      <td>1026365</td>\n",
       "      <td>Executive Assistant Job</td>\n",
       "      <td>Executive Assistant\\r\\n\\r\\nJob ID #:  72866\\r\\...</td>\n",
       "      <td>Los Angeles</td>\n",
       "      <td>CA</td>\n",
       "    </tr>\n",
       "  </tbody>\n",
       "</table>\n",
       "</div>"
      ],
      "text/plain": [
       "           JobID                                              Title  \\\n",
       "591999     97989  Distribution Warehouse Supervisor for Leading ...   \n",
       "653535    586119                                Operations Director   \n",
       "667738    701596  Dermatology Pharmaceutical Sales Rep - Winston...   \n",
       "678557    785425                                     Freight Broker   \n",
       "697110    931252                                          Assembler   \n",
       "886911    244778                                       Receptionist   \n",
       "1082752  1026365                            Executive Assistant Job   \n",
       "\n",
       "                                               Description           City  \\\n",
       "591999   Are you a take charge person looking for an op...  Winston Salem   \n",
       "653535   <hr>\\r<p align=\"center\">Operations Director </...  Winston Salem   \n",
       "667738   The Warner Chilcott Dermatology Specialty Sale...  Winston Salem   \n",
       "678557   <P>The Freight Broker is responsible for gener...           Eden   \n",
       "697110   <p align=\"left\"> <strong>Job Summary:     </st...  Winston Salem   \n",
       "886911   Our company is seeking a Receptionist for our ...       New York   \n",
       "1082752  Executive Assistant\\r\\n\\r\\nJob ID #:  72866\\r\\...    Los Angeles   \n",
       "\n",
       "        State  \n",
       "591999     NC  \n",
       "653535     NC  \n",
       "667738     NC  \n",
       "678557     NC  \n",
       "697110     NC  \n",
       "886911     NY  \n",
       "1082752    CA  "
      ]
     },
     "execution_count": 109,
     "metadata": {},
     "output_type": "execute_result"
    }
   ],
   "source": [
    "get_job_id(get_recommendations_userwise(123))"
   ]
  },
  {
   "cell_type": "code",
   "execution_count": 110,
   "metadata": {},
   "outputs": [
    {
     "name": "stdout",
     "output_type": "stream",
     "text": [
      "-----Top 10 Similar users with userId: 47------\n"
     ]
    },
    {
     "data": {
      "text/plain": [
       "[0, 5906, 3771, 6293, 3557, 401, 2606, 3757, 3478, 3558, 2601]"
      ]
     },
     "execution_count": 110,
     "metadata": {},
     "output_type": "execute_result"
    }
   ],
   "source": [
    "print (\"-----Top 10 Similar users with userId: 47------\")\n",
    "get_recommendations_userwise(47)"
   ]
  },
  {
   "cell_type": "code",
   "execution_count": 111,
   "metadata": {},
   "outputs": [
    {
     "data": {
      "text/html": [
       "<div>\n",
       "<style scoped>\n",
       "    .dataframe tbody tr th:only-of-type {\n",
       "        vertical-align: middle;\n",
       "    }\n",
       "\n",
       "    .dataframe tbody tr th {\n",
       "        vertical-align: top;\n",
       "    }\n",
       "\n",
       "    .dataframe thead th {\n",
       "        text-align: right;\n",
       "    }\n",
       "</style>\n",
       "<table border=\"1\" class=\"dataframe\">\n",
       "  <thead>\n",
       "    <tr style=\"text-align: right;\">\n",
       "      <th></th>\n",
       "      <th>JobID</th>\n",
       "      <th>Title</th>\n",
       "      <th>Description</th>\n",
       "      <th>City</th>\n",
       "      <th>State</th>\n",
       "    </tr>\n",
       "  </thead>\n",
       "  <tbody>\n",
       "    <tr>\n",
       "      <th>285938</th>\n",
       "      <td>6153</td>\n",
       "      <td>Tax Accountant - Great Opportunity for the Gen...</td>\n",
       "      <td>&lt;b&gt;Tax Accountant - Great Learning Opportunity...</td>\n",
       "      <td>Costa Mesa</td>\n",
       "      <td>CA</td>\n",
       "    </tr>\n",
       "    <tr>\n",
       "      <th>902999</th>\n",
       "      <td>398596</td>\n",
       "      <td>Finance Manager (85K-115K + Bonus!!)</td>\n",
       "      <td>&lt;div&gt;\\r&lt;div&gt;\\r&lt;p&gt;&amp;nbsp;&lt;/p&gt;\\r&lt;p&gt;&lt;b&gt;&lt;i&gt;Ringside...</td>\n",
       "      <td>Pittsburgh</td>\n",
       "      <td>PA</td>\n",
       "    </tr>\n",
       "    <tr>\n",
       "      <th>917377</th>\n",
       "      <td>538325</td>\n",
       "      <td>Financial Analyst</td>\n",
       "      <td>&lt;strong&gt;Classification: &lt;/strong&gt;  Financial A...</td>\n",
       "      <td>Canonsburg</td>\n",
       "      <td>PA</td>\n",
       "    </tr>\n",
       "    <tr>\n",
       "      <th>934052</th>\n",
       "      <td>698346</td>\n",
       "      <td>Accounting Manager - 80K-110K + Bonus!!</td>\n",
       "      <td>&lt;div&gt;\\r&lt;p&gt;&lt;/p&gt;\\r&lt;p&gt;Ringside has partnered with...</td>\n",
       "      <td>Pittsburgh</td>\n",
       "      <td>PA</td>\n",
       "    </tr>\n",
       "    <tr>\n",
       "      <th>970753</th>\n",
       "      <td>1051953</td>\n",
       "      <td>Finance Manager</td>\n",
       "      <td>The Finance Manager will be responsible for pr...</td>\n",
       "      <td>Pittsburgh</td>\n",
       "      <td>PA</td>\n",
       "    </tr>\n",
       "  </tbody>\n",
       "</table>\n",
       "</div>"
      ],
      "text/plain": [
       "          JobID                                              Title  \\\n",
       "285938     6153  Tax Accountant - Great Opportunity for the Gen...   \n",
       "902999   398596               Finance Manager (85K-115K + Bonus!!)   \n",
       "917377   538325                                  Financial Analyst   \n",
       "934052   698346            Accounting Manager - 80K-110K + Bonus!!   \n",
       "970753  1051953                                    Finance Manager   \n",
       "\n",
       "                                              Description        City State  \n",
       "285938  <b>Tax Accountant - Great Learning Opportunity...  Costa Mesa    CA  \n",
       "902999  <div>\\r<div>\\r<p>&nbsp;</p>\\r<p><b><i>Ringside...  Pittsburgh    PA  \n",
       "917377  <strong>Classification: </strong>  Financial A...  Canonsburg    PA  \n",
       "934052  <div>\\r<p></p>\\r<p>Ringside has partnered with...  Pittsburgh    PA  \n",
       "970753  The Finance Manager will be responsible for pr...  Pittsburgh    PA  "
      ]
     },
     "execution_count": 111,
     "metadata": {},
     "output_type": "execute_result"
    }
   ],
   "source": [
    "get_job_id(get_recommendations_userwise(98))\n"
   ]
  },
  {
   "cell_type": "code",
   "execution_count": 112,
   "metadata": {},
   "outputs": [
    {
     "data": {
      "text/html": [
       "<div>\n",
       "<style scoped>\n",
       "    .dataframe tbody tr th:only-of-type {\n",
       "        vertical-align: middle;\n",
       "    }\n",
       "\n",
       "    .dataframe tbody tr th {\n",
       "        vertical-align: top;\n",
       "    }\n",
       "\n",
       "    .dataframe thead th {\n",
       "        text-align: right;\n",
       "    }\n",
       "</style>\n",
       "<table border=\"1\" class=\"dataframe\">\n",
       "  <thead>\n",
       "    <tr style=\"text-align: right;\">\n",
       "      <th></th>\n",
       "      <th>JobID</th>\n",
       "      <th>Title</th>\n",
       "      <th>Description</th>\n",
       "      <th>City</th>\n",
       "      <th>State</th>\n",
       "    </tr>\n",
       "  </thead>\n",
       "  <tbody>\n",
       "    <tr>\n",
       "      <th>286232</th>\n",
       "      <td>8334</td>\n",
       "      <td>Client Service Representative Job</td>\n",
       "      <td>Our Client Service Representatives make a diff...</td>\n",
       "      <td>Dallas</td>\n",
       "      <td>TX</td>\n",
       "    </tr>\n",
       "    <tr>\n",
       "      <th>291438</th>\n",
       "      <td>44797</td>\n",
       "      <td>Customer Service Representative</td>\n",
       "      <td>&lt;p&gt;APEX is a national company located in Plano...</td>\n",
       "      <td>Plano</td>\n",
       "      <td>TX</td>\n",
       "    </tr>\n",
       "    <tr>\n",
       "      <th>293478</th>\n",
       "      <td>61203</td>\n",
       "      <td>Customer Care Specialist (400-415)</td>\n",
       "      <td>&lt;br /&gt;\\r&lt;p&gt;Join the American Heart Association...</td>\n",
       "      <td>Richardson</td>\n",
       "      <td>TX</td>\n",
       "    </tr>\n",
       "    <tr>\n",
       "      <th>297037</th>\n",
       "      <td>90178</td>\n",
       "      <td>Response Center Agent-Dallas, TX</td>\n",
       "      <td>&lt;p&gt;&lt;b&gt;&lt;/b&gt;&amp;nbsp;&lt;/p&gt;\\r&lt;ul&gt;\\r    &lt;li&gt;Answering ...</td>\n",
       "      <td>Dallas</td>\n",
       "      <td>TX</td>\n",
       "    </tr>\n",
       "    <tr>\n",
       "      <th>334618</th>\n",
       "      <td>355910</td>\n",
       "      <td>Customer Support Agent</td>\n",
       "      <td>&lt;p&gt;&lt;strong&gt;Keystone Automotive Operations, Inc...</td>\n",
       "      <td>Carrollton</td>\n",
       "      <td>TX</td>\n",
       "    </tr>\n",
       "    <tr>\n",
       "      <th>352697</th>\n",
       "      <td>486778</td>\n",
       "      <td>Customer Service Rep</td>\n",
       "      <td>&lt;span&gt;We are looking for inbound Call Center C...</td>\n",
       "      <td>Dallas</td>\n",
       "      <td>TX</td>\n",
       "    </tr>\n",
       "    <tr>\n",
       "      <th>356112</th>\n",
       "      <td>511957</td>\n",
       "      <td>Administrative/Clerical/Accounting/Industrial/...</td>\n",
       "      <td>Carlton Staffing, a leading Staffing provider ...</td>\n",
       "      <td>Irving</td>\n",
       "      <td>TX</td>\n",
       "    </tr>\n",
       "    <tr>\n",
       "      <th>375515</th>\n",
       "      <td>649877</td>\n",
       "      <td>Healthcare Payment Posting -Hiring This Week!</td>\n",
       "      <td>As a payment posting representative, you will ...</td>\n",
       "      <td>Dallas</td>\n",
       "      <td>TX</td>\n",
       "    </tr>\n",
       "    <tr>\n",
       "      <th>391005</th>\n",
       "      <td>766258</td>\n",
       "      <td>Sr. Customer Service Representative</td>\n",
       "      <td>&lt;strong&gt;Classification: &lt;/strong&gt;  Customer Se...</td>\n",
       "      <td>Plano</td>\n",
       "      <td>TX</td>\n",
       "    </tr>\n",
       "    <tr>\n",
       "      <th>392936</th>\n",
       "      <td>778938</td>\n",
       "      <td>Customer Service Representative</td>\n",
       "      <td>&lt;span&gt;BakeMark USA, a nationwide manufacturer ...</td>\n",
       "      <td>Grand Prairie</td>\n",
       "      <td>TX</td>\n",
       "    </tr>\n",
       "    <tr>\n",
       "      <th>397441</th>\n",
       "      <td>809746</td>\n",
       "      <td>Vehicle Remarketing Clerk</td>\n",
       "      <td>&lt;p&gt;&lt;strong&gt;&lt;span&gt;&lt;br /&gt;\\rPOSITION&lt;/span&gt;&lt;/stro...</td>\n",
       "      <td>Irving</td>\n",
       "      <td>TX</td>\n",
       "    </tr>\n",
       "    <tr>\n",
       "      <th>762738</th>\n",
       "      <td>335132</td>\n",
       "      <td>Cashier</td>\n",
       "      <td>&lt;br /&gt;\\r&lt;div&gt;\\r&lt;p&gt;&lt;strong&gt;The Wash Tub&lt;/strong...</td>\n",
       "      <td>Georgetown</td>\n",
       "      <td>TX</td>\n",
       "    </tr>\n",
       "    <tr>\n",
       "      <th>784748</th>\n",
       "      <td>507614</td>\n",
       "      <td>Research Assistant</td>\n",
       "      <td>About EDR:\\r&lt;p&gt;&lt;span&gt;Environmental Data Resour...</td>\n",
       "      <td>Austin</td>\n",
       "      <td>TX</td>\n",
       "    </tr>\n",
       "    <tr>\n",
       "      <th>785912</th>\n",
       "      <td>516837</td>\n",
       "      <td>311 City CSR- Flex Hours</td>\n",
       "      <td>This 311 customer service representative Posit...</td>\n",
       "      <td>Austin</td>\n",
       "      <td>TX</td>\n",
       "    </tr>\n",
       "    <tr>\n",
       "      <th>807263</th>\n",
       "      <td>686406</td>\n",
       "      <td>Manager in Training</td>\n",
       "      <td>&lt;p&gt;&amp;nbsp;TLF is the world's leader in leather ...</td>\n",
       "      <td>Austin</td>\n",
       "      <td>TX</td>\n",
       "    </tr>\n",
       "    <tr>\n",
       "      <th>816177</th>\n",
       "      <td>754917</td>\n",
       "      <td>Part-Time Administrative Assistant</td>\n",
       "      <td>&lt;p&gt;&lt;strong&gt;Administrative Assistant&lt;/strong&gt;&lt;/...</td>\n",
       "      <td>Austin</td>\n",
       "      <td>TX</td>\n",
       "    </tr>\n",
       "    <tr>\n",
       "      <th>854361</th>\n",
       "      <td>1058896</td>\n",
       "      <td>HOUSEKEEPING &amp; LAUNDRY SUPERVISOR</td>\n",
       "      <td>&lt;div align=\"center\"&gt;&lt;strong&gt;HOUSEKEEPING &amp;amp;...</td>\n",
       "      <td>Georgetown</td>\n",
       "      <td>TX</td>\n",
       "    </tr>\n",
       "    <tr>\n",
       "      <th>857068</th>\n",
       "      <td>1083186</td>\n",
       "      <td>Customer service &amp; sales - Mon - Fri schedule</td>\n",
       "      <td>&lt;div align=\"center\"&gt;&lt;strong&gt;Apply and Intervie...</td>\n",
       "      <td>Austin</td>\n",
       "      <td>TX</td>\n",
       "    </tr>\n",
       "    <tr>\n",
       "      <th>902775</th>\n",
       "      <td>396096</td>\n",
       "      <td>Communications Planning Supervisor</td>\n",
       "      <td>The Communications Planning Supervisor is resp...</td>\n",
       "      <td>New York</td>\n",
       "      <td>NY</td>\n",
       "    </tr>\n",
       "    <tr>\n",
       "      <th>950594</th>\n",
       "      <td>859884</td>\n",
       "      <td>Marketing Manager - Non-Profit - New York City</td>\n",
       "      <td>&lt;p&gt;&lt;strong&gt;Company:&lt;/strong&gt; Non-profit Contin...</td>\n",
       "      <td>New York</td>\n",
       "      <td>NY</td>\n",
       "    </tr>\n",
       "    <tr>\n",
       "      <th>1018383</th>\n",
       "      <td>391704</td>\n",
       "      <td>Assembler - Manufacturing</td>\n",
       "      <td>&lt;B&gt;Company Description &lt;/B&gt;&lt;BR&gt;\\r&lt;BR&gt;\\r&lt;P&gt;&lt;STR...</td>\n",
       "      <td>Burlington</td>\n",
       "      <td>MA</td>\n",
       "    </tr>\n",
       "    <tr>\n",
       "      <th>1043931</th>\n",
       "      <td>653544</td>\n",
       "      <td>Assembly Specialist</td>\n",
       "      <td>&lt;p&gt;&lt;span&gt;&lt;strong&gt;Our client located in the&amp;nbs...</td>\n",
       "      <td>Chelmsford</td>\n",
       "      <td>MA</td>\n",
       "    </tr>\n",
       "  </tbody>\n",
       "</table>\n",
       "</div>"
      ],
      "text/plain": [
       "           JobID                                              Title  \\\n",
       "286232      8334                  Client Service Representative Job   \n",
       "291438     44797                    Customer Service Representative   \n",
       "293478     61203                 Customer Care Specialist (400-415)   \n",
       "297037     90178                   Response Center Agent-Dallas, TX   \n",
       "334618    355910                             Customer Support Agent   \n",
       "352697    486778                               Customer Service Rep   \n",
       "356112    511957  Administrative/Clerical/Accounting/Industrial/...   \n",
       "375515    649877      Healthcare Payment Posting -Hiring This Week!   \n",
       "391005    766258                Sr. Customer Service Representative   \n",
       "392936    778938                    Customer Service Representative   \n",
       "397441    809746                          Vehicle Remarketing Clerk   \n",
       "762738    335132                                            Cashier   \n",
       "784748    507614                                 Research Assistant   \n",
       "785912    516837                           311 City CSR- Flex Hours   \n",
       "807263    686406                                Manager in Training   \n",
       "816177    754917                 Part-Time Administrative Assistant   \n",
       "854361   1058896                  HOUSEKEEPING & LAUNDRY SUPERVISOR   \n",
       "857068   1083186      Customer service & sales - Mon - Fri schedule   \n",
       "902775    396096                 Communications Planning Supervisor   \n",
       "950594    859884     Marketing Manager - Non-Profit - New York City   \n",
       "1018383   391704                          Assembler - Manufacturing   \n",
       "1043931   653544                                Assembly Specialist   \n",
       "\n",
       "                                               Description           City  \\\n",
       "286232   Our Client Service Representatives make a diff...         Dallas   \n",
       "291438   <p>APEX is a national company located in Plano...          Plano   \n",
       "293478   <br />\\r<p>Join the American Heart Association...     Richardson   \n",
       "297037   <p><b></b>&nbsp;</p>\\r<ul>\\r    <li>Answering ...         Dallas   \n",
       "334618   <p><strong>Keystone Automotive Operations, Inc...     Carrollton   \n",
       "352697   <span>We are looking for inbound Call Center C...         Dallas   \n",
       "356112   Carlton Staffing, a leading Staffing provider ...         Irving   \n",
       "375515   As a payment posting representative, you will ...         Dallas   \n",
       "391005   <strong>Classification: </strong>  Customer Se...          Plano   \n",
       "392936   <span>BakeMark USA, a nationwide manufacturer ...  Grand Prairie   \n",
       "397441   <p><strong><span><br />\\rPOSITION</span></stro...         Irving   \n",
       "762738   <br />\\r<div>\\r<p><strong>The Wash Tub</strong...     Georgetown   \n",
       "784748   About EDR:\\r<p><span>Environmental Data Resour...         Austin   \n",
       "785912   This 311 customer service representative Posit...         Austin   \n",
       "807263   <p>&nbsp;TLF is the world's leader in leather ...         Austin   \n",
       "816177   <p><strong>Administrative Assistant</strong></...         Austin   \n",
       "854361   <div align=\"center\"><strong>HOUSEKEEPING &amp;...     Georgetown   \n",
       "857068   <div align=\"center\"><strong>Apply and Intervie...         Austin   \n",
       "902775   The Communications Planning Supervisor is resp...       New York   \n",
       "950594   <p><strong>Company:</strong> Non-profit Contin...       New York   \n",
       "1018383  <B>Company Description </B><BR>\\r<BR>\\r<P><STR...     Burlington   \n",
       "1043931  <p><span><strong>Our client located in the&nbs...     Chelmsford   \n",
       "\n",
       "        State  \n",
       "286232     TX  \n",
       "291438     TX  \n",
       "293478     TX  \n",
       "297037     TX  \n",
       "334618     TX  \n",
       "352697     TX  \n",
       "356112     TX  \n",
       "375515     TX  \n",
       "391005     TX  \n",
       "392936     TX  \n",
       "397441     TX  \n",
       "762738     TX  \n",
       "784748     TX  \n",
       "785912     TX  \n",
       "807263     TX  \n",
       "816177     TX  \n",
       "854361     TX  \n",
       "857068     TX  \n",
       "902775     NY  \n",
       "950594     NY  \n",
       "1018383    MA  \n",
       "1043931    MA  "
      ]
     },
     "execution_count": 112,
     "metadata": {},
     "output_type": "execute_result"
    }
   ],
   "source": [
    "get_job_id(get_recommendations_userwise(80))"
   ]
  },
  {
   "cell_type": "code",
   "execution_count": 113,
   "metadata": {},
   "outputs": [
    {
     "data": {
      "text/html": [
       "<div>\n",
       "<style scoped>\n",
       "    .dataframe tbody tr th:only-of-type {\n",
       "        vertical-align: middle;\n",
       "    }\n",
       "\n",
       "    .dataframe tbody tr th {\n",
       "        vertical-align: top;\n",
       "    }\n",
       "\n",
       "    .dataframe thead th {\n",
       "        text-align: right;\n",
       "    }\n",
       "</style>\n",
       "<table border=\"1\" class=\"dataframe\">\n",
       "  <thead>\n",
       "    <tr style=\"text-align: right;\">\n",
       "      <th></th>\n",
       "      <th>JobID</th>\n",
       "      <th>Title</th>\n",
       "      <th>Description</th>\n",
       "      <th>City</th>\n",
       "      <th>State</th>\n",
       "    </tr>\n",
       "  </thead>\n",
       "  <tbody>\n",
       "    <tr>\n",
       "      <th>190245</th>\n",
       "      <td>747352</td>\n",
       "      <td>Materials Manager Spring Valley (FT-varied) Co...</td>\n",
       "      <td>&lt;b&gt;Description/Purpose Of Position:&lt;/b&gt;\\r\\n Re...</td>\n",
       "      <td>Las Vegas</td>\n",
       "      <td>NV</td>\n",
       "    </tr>\n",
       "    <tr>\n",
       "      <th>456694</th>\n",
       "      <td>133569</td>\n",
       "      <td>Wireless Retail Sales Associate</td>\n",
       "      <td>&lt;p&gt;&lt;span&gt;Wireless Lifestyle is proud to be the...</td>\n",
       "      <td>Modesto</td>\n",
       "      <td>CA</td>\n",
       "    </tr>\n",
       "    <tr>\n",
       "      <th>924950</th>\n",
       "      <td>612647</td>\n",
       "      <td>Medical Records Clerk - WMG</td>\n",
       "      <td>&lt;br&gt;&lt;br&gt;&lt;b&gt;Department: &lt;/b&gt;WMG Rolling Road&lt;br...</td>\n",
       "      <td>Baltimore</td>\n",
       "      <td>MD</td>\n",
       "    </tr>\n",
       "  </tbody>\n",
       "</table>\n",
       "</div>"
      ],
      "text/plain": [
       "         JobID                                              Title  \\\n",
       "190245  747352  Materials Manager Spring Valley (FT-varied) Co...   \n",
       "456694  133569                    Wireless Retail Sales Associate   \n",
       "924950  612647                        Medical Records Clerk - WMG   \n",
       "\n",
       "                                              Description       City State  \n",
       "190245  <b>Description/Purpose Of Position:</b>\\r\\n Re...  Las Vegas    NV  \n",
       "456694  <p><span>Wireless Lifestyle is proud to be the...    Modesto    CA  \n",
       "924950  <br><br><b>Department: </b>WMG Rolling Road<br...  Baltimore    MD  "
      ]
     },
     "execution_count": 113,
     "metadata": {},
     "output_type": "execute_result"
    }
   ],
   "source": [
    "get_job_id(get_recommendations_userwise(72))\n"
   ]
  },
  {
   "cell_type": "code",
   "execution_count": 114,
   "metadata": {},
   "outputs": [
    {
     "data": {
      "text/plain": [
       "[1, 6051, 5868, 5159, 5351, 4796, 5117, 5409, 5244, 4728, 5479]"
      ]
     },
     "execution_count": 114,
     "metadata": {},
     "output_type": "execute_result"
    }
   ],
   "source": [
    "get_recommendations_userwise(72)"
   ]
  },
  {
   "cell_type": "code",
   "execution_count": 115,
   "metadata": {},
   "outputs": [
    {
     "data": {
      "text/html": [
       "<div>\n",
       "<style scoped>\n",
       "    .dataframe tbody tr th:only-of-type {\n",
       "        vertical-align: middle;\n",
       "    }\n",
       "\n",
       "    .dataframe tbody tr th {\n",
       "        vertical-align: top;\n",
       "    }\n",
       "\n",
       "    .dataframe thead th {\n",
       "        text-align: right;\n",
       "    }\n",
       "</style>\n",
       "<table border=\"1\" class=\"dataframe\">\n",
       "  <thead>\n",
       "    <tr style=\"text-align: right;\">\n",
       "      <th></th>\n",
       "      <th>JobID</th>\n",
       "      <th>Title</th>\n",
       "      <th>Description</th>\n",
       "      <th>City</th>\n",
       "      <th>State</th>\n",
       "    </tr>\n",
       "  </thead>\n",
       "  <tbody>\n",
       "    <tr>\n",
       "      <th>190245</th>\n",
       "      <td>747352</td>\n",
       "      <td>Materials Manager Spring Valley (FT-varied) Co...</td>\n",
       "      <td>&lt;b&gt;Description/Purpose Of Position:&lt;/b&gt;\\r\\n Re...</td>\n",
       "      <td>Las Vegas</td>\n",
       "      <td>NV</td>\n",
       "    </tr>\n",
       "    <tr>\n",
       "      <th>456694</th>\n",
       "      <td>133569</td>\n",
       "      <td>Wireless Retail Sales Associate</td>\n",
       "      <td>&lt;p&gt;&lt;span&gt;Wireless Lifestyle is proud to be the...</td>\n",
       "      <td>Modesto</td>\n",
       "      <td>CA</td>\n",
       "    </tr>\n",
       "    <tr>\n",
       "      <th>924950</th>\n",
       "      <td>612647</td>\n",
       "      <td>Medical Records Clerk - WMG</td>\n",
       "      <td>&lt;br&gt;&lt;br&gt;&lt;b&gt;Department: &lt;/b&gt;WMG Rolling Road&lt;br...</td>\n",
       "      <td>Baltimore</td>\n",
       "      <td>MD</td>\n",
       "    </tr>\n",
       "  </tbody>\n",
       "</table>\n",
       "</div>"
      ],
      "text/plain": [
       "         JobID                                              Title  \\\n",
       "190245  747352  Materials Manager Spring Valley (FT-varied) Co...   \n",
       "456694  133569                    Wireless Retail Sales Associate   \n",
       "924950  612647                        Medical Records Clerk - WMG   \n",
       "\n",
       "                                              Description       City State  \n",
       "190245  <b>Description/Purpose Of Position:</b>\\r\\n Re...  Las Vegas    NV  \n",
       "456694  <p><span>Wireless Lifestyle is proud to be the...    Modesto    CA  \n",
       "924950  <br><br><b>Department: </b>WMG Rolling Road<br...  Baltimore    MD  "
      ]
     },
     "execution_count": 115,
     "metadata": {},
     "output_type": "execute_result"
    }
   ],
   "source": [
    "get_job_id(get_recommendations_userwise(72))"
   ]
  },
  {
   "cell_type": "code",
   "execution_count": 116,
   "metadata": {},
   "outputs": [],
   "source": [
    "import pickle\n",
    "\n",
    "with open('eda_data.pkl', 'wb') as f:\n",
    "    pickle.dump({'apps_training': apps_training, 'jobs': jobs, 'cosine_sim': cosine_sim, 'indices': indices}, f)\n"
   ]
  }
 ],
 "metadata": {
  "kernelspec": {
   "display_name": "Python 3",
   "language": "python",
   "name": "python3"
  },
  "language_info": {
   "codemirror_mode": {
    "name": "ipython",
    "version": 3
   },
   "file_extension": ".py",
   "mimetype": "text/x-python",
   "name": "python",
   "nbconvert_exporter": "python",
   "pygments_lexer": "ipython3",
   "version": "3.12.4"
  }
 },
 "nbformat": 4,
 "nbformat_minor": 2
}
